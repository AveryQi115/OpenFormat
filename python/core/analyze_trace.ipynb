{
 "cells": [
  {
   "cell_type": "code",
   "execution_count": null,
   "metadata": {},
   "outputs": [],
   "source": [
    "%pwd"
   ]
  },
  {
   "cell_type": "code",
   "execution_count": 23,
   "metadata": {},
   "outputs": [],
   "source": [
    "file_name = 'float_trace.txt'\n",
    "def analyze_trace(file_name):\n",
    "    total = 0\n",
    "    out_file = open('pread64_trace_'+file_name, 'w')\n",
    "    with open(file_name, 'r') as f:\n",
    "        lines = f.readlines()\n",
    "    result = {}\n",
    "    for line in lines:\n",
    "        if line.startswith('pread64'):\n",
    "            size = int(line.split('=')[-1].strip())\n",
    "            pos = int(line.split('=')[-2].split(', ')[-1].replace(\")\",\"\"))\n",
    "            # print(pos, size)\n",
    "            out_file.write(str(pos)+' '+str(size)+'\\n')\n",
    "            total += size\n",
    "            if size in result:\n",
    "                result[size] += 1\n",
    "            else:\n",
    "                result[size] = 1\n",
    "    return dict(sorted(result.items())), total\n",
    "    # return dict(sorted(result.items(), key=lambda item: item[1], reverse=True))"
   ]
  },
  {
   "cell_type": "code",
   "execution_count": 24,
   "metadata": {},
   "outputs": [
    {
     "name": "stdout",
     "output_type": "stream",
     "text": [
      "float_trace.txt 156109113\n",
      "string_trace.txt 106598104\n",
      "int_trace.txt 39901415\n"
     ]
    }
   ],
   "source": [
    "files = ['float_trace.txt', 'string_trace.txt', 'int_trace.txt']\n",
    "for f in files:\n",
    "    result, total = analyze_trace(f)\n",
    "    print(f, total)"
   ]
  },
  {
   "cell_type": "code",
   "execution_count": 25,
   "metadata": {},
   "outputs": [
    {
     "name": "stdout",
     "output_type": "stream",
     "text": [
      "float_trace_pq.txt 51364590\n",
      "string_trace_pq.txt 108423725\n",
      "int_trace_pq.txt 37656438\n"
     ]
    }
   ],
   "source": [
    "files = ['float_trace_pq.txt', 'string_trace_pq.txt', 'int_trace_pq.txt']\n",
    "for f in files:\n",
    "    result, total = analyze_trace(f)\n",
    "    print(f, total)"
   ]
  },
  {
   "cell_type": "code",
   "execution_count": 28,
   "metadata": {},
   "outputs": [
    {
     "name": "stdout",
     "output_type": "stream",
     "text": [
      "3\n",
      "type: float\n",
      "orc      pq\n",
      "97545 86545\n",
      "type: string\n",
      "orc      pq\n",
      "160570 188001\n",
      "type: int\n",
      "orc      pq\n",
      "31718 64934\n"
     ]
    }
   ],
   "source": [
    "import os\n",
    "os.system('sync; echo 3 | sudo tee /proc/sys/vm/drop_caches')\n",
    "for t in ['float', 'string', 'int']:\n",
    "    print(f'type: {t}')\n",
    "    print('orc      pq')\n",
    "    orc_time = os.popen(f'./repro pread64_trace_{t}_trace.txt {t}_core_UNCOMPRESSED_speed_1_2147486647.orc').read().strip('\\n')\n",
    "    pq_time = os.popen(f'./repro pread64_trace_{t}_trace_pq.txt {t}_core_NONE_True_2147483647_2.6_2.0.parquet').read().strip('\\n')\n",
    "    print(f'{orc_time} {pq_time}')"
   ]
  },
  {
   "cell_type": "code",
   "execution_count": null,
   "metadata": {},
   "outputs": [],
   "source": []
  }
 ],
 "metadata": {
  "kernelspec": {
   "display_name": "Python 3.8.10 64-bit",
   "language": "python",
   "name": "python3"
  },
  "language_info": {
   "codemirror_mode": {
    "name": "ipython",
    "version": 3
   },
   "file_extension": ".py",
   "mimetype": "text/x-python",
   "name": "python",
   "nbconvert_exporter": "python",
   "pygments_lexer": "ipython3",
   "version": "3.8.10"
  },
  "orig_nbformat": 4,
  "vscode": {
   "interpreter": {
    "hash": "31f2aee4e71d21fbe5cf8b01ff0e069b9275f58929596ceb00d14d90e3e16cd6"
   }
  }
 },
 "nbformat": 4,
 "nbformat_minor": 2
}
