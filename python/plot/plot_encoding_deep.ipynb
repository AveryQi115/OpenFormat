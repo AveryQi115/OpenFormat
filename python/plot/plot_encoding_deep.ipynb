{
 "cells": [
  {
   "cell_type": "code",
   "execution_count": 20,
   "metadata": {},
   "outputs": [],
   "source": [
    "import matplotlib.pyplot as plt\n",
    "def analyze_run(l):\n",
    "    cur_run = None\n",
    "    cur_len = 0\n",
    "    result = {}\n",
    "    for i in l:\n",
    "        if cur_run == None:\n",
    "            cur_run = i\n",
    "            cur_len = 1\n",
    "        elif cur_run == i:\n",
    "            cur_len += 1\n",
    "        else:\n",
    "            if cur_len in result:\n",
    "                result[cur_len] += 1\n",
    "            else:\n",
    "                result[cur_len] = 1\n",
    "            cur_run = i\n",
    "            cur_len = 1\n",
    "    if cur_len in result:\n",
    "        result[cur_len] += 1\n",
    "    else:\n",
    "        result[cur_len] = 1\n",
    "    cur_run = i\n",
    "    cur_len = 1\n",
    "    return dict(sorted(result.items()))"
   ]
  },
  {
   "cell_type": "code",
   "execution_count": 21,
   "metadata": {},
   "outputs": [
    {
     "name": "stdout",
     "output_type": "stream",
     "text": [
      "{1: 141047, 2: 37798, 3: 9265, 4: 2103, 5: 456, 6: 97, 7: 27, 8: 10, 9: 2}\n"
     ]
    },
    {
     "data": {
      "image/png": "[encoded data removed]",
      "text/plain": [
       "<Figure size 432x288 with 1 Axes>"
      ]
     },
     "metadata": {
      "needs_background": "light"
     },
     "output_type": "display_data"
    }
   ],
   "source": [
    "# file = open('/root/arrow-private/cpp/Learn-to-Compress/data/bitmap_lyh/bitmap_random_1e-05_200000000.txt', 'r')\n",
    "import pandas as pd\n",
    "df = pd.read_csv('../data_gen/int_zipf0.2.csv')\n",
    "import matplotlib.pyplot as plt\n",
    "x =  list(range(1, 101))\n",
    "plt.scatter(x, df.iloc[0:100,0], s=1)\n",
    "# plt.plot(df.iloc[25500:25600,0])\n",
    "print(analyze_run(df.iloc[:,0]))"
   ]
  },
  {
   "cell_type": "code",
   "execution_count": 22,
   "metadata": {},
   "outputs": [
    {
     "name": "stdout",
     "output_type": "stream",
     "text": [
      "{1: 61202, 2: 25078, 3: 11829, 4: 5633, 5: 2667, 6: 1320, 7: 669, 8: 310, 9: 173, 10: 74, 11: 42, 12: 22, 13: 12, 14: 7, 15: 2, 16: 2, 17: 1, 20: 1, 22: 1, 30: 1, 38: 1, 39: 1, 40: 1, 41: 2, 42: 1, 43: 1, 44: 1, 45: 1, 47: 1, 49: 3, 50: 1, 51: 3, 52: 1, 54: 3, 55: 1, 56: 1, 57: 1, 58: 1, 59: 2, 61: 1, 62: 1, 63: 3, 64: 4, 66: 2, 67: 3, 68: 1, 69: 2, 70: 4, 71: 2, 72: 1, 73: 5, 74: 3, 75: 7, 76: 3, 77: 2, 78: 3, 79: 4, 80: 2, 81: 3, 82: 3, 83: 4, 84: 2, 85: 7, 86: 2, 87: 5, 88: 3, 89: 8, 90: 5, 91: 3, 92: 2, 93: 4, 94: 6, 95: 6, 96: 8, 97: 4, 98: 12, 99: 7, 100: 9, 101: 6, 102: 3, 103: 6, 104: 2, 105: 7, 106: 7, 107: 9, 108: 9, 109: 9, 110: 11, 111: 6, 112: 5, 113: 4, 114: 7, 115: 8, 116: 6, 117: 7, 118: 8, 119: 5, 120: 5, 121: 5, 122: 5, 123: 5, 124: 6, 125: 4, 126: 9, 127: 4, 128: 4, 129: 3, 130: 3, 131: 3, 132: 9, 133: 8, 134: 3, 135: 5, 136: 4, 137: 8, 138: 5, 139: 3, 140: 5, 141: 3, 142: 5, 143: 1, 144: 2, 145: 3, 146: 7, 147: 2, 148: 2, 149: 3, 150: 5, 151: 3, 152: 5, 153: 3, 154: 3, 155: 2, 156: 1, 157: 2, 158: 1, 159: 2, 160: 2, 161: 3, 162: 2, 163: 2, 164: 1, 165: 3, 166: 1, 167: 1, 168: 1, 170: 1, 172: 3, 174: 1, 176: 2, 177: 1, 183: 1, 190: 1}\n"
     ]
    },
    {
     "data": {
      "image/png": "[encoded data removed]",
      "text/plain": [
       "<Figure size 432x288 with 1 Axes>"
      ]
     },
     "metadata": {
      "needs_background": "light"
     },
     "output_type": "display_data"
    }
   ],
   "source": [
    "# file = open('/root/arrow-private/cpp/Learn-to-Compress/data/bitmap_lyh/bitmap_random_1e-05_200000000.txt', 'r')\n",
    "import pandas as pd\n",
    "import numpy as np\n",
    "df = pd.read_csv('../data_gen/int_zipf2.0.csv')\n",
    "import matplotlib.pyplot as plt\n",
    "x =  list(range(1, 101))\n",
    "plt.scatter(x, df.iloc[0:100,0], s=1)\n",
    "# plt.plot(df.iloc[25500:25600,0])\n",
    "print(analyze_run(df.iloc[:,0]))"
   ]
  },
  {
   "cell_type": "code",
   "execution_count": null,
   "metadata": {},
   "outputs": [],
   "source": []
  }
 ],
 "metadata": {
  "kernelspec": {
   "display_name": "Python 3.8.10 64-bit",
   "language": "python",
   "name": "python3"
  },
  "language_info": {
   "codemirror_mode": {
    "name": "ipython",
    "version": 3
   },
   "file_extension": ".py",
   "mimetype": "text/x-python",
   "name": "python",
   "nbconvert_exporter": "python",
   "pygments_lexer": "ipython3",
   "version": "3.8.10 (default, Nov 14 2022, 12:59:47) \n[GCC 9.4.0]"
  },
  "orig_nbformat": 4,
  "vscode": {
   "interpreter": {
    "hash": "31f2aee4e71d21fbe5cf8b01ff0e069b9275f58929596ceb00d14d90e3e16cd6"
   }
  }
 },
 "nbformat": 4,
 "nbformat_minor": 2
}
