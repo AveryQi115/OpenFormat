{
 "cells": [
  {
   "cell_type": "code",
   "execution_count": 1,
   "metadata": {},
   "outputs": [],
   "source": [
    "import pyarrow.dataset as ds"
   ]
  },
  {
   "cell_type": "code",
   "execution_count": 2,
   "metadata": {},
   "outputs": [],
   "source": [
    "file_name = '../lineitem_1M_shipdate.parquet'\n",
    "table = ds.dataset(file_name,\n",
    "                       format='parquet').to_table()"
   ]
  },
  {
   "cell_type": "code",
   "execution_count": 5,
   "metadata": {},
   "outputs": [],
   "source": [
    "import pyarrow.feather as feather\n",
    "feather_name = '../lineitem_1M_shipdate.arrow'\n",
    "feather.write_feather(table, feather_name)"
   ]
  },
  {
   "cell_type": "code",
   "execution_count": 11,
   "metadata": {},
   "outputs": [
    {
     "name": "stdout",
     "output_type": "stream",
     "text": [
      "read time (s): 21.959428071975708\n",
      "   l_orderkey  l_partkey  l_suppkey  l_linenumber  l_quantity  \\\n",
      "0    22142214    1881946      57001             7          19   \n",
      "1    22142214     283171      83172             2          14   \n",
      "2    22142214    1244480      94505             3          15   \n",
      "3    22142214     435548      10561             5          39   \n",
      "4    22142214     902141      77169             1          49   \n",
      "5    22142214     243344      18351             6           8   \n",
      "6    22142214    1973490      23529             4           8   \n",
      "\n",
      "   l_extendedprice  l_discount  l_tax l_returnflag l_linestatus  l_shipdate  \\\n",
      "0         36629.15        0.00   0.07            R            F  1992-01-02   \n",
      "1         16158.24        0.03   0.03            A            F  1992-02-08   \n",
      "2         21366.30        0.09   0.02            A            F  1992-02-11   \n",
      "3         57857.28        0.10   0.03            A            F  1992-02-14   \n",
      "4         56011.90        0.01   0.05            R            F  1992-03-16   \n",
      "5         10298.64        0.06   0.01            R            F  1992-04-12   \n",
      "6         12507.20        0.00   0.05            R            F  1992-04-15   \n",
      "\n",
      "  l_commitdate l_receiptdate     l_shipinstruct l_shipmode  \\\n",
      "0   1992-03-17    1992-01-03               NONE        AIR   \n",
      "1   1992-02-10    1992-02-17  DELIVER IN PERSON      TRUCK   \n",
      "2   1992-03-04    1992-03-05        COLLECT COD      TRUCK   \n",
      "3   1992-02-10    1992-03-01  DELIVER IN PERSON       RAIL   \n",
      "4   1992-02-10    1992-04-04   TAKE BACK RETURN      TRUCK   \n",
      "5   1992-03-15    1992-05-12  DELIVER IN PERSON        FOB   \n",
      "6   1992-03-26    1992-05-08               NONE        AIR   \n",
      "\n",
      "                               l_comment  \n",
      "0  nal packages-- furiously pending depo  \n",
      "1              s ideas sleep fluffily. b  \n",
      "2                       oost blithely ag  \n",
      "3                            ess pinto b  \n",
      "4       ions boost furiously alongside o  \n",
      "5          theodolites sleep bold grouch  \n",
      "6                           r dependenci  \n"
     ]
    }
   ],
   "source": [
    "import time\n",
    "begin = time.time()\n",
    "# dataset = ds.dataset(feather_name,\n",
    "                    #    format='feather')\n",
    "dataset = ds.dataset('../lineitem_1M_shipdate.parquet_ZSTD_speed_0.8_10000_[1]_0.01.orc',\n",
    "                       format='orc')\n",
    "table = dataset.to_table(filter=ds.field('l_orderkey') == 22142214)\n",
    "print(\"read time (s):\", time.time() - begin)\n",
    "print(table.to_pandas())"
   ]
  },
  {
   "cell_type": "code",
   "execution_count": null,
   "metadata": {},
   "outputs": [],
   "source": []
  }
 ],
 "metadata": {
  "kernelspec": {
   "display_name": "Python 3.8.10 64-bit",
   "language": "python",
   "name": "python3"
  },
  "language_info": {
   "codemirror_mode": {
    "name": "ipython",
    "version": 3
   },
   "file_extension": ".py",
   "mimetype": "text/x-python",
   "name": "python",
   "nbconvert_exporter": "python",
   "pygments_lexer": "ipython3",
   "version": "3.8.10"
  },
  "orig_nbformat": 4,
  "vscode": {
   "interpreter": {
    "hash": "31f2aee4e71d21fbe5cf8b01ff0e069b9275f58929596ceb00d14d90e3e16cd6"
   }
  }
 },
 "nbformat": 4,
 "nbformat_minor": 2
}
