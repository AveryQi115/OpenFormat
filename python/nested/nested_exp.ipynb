{
 "cells": [
  {
   "cell_type": "code",
   "execution_count": 3,
   "metadata": {},
   "outputs": [
    {
     "name": "stdout",
     "output_type": "stream",
     "text": [
      "/mnt/OpenFormat/python/nested\n",
      "loading config from /mnt/OpenFormat/python/experiments/pq_default.json ...\n",
      "loading config from /mnt/OpenFormat/python/experiments/orc_default.json ...\n"
     ]
    }
   ],
   "source": [
    "from pyarrow import json\n",
    "import os\n",
    "import sys\n",
    "import math\n",
    "import datetime\n",
    "import pathlib\n",
    "import pyarrow.parquet as pq\n",
    "import pyarrow.orc as po\n",
    "import time\n",
    "dir_path = pathlib.Path(os.path.abspath('')).resolve()\n",
    "print(dir_path)\n",
    "HOME_DIR = str(dir_path).split('/OpenFormat')[0]\n",
    "\n",
    "timestamp = datetime.datetime.now().strftime(\"%Y%m%d_%H%M%S\")\n",
    "\n",
    "PROJ_SRC_DIR = f'{HOME_DIR}/OpenFormat'\n",
    "sys.path.insert(1, f'{PROJ_SRC_DIR}')\n",
    "from python.scripts.utils import *\n",
    "from pyarrow import json\n",
    "\n",
    "pq_config = enumerate_config(f'{PROJ_SRC_DIR}/python/experiments/pq_default.json')\n",
    "orc_config = enumerate_config(f'{PROJ_SRC_DIR}/python/experiments/orc_default.json')\n",
    "pq_param = pq_config[0]\n",
    "orc_param = orc_config[0]"
   ]
  },
  {
   "cell_type": "code",
   "execution_count": 7,
   "metadata": {},
   "outputs": [
    {
     "name": "stdout",
     "output_type": "stream",
     "text": [
      "movies.json failed to parse\n",
      "users.json failed to parse\n",
      "shipwrecks.json failed to parse\n",
      "trips.json failed to parse\n",
      "companies.json failed to parse\n",
      "inspections.json failed to parse\n",
      "tweets.json failed to parse\n",
      "stories.json failed to parse\n",
      "routes.json failed to parse\n"
     ]
    }
   ],
   "source": [
    "# assign directory\n",
    "directory = './'\n",
    " \n",
    "for root, dirs, files in os.walk(directory):\n",
    "    for sample_dir in dirs:\n",
    "        if sample_dir.startswith('sample') == False:\n",
    "            continue\n",
    "        for root, dirs, files in os.walk(sample_dir):\n",
    "            for filename in files:\n",
    "                json_name = os.path.join(root, filename)\n",
    "                if json_name.endswith('.json') == False:\n",
    "                    continue\n",
    "                base_name = json_name.split('.')[0]\n",
    "                try:\n",
    "                    table = json.read_json(json_name)\n",
    "                    pq.write_table(table, f'{base_name}.parquet', **pq_param)\n",
    "                    po.write_table(table, f'{base_name}.orc', **orc_param)\n",
    "                except:\n",
    "                    print(f'{filename} failed to parse')"
   ]
  },
  {
   "cell_type": "code",
   "execution_count": 8,
   "metadata": {},
   "outputs": [
    {
     "name": "stdout",
     "output_type": "stream",
     "text": [
      "pq_size_sum: 147151212\n",
      "orc_size_sum: 130338778\n"
     ]
    }
   ],
   "source": [
    "pq_size_sum = 0\n",
    "orc_size_sum = 0\n",
    "for root, dirs, files in os.walk(directory):\n",
    "    for sample_dir in dirs:\n",
    "        if sample_dir.startswith('sample') == False:\n",
    "            continue\n",
    "        for root, dirs, files in os.walk(sample_dir):\n",
    "            for filename in files:\n",
    "                name = os.path.join(root, filename)\n",
    "                if name.endswith('.parquet'):\n",
    "                    pq_size_sum += os.path.getsize(name)\n",
    "                elif name.endswith('.orc'):\n",
    "                    orc_size_sum += os.path.getsize(name)\n",
    "print(f'pq_size_sum: {pq_size_sum}')\n",
    "print(f'orc_size_sum: {orc_size_sum}')"
   ]
  },
  {
   "cell_type": "code",
   "execution_count": 4,
   "metadata": {},
   "outputs": [
    {
     "name": "stdout",
     "output_type": "stream",
     "text": [
      "pq_size: 1766858930\n",
      "orc_size: 1676926899\n"
     ]
    }
   ],
   "source": [
    "from pyarrow import json\n",
    "json_name = 'arxiv-metadata-oai-snapshot.json'\n",
    "base_name = json_name.split('.json')[0]\n",
    "try:\n",
    "    table = json.read_json(json_name)\n",
    "    pq.write_table(table, f'{base_name}.parquet', **pq_param)\n",
    "    po.write_table(table, f'{base_name}.orc', **orc_param)\n",
    "except Exception as e:\n",
    "    print(e)\n",
    "    print(f'{json_name} failed to parse')\n",
    "print(f'pq_size: {os.path.getsize(f\"{base_name}.parquet\")}')\n",
    "print(f'orc_size: {os.path.getsize(f\"{base_name}.orc\")}')"
   ]
  },
  {
   "cell_type": "code",
   "execution_count": 31,
   "metadata": {},
   "outputs": [
    {
     "name": "stdout",
     "output_type": "stream",
     "text": [
      "3\n"
     ]
    },
    {
     "data": {
      "text/plain": [
       "0"
      ]
     },
     "execution_count": 31,
     "metadata": {},
     "output_type": "execute_result"
    }
   ],
   "source": [
    "os.system('sync; echo 3 | sudo tee /proc/sys/vm/drop_caches')"
   ]
  },
  {
   "cell_type": "code",
   "execution_count": 32,
   "metadata": {},
   "outputs": [
    {
     "name": "stdout",
     "output_type": "stream",
     "text": [
      "CPU times: user 3 µs, sys: 1e+03 ns, total: 4 µs\n",
      "Wall time: 8.82 µs\n"
     ]
    }
   ],
   "source": [
    "%time\n",
    "tmp_table = pq.read_table(f'{base_name}.parquet', \n",
    "              use_threads=False, pre_buffer=False, columns=['versions'])\n",
    "# print(tmp_table)"
   ]
  },
  {
   "cell_type": "code",
   "execution_count": 30,
   "metadata": {},
   "outputs": [
    {
     "name": "stdout",
     "output_type": "stream",
     "text": [
      "CPU times: user 3 µs, sys: 0 ns, total: 3 µs\n",
      "Wall time: 8.82 µs\n"
     ]
    }
   ],
   "source": [
    "%time\n",
    "tmp_table = po.read_table(f'{base_name}.orc',  columns=['versions'])\n",
    "# print(tmp_table)"
   ]
  },
  {
   "cell_type": "code",
   "execution_count": 18,
   "metadata": {},
   "outputs": [
    {
     "ename": "",
     "evalue": "",
     "output_type": "error",
     "traceback": [
      "\u001b[1;31mCanceled future for execute_request message before replies were done"
     ]
    },
    {
     "ename": "",
     "evalue": "",
     "output_type": "error",
     "traceback": [
      "\u001b[1;31mThe Kernel crashed while executing code in the the current cell or a previous cell. Please review the code in the cell(s) to identify a possible cause of the failure. Click <a href='https://aka.ms/vscodeJupyterKernelCrash'>here</a> for more info. View Jupyter <a href='command:jupyter.viewOutput'>log</a> for further details."
     ]
    }
   ],
   "source": [
    "# load json from dblp.v12.json and convert it into newline separated json\n",
    "import json as native_json\n",
    "js = native_json.load(open('dblp.v12.json'))\n",
    "with open('dblp.v12.jsonl', 'w') as f:\n"
   ]
  },
  {
   "cell_type": "code",
   "execution_count": 11,
   "metadata": {},
   "outputs": [
    {
     "name": "stdout",
     "output_type": "stream",
     "text": [
      "id: string\n",
      "submitter: string\n",
      "authors: string\n",
      "title: string\n",
      "comments: string\n",
      "journal-ref: string\n",
      "doi: string\n",
      "report-no: string\n",
      "categories: string\n",
      "license: string\n",
      "abstract: string\n",
      "versions: list<item: struct<version: string, created: string>>\n",
      "  child 0, item: struct<version: string, created: string>\n",
      "      child 0, version: string\n",
      "      child 1, created: string\n",
      "update_date: timestamp[s]\n",
      "authors_parsed: list<item: list<item: string>>\n",
      "  child 0, item: list<item: string>\n",
      "      child 0, item: string\n"
     ]
    }
   ],
   "source": [
    "print(table.schema)"
   ]
  },
  {
   "cell_type": "code",
   "execution_count": 15,
   "metadata": {},
   "outputs": [
    {
     "name": "stdout",
     "output_type": "stream",
     "text": [
      "3\n"
     ]
    },
    {
     "data": {
      "text/plain": [
       "0"
      ]
     },
     "execution_count": 15,
     "metadata": {},
     "output_type": "execute_result"
    }
   ],
   "source": [
    "os.system('sync; echo 3 | sudo tee /proc/sys/vm/drop_caches')"
   ]
  },
  {
   "cell_type": "code",
   "execution_count": 16,
   "metadata": {},
   "outputs": [
    {
     "name": "stdout",
     "output_type": "stream",
     "text": [
      "CPU times: user 2 µs, sys: 0 ns, total: 2 µs\n",
      "Wall time: 7.63 µs\n",
      "pq time: 1.037780523300171\n"
     ]
    }
   ],
   "source": [
    "%time\n",
    "begin = time.time()\n",
    "tmp_table = pq.read_table(f'./experiments/depth_size/62.parquet', \n",
    "              use_threads=False, pre_buffer=False)\n",
    "print(f'pq time: {time.time() - begin}')\n",
    "# print(tmp_table)"
   ]
  },
  {
   "cell_type": "code",
   "execution_count": 17,
   "metadata": {},
   "outputs": [
    {
     "name": "stdout",
     "output_type": "stream",
     "text": [
      "CPU times: user 2 µs, sys: 1 µs, total: 3 µs\n",
      "Wall time: 7.39 µs\n",
      "orc time: 3.3405394554138184\n"
     ]
    }
   ],
   "source": [
    "%time\n",
    "begin = time.time()\n",
    "tmp_table = po.read_table(f'./experiments/depth_size/62.orc')\n",
    "print(f'orc time: {time.time() - begin}')"
   ]
  },
  {
   "cell_type": "code",
   "execution_count": null,
   "metadata": {},
   "outputs": [],
   "source": []
  }
 ],
 "metadata": {
  "kernelspec": {
   "display_name": "Python 3",
   "language": "python",
   "name": "python3"
  },
  "language_info": {
   "codemirror_mode": {
    "name": "ipython",
    "version": 3
   },
   "file_extension": ".py",
   "mimetype": "text/x-python",
   "name": "python",
   "nbconvert_exporter": "python",
   "pygments_lexer": "ipython3",
   "version": "3.8.10"
  },
  "orig_nbformat": 4,
  "vscode": {
   "interpreter": {
    "hash": "31f2aee4e71d21fbe5cf8b01ff0e069b9275f58929596ceb00d14d90e3e16cd6"
   }
  }
 },
 "nbformat": 4,
 "nbformat_minor": 2
}
