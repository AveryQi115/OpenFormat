{
 "cells": [
  {
   "cell_type": "code",
   "execution_count": 30,
   "metadata": {},
   "outputs": [
    {
     "name": "stdout",
     "output_type": "stream",
     "text": [
      "[    1    19   195   962     3    23     1     4  9024     1 69646     2\n",
      "     2     7     2     4     1     3 11163  3393     8     3     5     1\n",
      "     1   121   203     4    24    25  2106     1   709     3 50882     3\n",
      "    68     4     3   302  6028     1     1     6     2    37     8     3\n",
      "    11    21     5    59     1     2     1   147   132    13    10  1012\n",
      "   176  2654     1   124     2     2     1   859     1   111     5   221\n",
      "     1    23     1     6     1   101     2     5   519     1    21     4\n",
      "     2     3     2  2089    26     1     6     4     2     1     2     7\n",
      "     1     1   260    13]\n"
     ]
    }
   ],
   "source": [
    "from scipy.special import zeta\n",
    "import matplotlib.pyplot as plt\n",
    "import scipy\n",
    "from scipy.stats import skewnorm\n",
    "import numpy as np\n",
    "# a = 4\n",
    "# r = skewnorm.rvs(a, size=1000)\n",
    "# print(r)\n",
    "a = 1.3\n",
    "n = 100\n",
    "s = np.random.zipf(a, n)\n",
    "print(s)\n"
   ]
  },
  {
   "cell_type": "code",
   "execution_count": 31,
   "metadata": {},
   "outputs": [
    {
     "name": "stdout",
     "output_type": "stream",
     "text": [
      "[22 12  8  6]\n"
     ]
    }
   ],
   "source": [
    "count = np.bincount(s)\n",
    "print(count[1:5])\n",
    "# k = np.arange(1, s.max() + 1)\n",
    "# plt.bar(k, count[1:], alpha=0.5, label='sample count')\n",
    "# plt.plot(k, n*(1/k**a)/zeta(a), 'k.-', alpha=0.5,\n",
    "#          label='expected count')\n",
    "# plt.semilogy()\n",
    "# plt.grid(alpha=0.4)\n",
    "# plt.legend()\n",
    "# plt.title(f'Zipf sample, a={a}, size={n}')\n",
    "# plt.show()"
   ]
  },
  {
   "cell_type": "code",
   "execution_count": 5,
   "metadata": {},
   "outputs": [],
   "source": [
    "import string\n",
    "import random\n",
    "def generate_string(length):\n",
    "    return ''.join(random.choice(\n",
    "        string.ascii_letters + string.digits + string.punctuation) for i in range(length))\n",
    "\n",
    "def generate_column(str_len, num_rows, zipf_a):\n",
    "    string_cache = {}\n",
    "    samples = np.random.zipf(zipf_a, num_rows)\n",
    "    result = []\n",
    "    for i in samples:\n",
    "        if i not in string_cache:\n",
    "            string_cache[i] = generate_string(str_len)\n",
    "        result.append(string_cache[i])\n",
    "    return result"
   ]
  },
  {
   "cell_type": "code",
   "execution_count": 6,
   "metadata": {},
   "outputs": [
    {
     "name": "stdout",
     "output_type": "stream",
     "text": [
      "<{ly0\n"
     ]
    }
   ],
   "source": [
    "print(generate_string(5))"
   ]
  },
  {
   "cell_type": "code",
   "execution_count": 12,
   "metadata": {},
   "outputs": [],
   "source": [
    "import csv\n",
    "col = generate_column(20, 20000000, 2)\n",
    "cols = []\n",
    "cols += [col]*10\n",
    "rows = zip(*cols)\n",
    "with open('data.csv', 'w') as f:\n",
    "    writer = csv.writer(f)\n",
    "    for row in rows:\n",
    "        writer.writerow(row)"
   ]
  },
  {
   "cell_type": "code",
   "execution_count": null,
   "metadata": {},
   "outputs": [],
   "source": []
  }
 ],
 "metadata": {
  "kernelspec": {
   "display_name": "Python 3.8.10 64-bit",
   "language": "python",
   "name": "python3"
  },
  "language_info": {
   "codemirror_mode": {
    "name": "ipython",
    "version": 3
   },
   "file_extension": ".py",
   "mimetype": "text/x-python",
   "name": "python",
   "nbconvert_exporter": "python",
   "pygments_lexer": "ipython3",
   "version": "3.8.10"
  },
  "orig_nbformat": 4,
  "vscode": {
   "interpreter": {
    "hash": "31f2aee4e71d21fbe5cf8b01ff0e069b9275f58929596ceb00d14d90e3e16cd6"
   }
  }
 },
 "nbformat": 4,
 "nbformat_minor": 2
}
