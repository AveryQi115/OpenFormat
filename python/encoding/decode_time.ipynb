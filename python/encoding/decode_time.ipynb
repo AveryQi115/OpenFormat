{
 "cells": [
  {
   "cell_type": "code",
   "execution_count": 1,
   "metadata": {},
   "outputs": [
    {
     "name": "stdout",
     "output_type": "stream",
     "text": [
      "/home/haoyuq/EvaluationOfColumnarFormats/OpenFormat/OpenFormat-Public/python/encoding\n"
     ]
    }
   ],
   "source": [
    "import json\n",
    "import os\n",
    "import sys\n",
    "import math\n",
    "import datetime\n",
    "import pathlib\n",
    "\n",
    "dir_path = pathlib.Path(os.path.abspath('')).resolve()\n",
    "print(dir_path)\n",
    "HOME_DIR = str(dir_path).split('/OpenFormat')[0]\n",
    "\n",
    "timestamp = datetime.datetime.now().strftime(\"%Y%m%d_%H%M%S\")\n",
    "\n",
    "PROJ_SRC_DIR = f'{HOME_DIR}/OpenFormat/OpenFormat-Public'\n",
    "sys.path.insert(1, f'{PROJ_SRC_DIR}')\n",
    "from python.scripts.utils import *\n",
    "num_rows = 1000 * 1000\n",
    "num_cols = 20\n",
    "workload_list = ['int', 'float', 'string']\n",
    "scan_exec_pq = f'/home/haoyuq/EvaluationOfColumnarFormats/arrow-private/arrow-Public/cpp/out/build/openformat-release-static/release/parquet-scan-columnbatch'"
   ]
  },
  {
   "cell_type": "code",
   "execution_count": 2,
   "metadata": {},
   "outputs": [
    {
     "name": "stdout",
     "output_type": "stream",
     "text": [
      "/home/haoyuq/EvaluationOfColumnarFormats/OpenFormat/OpenFormat-Public/benchmark/generator_v2\n",
      "Finish core dataset! 🎉🎉🎉🎉🎉🎉\n",
      "Generating Done!!\n",
      "🤔 INFO: too many collisions in int_unique_list, 20539 values just use (max_value + 1)!\n",
      "🤔 INFO: too many collisions in int_unique_list, 7459 values just use (max_value + 1)!\n",
      "Finish core dataset! 🎉🎉🎉🎉🎉🎉\n",
      "Generating Done!!\n",
      "Finish core dataset! 🎉🎉🎉🎉🎉🎉\n",
      "Generating Done!!\n",
      "/home/haoyuq/EvaluationOfColumnarFormats/OpenFormat/OpenFormat-Public/python/encoding\n",
      "CPU times: user 25.6 ms, sys: 8.89 ms, total: 34.5 ms\n",
      "Wall time: 5min 8s\n"
     ]
    }
   ],
   "source": [
    "%%time\n",
    "# generate csv files\n",
    "os.chdir(f'{PROJ_SRC_DIR}/benchmark/generator_v2')\n",
    "!pwd\n",
    "for wl in workload_list:\n",
    "    base_name = f'{wl}_r{num_rows}_c{num_cols}'\n",
    "    os.system(f'python3 gen_workloads.py \\\n",
    "        {wl} {num_rows} {num_cols} {base_name}')\n",
    "    os.system(f'cp -r {base_name} {dir_path} && \\\n",
    "        rm -r {base_name}')\n",
    "os.chdir(dir_path)\n",
    "!pwd\n"
   ]
  },
  {
   "cell_type": "code",
   "execution_count": 7,
   "metadata": {},
   "outputs": [
    {
     "name": "stdout",
     "output_type": "stream",
     "text": [
      "loading config from /home/haoyuq/EvaluationOfColumnarFormats/OpenFormat/OpenFormat-Public/python/experiments/pq_encoding.json ...\n",
      "loading config from /home/haoyuq/EvaluationOfColumnarFormats/OpenFormat/OpenFormat-Public/python/experiments/orc_encoding.json ...\n",
      "[{'compression': 'NONE', 'use_dictionary': True, 'dictionary_pagesize_limit': 2147483647, 'version': '2.6', 'data_page_version': '2.0'}]\n"
     ]
    }
   ],
   "source": [
    "pq_config = enumerate_config(f'{PROJ_SRC_DIR}/python/experiments/pq_encoding.json')\n",
    "orc_config = enumerate_config(f'{PROJ_SRC_DIR}/python/experiments/orc_encoding.json')\n",
    "pq_name_suffix = '_' + \"_\".join([str(i) for i in list(pq_config[0].values())]) + '.parquet'\n",
    "orc_name_suffix = '_' + \"_\".join([str(i) for i in list(orc_config[0].values())]) + '.orc'\n",
    "print(pq_config)"
   ]
  },
  {
   "cell_type": "code",
   "execution_count": 5,
   "metadata": {},
   "outputs": [
    {
     "name": "stderr",
     "output_type": "stream",
     "text": [
      "[sudo] password for haoyuq: "
     ]
    },
    {
     "name": "stdout",
     "output_type": "stream",
     "text": [
      "loading config from ./experiments/pq_encoding.json ...\n",
      "----Running experiment: 1 out of 1----\n",
      "NONE_True_2147483647_2.6_2.0\n",
      "write parquet time (s): 0.6683943271636963\n"
     ]
    },
    {
     "name": "stderr",
     "output_type": "stream",
     "text": [
      "[sudo] password for haoyuq: "
     ]
    },
    {
     "name": "stdout",
     "output_type": "stream",
     "text": [
      "loading config from ./experiments/orc_encoding.json ...\n",
      "----Running experiment:----\n",
      "UNCOMPRESSED_speed_1_2147486647\n",
      "write orc time (s): 2.1885080337524414\n"
     ]
    },
    {
     "name": "stderr",
     "output_type": "stream",
     "text": [
      "[sudo] password for haoyuq: "
     ]
    },
    {
     "name": "stdout",
     "output_type": "stream",
     "text": [
      "loading config from ./experiments/pq_encoding.json ...\n",
      "----Running experiment: 1 out of 1----\n",
      "NONE_True_2147483647_2.6_2.0\n",
      "write parquet time (s): 1.2404217720031738\n"
     ]
    },
    {
     "name": "stderr",
     "output_type": "stream",
     "text": [
      "[sudo] password for haoyuq: "
     ]
    },
    {
     "name": "stdout",
     "output_type": "stream",
     "text": [
      "loading config from ./experiments/orc_encoding.json ...\n",
      "----Running experiment:----\n",
      "UNCOMPRESSED_speed_1_2147486647\n",
      "write orc time (s): 13.134593963623047\n"
     ]
    },
    {
     "name": "stderr",
     "output_type": "stream",
     "text": [
      "[sudo] password for haoyuq: "
     ]
    },
    {
     "name": "stdout",
     "output_type": "stream",
     "text": [
      "loading config from ./experiments/pq_encoding.json ...\n",
      "----Running experiment: 1 out of 1----\n",
      "NONE_True_2147483647_2.6_2.0\n",
      "write parquet time (s): 1.4973573684692383\n"
     ]
    },
    {
     "name": "stderr",
     "output_type": "stream",
     "text": [
      "[sudo] password for haoyuq: "
     ]
    },
    {
     "name": "stdout",
     "output_type": "stream",
     "text": [
      "loading config from ./experiments/orc_encoding.json ...\n",
      "----Running experiment:----\n",
      "UNCOMPRESSED_speed_1_2147486647\n",
      "write orc time (s): 11.838960886001587\n"
     ]
    }
   ],
   "source": [
    "os.chdir(f'{PROJ_SRC_DIR}/python')\n",
    "my_password = ''\n",
    "# workload_lists = ['core', 'geo', 'classic', 'log', 'ml']\n",
    "for wl in workload_list:\n",
    "    base_name = f'{wl}_r{num_rows}_c{num_cols}'\n",
    "    os.system(f'cp encoding/{base_name}/gen_data/{base_name}.csv data_gen')\n",
    "    os.system(f'echo {my_password} | sudo -S /home/haoyuq/miniconda3/envs/gen/bin/python scripts/parquet_exp.py {base_name} pq_encoding -r=false -o=false')\n",
    "    os.system(f'echo {my_password} | sudo -S /home/haoyuq/miniconda3/envs/gen/bin/python scripts/orc_exp.py {base_name} orc_encoding -r=false -o=false')\n",
    "    # orc_schema = open(f'encoding/{base_name}/gen_data/{base_name}_orc_schema.txt', 'r').read()\n",
    "    # os.system(f'{HOME_DIR}/orc/build/tools/src/csv-import \\\"{orc_schema}\\\" \\\n",
    "    #         encoding/{base_name}/gen_data/{base_name}.csv {base_name}.orc')\n",
    "    os.system(f'mv {base_name}{pq_name_suffix} encoding/{base_name}.parquet')\n",
    "    os.system(f'mv {base_name}{orc_name_suffix} encoding/{base_name}.orc')\n",
    "    # os.system(f'mv {base_name}.orc encoding/{base_name}.orc')\n",
    "os.chdir(f'{PROJ_SRC_DIR}/python/encoding')"
   ]
  },
  {
   "attachments": {},
   "cell_type": "markdown",
   "metadata": {},
   "source": [
    "# RLE breakdown"
   ]
  },
  {
   "cell_type": "code",
   "execution_count": 21,
   "metadata": {},
   "outputs": [],
   "source": [
    "run_list = [2, 3, 4, 5,6,7,8, 9,10]"
   ]
  },
  {
   "cell_type": "code",
   "execution_count": 22,
   "metadata": {},
   "outputs": [],
   "source": [
    "my_password = ''"
   ]
  },
  {
   "cell_type": "code",
   "execution_count": 7,
   "metadata": {},
   "outputs": [
    {
     "name": "stdout",
     "output_type": "stream",
     "text": [
      "CPU times: user 3 µs, sys: 2 µs, total: 5 µs\n",
      "Wall time: 6.44 µs\n"
     ]
    },
    {
     "name": "stderr",
     "output_type": "stream",
     "text": [
      "[sudo] password for haoyuq: [sudo] password for haoyuq: [sudo] password for haoyuq: [sudo] password for haoyuq: [sudo] password for haoyuq: [sudo] password for haoyuq: [sudo] password for haoyuq: [sudo] password for haoyuq: [sudo] password for haoyuq: [sudo] password for haoyuq: "
     ]
    },
    {
     "name": "stdout",
     "output_type": "stream",
     "text": [
      "loading config from ./experiments/pq_encoding.json ...\n",
      "----Running experiment: 1 out of 1----\n",
      "NONE_True_2147483647_2.6_2.0\n",
      "write parquet time (s): 0.6561338901519775\n"
     ]
    },
    {
     "name": "stderr",
     "output_type": "stream",
     "text": [
      "[sudo] password for haoyuq: "
     ]
    },
    {
     "name": "stdout",
     "output_type": "stream",
     "text": [
      "loading config from ./experiments/orc_encoding.json ...\n",
      "----Running experiment:----\n",
      "UNCOMPRESSED_speed_1_2147486647\n",
      "write orc time (s): 2.435835361480713\n"
     ]
    },
    {
     "name": "stderr",
     "output_type": "stream",
     "text": [
      "[sudo] password for haoyuq: "
     ]
    },
    {
     "name": "stdout",
     "output_type": "stream",
     "text": [
      "loading config from ./experiments/pq_encoding.json ...\n",
      "----Running experiment: 1 out of 1----\n",
      "NONE_True_2147483647_2.6_2.0\n",
      "write parquet time (s): 0.6405761241912842\n"
     ]
    },
    {
     "name": "stderr",
     "output_type": "stream",
     "text": [
      "[sudo] password for haoyuq: "
     ]
    },
    {
     "name": "stdout",
     "output_type": "stream",
     "text": [
      "loading config from ./experiments/orc_encoding.json ...\n",
      "----Running experiment:----\n",
      "UNCOMPRESSED_speed_1_2147486647\n",
      "write orc time (s): 2.13786244392395\n"
     ]
    },
    {
     "name": "stderr",
     "output_type": "stream",
     "text": [
      "[sudo] password for haoyuq: "
     ]
    },
    {
     "name": "stdout",
     "output_type": "stream",
     "text": [
      "loading config from ./experiments/pq_encoding.json ...\n",
      "----Running experiment: 1 out of 1----\n",
      "NONE_True_2147483647_2.6_2.0\n",
      "write parquet time (s): 0.6498467922210693\n"
     ]
    },
    {
     "name": "stderr",
     "output_type": "stream",
     "text": [
      "[sudo] password for haoyuq: "
     ]
    },
    {
     "name": "stdout",
     "output_type": "stream",
     "text": [
      "loading config from ./experiments/orc_encoding.json ...\n",
      "----Running experiment:----\n",
      "UNCOMPRESSED_speed_1_2147486647\n",
      "write orc time (s): 2.0574522018432617\n"
     ]
    },
    {
     "name": "stderr",
     "output_type": "stream",
     "text": [
      "[sudo] password for haoyuq: "
     ]
    },
    {
     "name": "stdout",
     "output_type": "stream",
     "text": [
      "loading config from ./experiments/pq_encoding.json ...\n",
      "----Running experiment: 1 out of 1----\n",
      "NONE_True_2147483647_2.6_2.0\n",
      "write parquet time (s): 0.6417257785797119\n"
     ]
    },
    {
     "name": "stderr",
     "output_type": "stream",
     "text": [
      "[sudo] password for haoyuq: "
     ]
    },
    {
     "name": "stdout",
     "output_type": "stream",
     "text": [
      "loading config from ./experiments/orc_encoding.json ...\n",
      "----Running experiment:----\n",
      "UNCOMPRESSED_speed_1_2147486647\n",
      "write orc time (s): 1.9925737380981445\n"
     ]
    },
    {
     "name": "stderr",
     "output_type": "stream",
     "text": [
      "[sudo] password for haoyuq: "
     ]
    },
    {
     "name": "stdout",
     "output_type": "stream",
     "text": [
      "loading config from ./experiments/pq_encoding.json ...\n",
      "----Running experiment: 1 out of 1----\n",
      "NONE_True_2147483647_2.6_2.0\n",
      "write parquet time (s): 0.6426141262054443\n"
     ]
    },
    {
     "name": "stderr",
     "output_type": "stream",
     "text": [
      "[sudo] password for haoyuq: "
     ]
    },
    {
     "name": "stdout",
     "output_type": "stream",
     "text": [
      "loading config from ./experiments/orc_encoding.json ...\n",
      "----Running experiment:----\n",
      "UNCOMPRESSED_speed_1_2147486647\n",
      "write orc time (s): 1.954735279083252\n"
     ]
    },
    {
     "name": "stderr",
     "output_type": "stream",
     "text": [
      "[sudo] password for haoyuq: "
     ]
    },
    {
     "name": "stdout",
     "output_type": "stream",
     "text": [
      "loading config from ./experiments/pq_encoding.json ...\n",
      "----Running experiment: 1 out of 1----\n",
      "NONE_True_2147483647_2.6_2.0\n",
      "write parquet time (s): 0.6407105922698975\n"
     ]
    },
    {
     "name": "stderr",
     "output_type": "stream",
     "text": [
      "[sudo] password for haoyuq: "
     ]
    },
    {
     "name": "stdout",
     "output_type": "stream",
     "text": [
      "loading config from ./experiments/orc_encoding.json ...\n",
      "----Running experiment:----\n",
      "UNCOMPRESSED_speed_1_2147486647\n",
      "write orc time (s): 1.9100356101989746\n"
     ]
    },
    {
     "name": "stderr",
     "output_type": "stream",
     "text": [
      "[sudo] password for haoyuq: "
     ]
    },
    {
     "name": "stdout",
     "output_type": "stream",
     "text": [
      "loading config from ./experiments/pq_encoding.json ...\n",
      "----Running experiment: 1 out of 1----\n",
      "NONE_True_2147483647_2.6_2.0\n",
      "write parquet time (s): 0.6202132701873779\n"
     ]
    },
    {
     "name": "stderr",
     "output_type": "stream",
     "text": [
      "[sudo] password for haoyuq: "
     ]
    },
    {
     "name": "stdout",
     "output_type": "stream",
     "text": [
      "loading config from ./experiments/orc_encoding.json ...\n",
      "----Running experiment:----\n",
      "UNCOMPRESSED_speed_1_2147486647\n",
      "write orc time (s): 2.069932699203491\n"
     ]
    },
    {
     "name": "stderr",
     "output_type": "stream",
     "text": [
      "[sudo] password for haoyuq: "
     ]
    },
    {
     "name": "stdout",
     "output_type": "stream",
     "text": [
      "loading config from ./experiments/pq_encoding.json ...\n",
      "----Running experiment: 1 out of 1----\n",
      "NONE_True_2147483647_2.6_2.0\n",
      "write parquet time (s): 0.6248211860656738\n"
     ]
    },
    {
     "name": "stderr",
     "output_type": "stream",
     "text": [
      "[sudo] password for haoyuq: "
     ]
    },
    {
     "name": "stdout",
     "output_type": "stream",
     "text": [
      "loading config from ./experiments/orc_encoding.json ...\n",
      "----Running experiment:----\n",
      "UNCOMPRESSED_speed_1_2147486647\n",
      "write orc time (s): 1.8508849143981934\n"
     ]
    },
    {
     "name": "stderr",
     "output_type": "stream",
     "text": [
      "[sudo] password for haoyuq: "
     ]
    },
    {
     "name": "stdout",
     "output_type": "stream",
     "text": [
      "loading config from ./experiments/pq_encoding.json ...\n",
      "----Running experiment: 1 out of 1----\n",
      "NONE_True_2147483647_2.6_2.0\n",
      "write parquet time (s): 0.6134727001190186\n"
     ]
    },
    {
     "name": "stderr",
     "output_type": "stream",
     "text": [
      "[sudo] password for haoyuq: "
     ]
    },
    {
     "name": "stdout",
     "output_type": "stream",
     "text": [
      "loading config from ./experiments/orc_encoding.json ...\n",
      "----Running experiment:----\n",
      "UNCOMPRESSED_speed_1_2147486647\n",
      "write orc time (s): 1.8476965427398682\n"
     ]
    }
   ],
   "source": [
    "%time\n",
    "os.chdir(f'{PROJ_SRC_DIR}/python/data_gen')\n",
    "for run in run_list:\n",
    "    os.system(f'echo {my_password} | sudo -S /home/haoyuq/miniconda3/envs/gen/bin/python gen_simple_short_repeat.py {run}')\n",
    "os.chdir(f'{PROJ_SRC_DIR}/python')\n",
    "for run in run_list:\n",
    "    base_name = f'idx_run{run}_max9'\n",
    "    os.system(f'echo {my_password} | sudo -S /home/haoyuq/miniconda3/envs/gen/bin/python scripts/parquet_exp.py {base_name} pq_encoding -r=false -o=false')\n",
    "    os.system(f'echo {my_password} | sudo -S /home/haoyuq/miniconda3/envs/gen/bin/python scripts/orc_exp.py {base_name} orc_encoding -r=false -o=false')\n",
    "    # orc_schema = open(f'encoding/{base_name}/gen_data/{base_name}_orc_schema.txt', 'r').read()\n",
    "    # os.system(f'{HOME_DIR}/orc/build/tools/src/csv-import \\\"{orc_schema}\\\" \\\n",
    "    #         encoding/{base_name}/gen_data/{base_name}.csv {base_name}.orc')\n",
    "    os.system(f'mv {base_name}{pq_name_suffix} encoding/{base_name}.parquet')\n",
    "    os.system(f'mv {base_name}{orc_name_suffix} encoding/{base_name}.orc')\n",
    "    # os.system(f'mv {base_name}.orc encoding/{base_name}.orc')\n",
    "os.chdir(f'{PROJ_SRC_DIR}/python/encoding')\n"
   ]
  },
  {
   "cell_type": "code",
   "execution_count": 23,
   "metadata": {},
   "outputs": [
    {
     "name": "stdout",
     "output_type": "stream",
     "text": [
      "[  3%] Built target fastpfor_src\n",
      "[  6%] Built target fsst_src\n",
      "[  9%] Built target croaring_src\n",
      "[ 13%] Built target tbb_src\n",
      "[ 16%] Built target gflags_src\n",
      "[ 20%] Built target spdlog_src\n",
      "[ 24%] Built target yaml_src\n",
      "[ 24%] \u001b[34m\u001b[1mPerforming update step for 'csv_src'\u001b[0m\n",
      "[ 25%] \u001b[34m\u001b[1mNo patch step for 'csv_src'\u001b[0m\n",
      "[ 26%] \u001b[34m\u001b[1mPerforming configure step for 'csv_src'\u001b[0m\n"
     ]
    },
    {
     "name": "stderr",
     "output_type": "stream",
     "text": [
      "\u001b[33mCMake Warning (dev) at CMakeLists.txt:1 (project):\n",
      "  cmake_minimum_required() should be called prior to this top-level project()\n",
      "  call.  Please see the cmake-commands(7) manual for usage documentation of\n",
      "  both commands.\n",
      "This warning is for project developers.  Use -Wno-dev to suppress it.\n",
      "\u001b[0m\n"
     ]
    },
    {
     "name": "stdout",
     "output_type": "stream",
     "text": [
      "-- Configuring done (0.0s)\n",
      "-- Generating done (0.0s)\n",
      "-- Build files have been written to: /home/haoyuq/btrblocks/build/vendor/csv-parser/src/csv_src-build\n",
      "[ 26%] \u001b[34m\u001b[1mPerforming build step for 'csv_src'\u001b[0m\n",
      "[ 26%] \u001b[34m\u001b[1mPerforming install step for 'csv_src'\u001b[0m\n",
      "\u001b[36mInstall the project...\u001b[0m\n",
      "-- Install configuration: \"\"\n",
      "-- Installing: /home/haoyuq/btrblocks/build/vendor/csv-parser/include/parser.hpp\n",
      "-- Up-to-date: /home/haoyuq/btrblocks/build/vendor/csv-parser/lib/cmake/AriaCsvParser/AriaCsvParserTargets.cmake\n",
      "-- Up-to-date: /home/haoyuq/btrblocks/build/vendor/csv-parser/lib/cmake/AriaCsvParser/AriaCsvParserConfig.cmake\n",
      "[ 26%] \u001b[34m\u001b[1mPerforming copy_parser step for 'csv_src'\u001b[0m\n",
      "[ 27%] \u001b[34m\u001b[1mCompleted 'csv_src'\u001b[0m\n",
      "[ 28%] Built target csv_src\n",
      "[ 31%] Built target googletest\n",
      "[ 35%] Built target gtest_src\n",
      "[ 39%] Built target gmock_src\n",
      "[ 43%] Built target libawscpp-download\n",
      "[ 47%] Built target benchmark_src\n",
      "[ 51%] Built target gdouble_src\n",
      "[ 55%] Built target turbo_src\n",
      "[ 59%] Built target lz4_src\n",
      "[ 59%] \u001b[32mBuilding CXX object CMakeFiles/btrblocks.dir/btrblocks/btrblocks.cpp.o\u001b[0m\n",
      "[ 60%] \u001b[32mBuilding CXX object CMakeFiles/btrblocks.dir/btrblocks/compression/BtrReader.cpp.o\u001b[0m\n",
      "[ 60%] \u001b[32mBuilding CXX object CMakeFiles/btrblocks.dir/btrblocks/compression/Datablock.cpp.o\u001b[0m\n",
      "[ 60%] \u001b[32mBuilding CXX object CMakeFiles/btrblocks.dir/btrblocks/scheme/CompressionScheme.cpp.o\u001b[0m\n",
      "[ 61%] \u001b[32mBuilding CXX object CMakeFiles/btrblocks.dir/btrblocks/scheme/SchemePool.cpp.o\u001b[0m\n",
      "[ 62%] \u001b[32mBuilding CXX object CMakeFiles/btrblocks.dir/btrblocks/scheme/double/DynamicDictionary.cpp.o\u001b[0m\n",
      "[ 62%] \u001b[32mBuilding CXX object CMakeFiles/btrblocks.dir/btrblocks/scheme/double/Frequency.cpp.o\u001b[0m\n",
      "[ 63%] \u001b[32mBuilding CXX object CMakeFiles/btrblocks.dir/btrblocks/scheme/double/MaxExponent.cpp.o\u001b[0m\n",
      "[ 64%] \u001b[32mBuilding CXX object CMakeFiles/btrblocks.dir/btrblocks/scheme/double/Pseudodecimal.cpp.o\u001b[0m\n",
      "[ 64%] \u001b[32mBuilding CXX object CMakeFiles/btrblocks.dir/btrblocks/scheme/double/RLE.cpp.o\u001b[0m\n",
      "[ 65%] \u001b[32mBuilding CXX object CMakeFiles/btrblocks.dir/btrblocks/scheme/integer/DynamicDictionary.cpp.o\u001b[0m\n",
      "[ 65%] \u001b[32mBuilding CXX object CMakeFiles/btrblocks.dir/btrblocks/scheme/integer/FOR.cpp.o\u001b[0m\n",
      "[ 66%] \u001b[32mBuilding CXX object CMakeFiles/btrblocks.dir/btrblocks/scheme/integer/Frequency.cpp.o\u001b[0m\n",
      "[ 66%] \u001b[32mBuilding CXX object CMakeFiles/btrblocks.dir/btrblocks/scheme/integer/RLE.cpp.o\u001b[0m\n",
      "[ 66%] \u001b[32mBuilding CXX object CMakeFiles/btrblocks.dir/btrblocks/scheme/string/DynamicDictionary.cpp.o\u001b[0m\n",
      "[ 66%] \u001b[32mBuilding CXX object CMakeFiles/btrblocks.dir/btrblocks/scheme/string/Fsst.cpp.o\u001b[0m\n",
      "[ 66%] \u001b[32mBuilding CXX object CMakeFiles/btrblocks.dir/btrblocks/storage/Relation.cpp.o\u001b[0m\n",
      "[ 67%] \u001b[32m\u001b[1mLinking CXX static library libbtrblocks.a\u001b[0m\n",
      "[ 74%] Built target btrblocks\n",
      "[ 75%] Built target btrfiles\n",
      "[ 75%] \u001b[32mBuilding CXX object CMakeFiles/tester.dir/test/test-cases/TestHelper.cpp.o\u001b[0m\n",
      "[ 76%] \u001b[32mBuilding CXX object CMakeFiles/tester.dir/test/test-cases/V1.cpp.o\u001b[0m\n",
      "[ 76%] \u001b[32mBuilding CXX object CMakeFiles/tester.dir/test/test-cases/V2.cpp.o\u001b[0m\n",
      "[ 77%] \u001b[32m\u001b[1mLinking CXX executable tester\u001b[0m\n",
      "[ 78%] Built target tester\n",
      "[ 78%] \u001b[32m\u001b[1mLinking CXX executable test_dataset_generator\u001b[0m\n",
      "[ 79%] Built target test_dataset_generator\n",
      "[ 79%] \u001b[32mBuilding CXX object CMakeFiles/benchmarks.dir/bench/benchmarks.cpp.o\u001b[0m\n",
      "[ 80%] \u001b[32m\u001b[1mLinking CXX executable benchmarks\u001b[0m\n",
      "[ 80%] Built target benchmarks\n",
      "[ 80%] \u001b[32m\u001b[1mLinking CXX executable bench_dataset_downloader\u001b[0m\n",
      "[ 80%] Built target bench_dataset_downloader\n",
      "[ 81%] \u001b[32m\u001b[1mLinking CXX executable btrtocsv\u001b[0m\n",
      "[ 81%] Built target btrtocsv\n",
      "[ 81%] \u001b[32m\u001b[1mLinking CXX executable csvtobtr\u001b[0m\n",
      "[ 82%] Built target csvtobtr\n",
      "[ 82%] \u001b[32m\u001b[1mLinking CXX executable btrmeta\u001b[0m\n",
      "[ 83%] Built target btrmeta\n",
      "[ 83%] \u001b[32m\u001b[1mLinking CXX executable decompression-speed\u001b[0m\n",
      "[ 84%] Built target decompression-speed\n",
      "[ 84%] \u001b[32m\u001b[1mLinking CXX executable decompression-speed-s3\u001b[0m\n",
      "[ 85%] Built target decompression-speed-s3\n",
      "[ 86%] \u001b[32m\u001b[1mLinking CXX executable integer_stats\u001b[0m\n",
      "[ 86%] Built target integer_stats\n",
      "[ 87%] \u001b[32m\u001b[1mLinking CXX executable double_stats\u001b[0m\n",
      "[ 87%] Built target double_stats\n",
      "[ 87%] \u001b[32m\u001b[1mLinking CXX executable string_stats\u001b[0m\n",
      "[ 87%] Built target string_stats\n",
      "[ 88%] \u001b[32m\u001b[1mLinking CXX executable string_fsst\u001b[0m\n",
      "[ 88%] Built target string_fsst\n",
      "[ 89%] \u001b[32m\u001b[1mLinking CXX executable playground\u001b[0m\n",
      "[ 89%] Built target playground\n",
      "[ 89%] \u001b[32m\u001b[1mLinking CXX executable rle\u001b[0m\n",
      "[ 90%] Built target rle\n",
      "[ 91%] \u001b[32m\u001b[1mLinking CXX executable fsst_0\u001b[0m\n",
      "[ 91%] Built target fsst_0\n",
      "[ 91%] \u001b[32m\u001b[1mLinking CXX executable for_tests\u001b[0m\n",
      "[ 92%] Built target for_tests\n",
      "[ 93%] \u001b[32m\u001b[1mLinking CXX executable p_double\u001b[0m\n",
      "[ 93%] Built target p_double\n",
      "[ 94%] \u001b[32m\u001b[1mLinking CXX executable double_benchmarking\u001b[0m\n",
      "[ 94%] Built target double_benchmarking\n",
      "[ 94%] \u001b[32mBuilding CXX object CMakeFiles/pseudodecimal_benchmark.dir/tools/playground/pseudodecimal_benchmark.cpp.o\u001b[0m\n",
      "[ 94%] \u001b[32m\u001b[1mLinking CXX executable pseudodecimal_benchmark\u001b[0m\n",
      "[ 94%] Built target pseudodecimal_benchmark\n",
      "[ 95%] \u001b[32mBuilding CXX object CMakeFiles/sampling_algorithms.dir/tools/playground/sampling_algorithms.cpp.o\u001b[0m\n"
     ]
    },
    {
     "name": "stderr",
     "output_type": "stream",
     "text": [
      "/home/haoyuq/btrblocks/tools/playground/sampling_algorithms.cpp: In instantiation of ‘TestResult testSampling(const string&, const string&, btrblocks::units::u8*, PerfEvent&) [with T = double; std::string = std::__cxx11::basic_string<char>; btrblocks::units::u8 = unsigned char]’:\n",
      "/home/haoyuq/btrblocks/tools/playground/sampling_algorithms.cpp:268:1:   required from here\n",
      "/home/haoyuq/btrblocks/tools/playground/sampling_algorithms.cpp:180:11: warning: unused variable ‘cache’ [-Wunused-variable]\n",
      "  180 |     auto& cache = ThreadCache::get();\n",
      "      |           ^~~~~\n",
      "/home/haoyuq/btrblocks/tools/playground/sampling_algorithms.cpp: In instantiation of ‘TestResult testSampling(const string&, const string&, btrblocks::units::u8*, PerfEvent&) [with T = int; std::string = std::__cxx11::basic_string<char>; btrblocks::units::u8 = unsigned char]’:\n",
      "/home/haoyuq/btrblocks/tools/playground/sampling_algorithms.cpp:268:1:   required from here\n",
      "/home/haoyuq/btrblocks/tools/playground/sampling_algorithms.cpp:180:11: warning: unused variable ‘cache’ [-Wunused-variable]\n"
     ]
    },
    {
     "name": "stdout",
     "output_type": "stream",
     "text": [
      "[ 95%] \u001b[32m\u001b[1mLinking CXX executable sampling_algorithms\u001b[0m\n",
      "[ 95%] Built target sampling_algorithms\n",
      "[ 95%] \u001b[32mBuilding CXX object CMakeFiles/threadlocal_config.dir/tools/playground/config.cpp.o\u001b[0m\n",
      "[ 95%] \u001b[32m\u001b[1mLinking CXX executable threadlocal_config\u001b[0m\n",
      "[ 95%] Built target threadlocal_config\n",
      "[ 96%] Built target test-s3\n",
      "[ 97%] Built target test-s3-crt\n",
      "[ 98%] Built target test-s3-custom-stream\n",
      "[ 98%] Built target test-s3-transfer\n",
      "[ 99%] Built target generate_s3_data\n",
      "[ 99%] \u001b[32mBuilding CXX object CMakeFiles/example_compression.dir/tools/examples/compression.cpp.o\u001b[0m\n",
      "[100%] \u001b[32m\u001b[1mLinking CXX executable example_compression\u001b[0m\n",
      "[100%] Built target example_compression\n",
      "[2024-03-16 04:45:00.493] [info] Creating binary files in encoding/idx_run2_max9/binary/\n",
      "column name = col0 , type = string\n",
      "column name = col1 , type = string\n",
      "column name = col2 , type = string\n",
      "column name = col3 , type = string\n",
      "column name = col4 , type = string\n",
      "column name = col5 , type = string\n",
      "column name = col6 , type = string\n",
      "column name = col7 , type = string\n",
      "column name = col8 , type = string\n",
      "column name = col9 , type = string\n",
      "column name = col10 , type = string\n",
      "column name = col11 , type = string\n",
      "column name = col12 , type = string\n",
      "column name = col13 , type = string\n",
      "column name = col14 , type = string\n",
      "column name = col15 , type = string\n",
      "column name = col16 , type = string\n",
      "column name = col17 , type = string\n",
      "column name = col18 , type = string\n",
      "column name = col19 , type = string\n"
     ]
    },
    {
     "name": "stderr",
     "output_type": "stream",
     "text": [
      "mkdir: cannot create directory ‘encoding/idx_run2_max9’: File exists\n",
      "mkdir: cannot create directory ‘encoding/idx_run2_max9/binary’: File exists\n",
      "mkdir: cannot create directory ‘encoding/idx_run2_max9/btr’: File exists\n"
     ]
    },
    {
     "name": "stdout",
     "output_type": "stream",
     "text": [
      "[haoyu.debug.Parser] writing binary fileencoding/idx_run2_max9/binary/1_col0.bitmap\n",
      "Writing binary file : encoding/idx_run2_max9/binary/1_col0.bitmap\n",
      "[haoyu.debug.writeBinary] v.size 1000000 sizeof(T) 1 length=1000000\n",
      "[haoyu.debug.Parser] writing binary fileencoding/idx_run2_max9/binary/2_col1.bitmap\n",
      "Writing binary file : encoding/idx_run2_max9/binary/2_col1.bitmap\n",
      "[haoyu.debug.writeBinary] v.size 1000000 sizeof(T) 1 length=1000000\n",
      "[haoyu.debug.Parser] writing binary fileencoding/idx_run2_max9/binary/3_col2.bitmap\n",
      "Writing binary file : encoding/idx_run2_max9/binary/3_col2.bitmap\n",
      "[haoyu.debug.writeBinary] v.size 1000000 sizeof(T) 1 length=1000000\n",
      "[haoyu.debug.Parser] writing binary fileencoding/idx_run2_max9/binary/4_col3.bitmap\n",
      "Writing binary file : encoding/idx_run2_max9/binary/4_col3.bitmap\n",
      "[haoyu.debug.writeBinary] v.size 1000000 sizeof(T) 1 length=1000000\n",
      "[haoyu.debug.Parser] writing binary fileencoding/idx_run2_max9/binary/5_col4.bitmap\n",
      "Writing binary file : encoding/idx_run2_max9/binary/5_col4.bitmap\n",
      "[haoyu.debug.writeBinary] v.size 1000000 sizeof(T) 1 length=1000000\n",
      "[haoyu.debug.Parser] writing binary fileencoding/idx_run2_max9/binary/6_col5.bitmap\n",
      "Writing binary file : encoding/idx_run2_max9/binary/6_col5.bitmap\n",
      "[haoyu.debug.writeBinary] v.size 1000000 sizeof(T) 1 length=1000000\n",
      "[haoyu.debug.Parser] writing binary fileencoding/idx_run2_max9/binary/7_col6.bitmap\n",
      "Writing binary file : encoding/idx_run2_max9/binary/7_col6.bitmap\n",
      "[haoyu.debug.writeBinary] v.size 1000000 sizeof(T) 1 length=1000000\n",
      "[haoyu.debug.Parser] writing binary fileencoding/idx_run2_max9/binary/8_col7.bitmap\n",
      "Writing binary file : encoding/idx_run2_max9/binary/8_col7.bitmap\n",
      "[haoyu.debug.writeBinary] v.size 1000000 sizeof(T) 1 length=1000000\n",
      "[haoyu.debug.Parser] writing binary fileencoding/idx_run2_max9/binary/9_col8.bitmap\n",
      "Writing binary file : encoding/idx_run2_max9/binary/9_col8.bitmap\n",
      "[haoyu.debug.writeBinary] v.size 1000000 sizeof(T) 1 length=1000000\n",
      "[haoyu.debug.Parser] writing binary fileencoding/idx_run2_max9/binary/10_col9.bitmap\n",
      "Writing binary file : encoding/idx_run2_max9/binary/10_col9.bitmap\n",
      "[haoyu.debug.writeBinary] v.size 1000000 sizeof(T) 1 length=1000000\n",
      "[haoyu.debug.Parser] writing binary fileencoding/idx_run2_max9/binary/11_col10.bitmap\n",
      "Writing binary file : encoding/idx_run2_max9/binary/11_col10.bitmap\n",
      "[haoyu.debug.writeBinary] v.size 1000000 sizeof(T) 1 length=1000000\n",
      "[haoyu.debug.Parser] writing binary fileencoding/idx_run2_max9/binary/12_col11.bitmap\n",
      "Writing binary file : encoding/idx_run2_max9/binary/12_col11.bitmap\n",
      "[haoyu.debug.writeBinary] v.size 1000000 sizeof(T) 1 length=1000000\n",
      "[haoyu.debug.Parser] writing binary fileencoding/idx_run2_max9/binary/13_col12.bitmap\n",
      "Writing binary file : encoding/idx_run2_max9/binary/13_col12.bitmap\n",
      "[haoyu.debug.writeBinary] v.size 1000000 sizeof(T) 1 length=1000000\n",
      "[haoyu.debug.Parser] writing binary fileencoding/idx_run2_max9/binary/14_col13.bitmap\n",
      "Writing binary file : encoding/idx_run2_max9/binary/14_col13.bitmap\n",
      "[haoyu.debug.writeBinary] v.size 1000000 sizeof(T) 1 length=1000000\n",
      "[haoyu.debug.Parser] writing binary fileencoding/idx_run2_max9/binary/15_col14.bitmap\n",
      "Writing binary file : encoding/idx_run2_max9/binary/15_col14.bitmap\n",
      "[haoyu.debug.writeBinary] v.size 1000000 sizeof(T) 1 length=1000000\n",
      "[haoyu.debug.Parser] writing binary fileencoding/idx_run2_max9/binary/16_col15.bitmap\n",
      "Writing binary file : encoding/idx_run2_max9/binary/16_col15.bitmap\n",
      "[haoyu.debug.writeBinary] v.size 1000000 sizeof(T) 1 length=1000000\n",
      "[haoyu.debug.Parser] writing binary fileencoding/idx_run2_max9/binary/17_col16.bitmap\n",
      "Writing binary file : encoding/idx_run2_max9/binary/17_col16.bitmap\n",
      "[haoyu.debug.writeBinary] v.size 1000000 sizeof(T) 1 length=1000000\n",
      "[haoyu.debug.Parser] writing binary fileencoding/idx_run2_max9/binary/18_col17.bitmap\n",
      "Writing binary file : encoding/idx_run2_max9/binary/18_col17.bitmap\n",
      "[haoyu.debug.writeBinary] v.size 1000000 sizeof(T) 1 length=1000000\n",
      "[haoyu.debug.Parser] writing binary fileencoding/idx_run2_max9/binary/19_col18.bitmap\n",
      "Writing binary file : encoding/idx_run2_max9/binary/19_col18.bitmap\n",
      "[haoyu.debug.writeBinary] v.size 1000000 sizeof(T) 1 length=1000000\n",
      "[haoyu.debug.Parser] writing binary fileencoding/idx_run2_max9/binary/20_col19.bitmap\n",
      "Writing binary file : encoding/idx_run2_max9/binary/20_col19.bitmap\n",
      "[haoyu.debug.writeBinary] v.size 1000000 sizeof(T) 1 length=1000000\n",
      "[2024-03-16 04:45:11.739] [info] Creating btr files in encoding/idx_run2_max9/btr/\n"
     ]
    },
    {
     "name": "stderr",
     "output_type": "stream",
     "text": [
      "[sudo] password for haoyuq: Decompressing columns: 0 1 2 3 4 5 6 7 8 9 10 11 12 13 14 15 16 17 18 19 \n",
      "Decompressing columns: 0 1 2 3 4 5 6 7 8 9 10 11 12 13 14 15 16 17 18 19 \n",
      "[sudo] password for haoyuq: [sudo] password for haoyuq: "
     ]
    },
    {
     "data": {
      "text/plain": [
       "0"
      ]
     },
     "execution_count": 23,
     "metadata": {},
     "output_type": "execute_result"
    }
   ],
   "source": [
    "# running experiments\n",
    "import yaml\n",
    "os.system('rm outputs/stats.json')\n",
    "os.chdir(f'{PROJ_SRC_DIR}/python')\n",
    "prev = 10\n",
    "\n",
    "columns = []\n",
    "for i in range(20):\n",
    "    columns.append({'name': f'col{i}', 'type':'string'})\n",
    "\n",
    "for run in run_list[:1]:\n",
    "    base_name = f'idx_run{run}_max9'\n",
    "    with open(f'data_gen/{base_name}_btrblocks_schema.yaml','w') as f:\n",
    "        yaml.dump({'columns':columns}, f)\n",
    "\n",
    "    # change scheme\n",
    "    old_text = f'rle_run_length_threshold{prev}'\n",
    "    new_text = f'rle_run_length_threshold{run}'\n",
    "    os.system(f\"sed -i s'/{old_text}/{new_text}/g' /home/haoyuq/btrblocks/btrblocks/scheme/SchemeConfig.hpp\")\n",
    "    prev = run\n",
    "    # rebuild\n",
    "    os.chdir(\"/home/haoyuq/btrblocks/build\")\n",
    "    os.system(\"make\")\n",
    "    os.chdir(f'{PROJ_SRC_DIR}/python')\n",
    "\n",
    "    # create btr\n",
    "    os.system(f'mkdir encoding/{base_name}')\n",
    "    os.system(f'mkdir encoding/{base_name}/binary')\n",
    "    os.system(f'mkdir encoding/{base_name}/btr')\n",
    "\n",
    "    os.system(f'~/btrblocks/build/csvtobtr -create_binary -binary encoding/{base_name}/binary/ -csv data_gen/{base_name}.csv -yaml data_gen/{base_name}_btrblocks_schema.yaml')\n",
    "    os.system(f'~/btrblocks/build/csvtobtr -create_btr -btr encoding/{base_name}/btr/ -binary encoding/{base_name}/binary/ -csv data_gen/{base_name}.csv -yaml data_gen/{base_name}_btrblocks_schema.yaml')\n",
    "\n",
    "    os.chdir(f'{PROJ_SRC_DIR}/python/encoding')\n",
    "    os.system(f'echo {my_password} | sudo -S sync; echo {my_password} | sudo sh -c \"/usr/bin/echo 3 > /proc/sys/vm/drop_caches\"')\n",
    "    time.sleep(1)\n",
    "    btrblocks_out = os.popen(f'''~/btrblocks/build/decompression-speed -output_summary \\\n",
    "                    -btr {base_name}/btr/ -threads 1''').read().split('\\n')[-2],\n",
    "    btrblocks_read = float(btrblocks_out[0].split(' ')[-4])\n",
    "    btrblocks_size = float(btrblocks_out[0].split(' ')[1]),\n",
    "    btrblocks_out_preload = os.popen(f'''~/btrblocks/build/decompression-speed -output_summary \\\n",
    "                    -btr {base_name}/btr/ -threads 1''').read().split('\\n')[-2],\n",
    "    btrblocks_read_preload = float(btrblocks_out_preload[0].split(' ')[-4])\n",
    "    os.system(f'echo {my_password} | sudo -S sync; echo {my_password} | sudo sh -c \"/usr/bin/echo 3 > /proc/sys/vm/drop_caches\"')\n",
    "    time.sleep(1)\n",
    "    pq_read = float(os.popen(f'''{scan_exec_pq} \\\n",
    "            --batch_size=1024 ./{base_name}.parquet''').read().split('\\n')[0].split(' ')[-2])\n",
    "    pq_read_preload = float(os.popen(f'''{scan_exec_pq} \\\n",
    "            --batch_size=1024 ./{base_name}.parquet''').read().split('\\n')[0].split(' ')[-2])\n",
    "    os.system(f'echo {my_password} | sudo -S sync; echo {my_password} | sudo sh -c \"/usr/bin/echo 3 > /proc/sys/vm/drop_caches\"')\n",
    "    time.sleep(1)\n",
    "    orc_read = float(os.popen(f'''{HOME_DIR}/orc/orc/build/tools/src/orc-scan \\\n",
    "            -b 1024 ./{base_name}.orc''').read().split('\\n')[0].split(' ')[-1])\n",
    "    orc_read_preload = float(os.popen(f'''{HOME_DIR}/orc/orc/build/tools/src/orc-scan \\\n",
    "            -b 1024 ./{base_name}.orc''').read().split('\\n')[0].split(' ')[-1])\n",
    "    orc_size = os.path.getsize(f'{base_name}.orc')\n",
    "    pq_size = os.path.getsize(f'{base_name}.parquet')\n",
    "    output_stats = {}\n",
    "    output_stats['run'] = run\n",
    "    output_stats['file'] = 'parquet'\n",
    "    output_stats['size'] = pq_size\n",
    "    output_stats['read_time'] = pq_read\n",
    "    output_stats['read_time_preload'] = pq_read_preload\n",
    "    parse_output(output_stats)\n",
    "    output_stats['file'] = 'orc'\n",
    "    output_stats['size'] = orc_size\n",
    "    output_stats['read_time'] = orc_read\n",
    "    output_stats['read_time_preload'] = orc_read_preload\n",
    "    parse_output(output_stats)\n",
    "    output_stats['file'] = 'btrblocks'\n",
    "    output_stats['size'] = btrblocks_size\n",
    "    output_stats['read_time'] = btrblocks_read\n",
    "    output_stats['read_time_preload'] = btrblocks_read_preload\n",
    "    parse_output(output_stats)\n",
    "    os.chdir(f'{PROJ_SRC_DIR}/python')\n",
    "os.chdir(f'{PROJ_SRC_DIR}/python/encoding')\n",
    "collect_results()\n",
    "os.system('mv outputs/stats.csv ../outputs/{}_{}.csv'.format('decode_rle', timestamp))"
   ]
  },
  {
   "cell_type": "code",
   "execution_count": 25,
   "metadata": {},
   "outputs": [
    {
     "data": {
      "text/plain": [
       "0"
      ]
     },
     "execution_count": 25,
     "metadata": {},
     "output_type": "execute_result"
    }
   ],
   "source": [
    "os.chdir(f'{PROJ_SRC_DIR}/python/encoding')\n",
    "collect_results()\n",
    "os.system('mv outputs/stats.csv ../outputs/{}_{}.csv'.format('decode_rle', timestamp))"
   ]
  },
  {
   "cell_type": "code",
   "execution_count": 2,
   "metadata": {},
   "outputs": [],
   "source": [
    "import pandas as pd\n",
    "\n",
    "data = pd.read_csv('../outputs/decode_rle_20240316_030945.csv', header=0)"
   ]
  },
  {
   "cell_type": "code",
   "execution_count": 24,
   "metadata": {},
   "outputs": [],
   "source": [
    "data2 = pd.read_csv('../outputs/decode_rle_20240316_044346.csv', header=0)"
   ]
  },
  {
   "cell_type": "code",
   "execution_count": 3,
   "metadata": {},
   "outputs": [
    {
     "data": {
      "text/html": [
       "<div>\n",
       "<style scoped>\n",
       "    .dataframe tbody tr th:only-of-type {\n",
       "        vertical-align: middle;\n",
       "    }\n",
       "\n",
       "    .dataframe tbody tr th {\n",
       "        vertical-align: top;\n",
       "    }\n",
       "\n",
       "    .dataframe thead th {\n",
       "        text-align: right;\n",
       "    }\n",
       "</style>\n",
       "<table border=\"1\" class=\"dataframe\">\n",
       "  <thead>\n",
       "    <tr style=\"text-align: right;\">\n",
       "      <th></th>\n",
       "      <th>run</th>\n",
       "      <th>file</th>\n",
       "      <th>size</th>\n",
       "      <th>read_time</th>\n",
       "      <th>read_time_preload</th>\n",
       "    </tr>\n",
       "  </thead>\n",
       "  <tbody>\n",
       "    <tr>\n",
       "      <th>0</th>\n",
       "      <td>3</td>\n",
       "      <td>parquet</td>\n",
       "      <td>17574165</td>\n",
       "      <td>0.106509</td>\n",
       "      <td>0.057529</td>\n",
       "    </tr>\n",
       "    <tr>\n",
       "      <th>1</th>\n",
       "      <td>3</td>\n",
       "      <td>orc</td>\n",
       "      <td>13496919</td>\n",
       "      <td>0.190391</td>\n",
       "      <td>0.143526</td>\n",
       "    </tr>\n",
       "    <tr>\n",
       "      <th>2</th>\n",
       "      <td>3</td>\n",
       "      <td>btrblocks</td>\n",
       "      <td>[6537800.0]</td>\n",
       "      <td>87178.000000</td>\n",
       "      <td>87167.000000</td>\n",
       "    </tr>\n",
       "    <tr>\n",
       "      <th>3</th>\n",
       "      <td>4</td>\n",
       "      <td>parquet</td>\n",
       "      <td>17574165</td>\n",
       "      <td>0.105426</td>\n",
       "      <td>0.056282</td>\n",
       "    </tr>\n",
       "    <tr>\n",
       "      <th>4</th>\n",
       "      <td>4</td>\n",
       "      <td>orc</td>\n",
       "      <td>10163519</td>\n",
       "      <td>0.178528</td>\n",
       "      <td>0.136591</td>\n",
       "    </tr>\n",
       "  </tbody>\n",
       "</table>\n",
       "</div>"
      ],
      "text/plain": [
       "   run       file         size     read_time  read_time_preload\n",
       "0    3    parquet     17574165      0.106509           0.057529\n",
       "1    3        orc     13496919      0.190391           0.143526\n",
       "2    3  btrblocks  [6537800.0]  87178.000000       87167.000000\n",
       "3    4    parquet     17574165      0.105426           0.056282\n",
       "4    4        orc     10163519      0.178528           0.136591"
      ]
     },
     "execution_count": 3,
     "metadata": {},
     "output_type": "execute_result"
    }
   ],
   "source": [
    "data.head()"
   ]
  },
  {
   "cell_type": "code",
   "execution_count": 25,
   "metadata": {},
   "outputs": [],
   "source": [
    "def fetch_size_for_bb(x):\n",
    "    x = eval(x)\n",
    "    if type(x) == list:\n",
    "        return x[0]\n",
    "    return x\n",
    "\n",
    "data2['size'] = data2['size'].apply(fetch_size_for_bb)"
   ]
  },
  {
   "cell_type": "code",
   "execution_count": 9,
   "metadata": {},
   "outputs": [
    {
     "data": {
      "text/html": [
       "<div>\n",
       "<style scoped>\n",
       "    .dataframe tbody tr th:only-of-type {\n",
       "        vertical-align: middle;\n",
       "    }\n",
       "\n",
       "    .dataframe tbody tr th {\n",
       "        vertical-align: top;\n",
       "    }\n",
       "\n",
       "    .dataframe thead th {\n",
       "        text-align: right;\n",
       "    }\n",
       "</style>\n",
       "<table border=\"1\" class=\"dataframe\">\n",
       "  <thead>\n",
       "    <tr style=\"text-align: right;\">\n",
       "      <th></th>\n",
       "      <th>run</th>\n",
       "      <th>file</th>\n",
       "      <th>size</th>\n",
       "      <th>read_time</th>\n",
       "      <th>read_time_preload</th>\n",
       "    </tr>\n",
       "  </thead>\n",
       "  <tbody>\n",
       "    <tr>\n",
       "      <th>0</th>\n",
       "      <td>3</td>\n",
       "      <td>parquet</td>\n",
       "      <td>17574165.0</td>\n",
       "      <td>0.106509</td>\n",
       "      <td>0.057529</td>\n",
       "    </tr>\n",
       "    <tr>\n",
       "      <th>1</th>\n",
       "      <td>3</td>\n",
       "      <td>orc</td>\n",
       "      <td>13496919.0</td>\n",
       "      <td>0.190391</td>\n",
       "      <td>0.143526</td>\n",
       "    </tr>\n",
       "    <tr>\n",
       "      <th>2</th>\n",
       "      <td>3</td>\n",
       "      <td>btrblocks</td>\n",
       "      <td>6537800.0</td>\n",
       "      <td>87178.000000</td>\n",
       "      <td>87167.000000</td>\n",
       "    </tr>\n",
       "    <tr>\n",
       "      <th>3</th>\n",
       "      <td>4</td>\n",
       "      <td>parquet</td>\n",
       "      <td>17574165.0</td>\n",
       "      <td>0.105426</td>\n",
       "      <td>0.056282</td>\n",
       "    </tr>\n",
       "    <tr>\n",
       "      <th>4</th>\n",
       "      <td>4</td>\n",
       "      <td>orc</td>\n",
       "      <td>10163519.0</td>\n",
       "      <td>0.178528</td>\n",
       "      <td>0.136591</td>\n",
       "    </tr>\n",
       "  </tbody>\n",
       "</table>\n",
       "</div>"
      ],
      "text/plain": [
       "   run       file        size     read_time  read_time_preload\n",
       "0    3    parquet  17574165.0      0.106509           0.057529\n",
       "1    3        orc  13496919.0      0.190391           0.143526\n",
       "2    3  btrblocks   6537800.0  87178.000000       87167.000000\n",
       "3    4    parquet  17574165.0      0.105426           0.056282\n",
       "4    4        orc  10163519.0      0.178528           0.136591"
      ]
     },
     "execution_count": 9,
     "metadata": {},
     "output_type": "execute_result"
    }
   ],
   "source": [
    "data.head()"
   ]
  },
  {
   "cell_type": "code",
   "execution_count": 26,
   "metadata": {},
   "outputs": [],
   "source": [
    "def scale_read_time_for_bb(x):\n",
    "    if x['file'] == 'btrblocks':\n",
    "        x['read_time'] /= 1000 * 1000\n",
    "        x['read_time_preload'] /= 1000 * 1000\n",
    "    return x\n",
    "\n",
    "data2 = data2.apply(scale_read_time_for_bb, axis=1)"
   ]
  },
  {
   "cell_type": "code",
   "execution_count": 29,
   "metadata": {},
   "outputs": [],
   "source": [
    "# data = pd.concat([data,data2])\n",
    "data['size'] = data['size'] / (1024 * 1024)"
   ]
  },
  {
   "cell_type": "code",
   "execution_count": 31,
   "metadata": {},
   "outputs": [],
   "source": [
    "import seaborn as sns\n",
    "import matplotlib.pyplot as plt"
   ]
  },
  {
   "cell_type": "code",
   "execution_count": 34,
   "metadata": {},
   "outputs": [
    {
     "data": {
      "text/plain": [
       "Text(0.5, 1.0, 'Varying run length on string, w/o compression. File Size(MB)')"
      ]
     },
     "execution_count": 34,
     "metadata": {},
     "output_type": "execute_result"
    },
    {
     "data": {
      "image/png": "[encoded data removed]",
      "text/plain": [
       "<Figure size 640x480 with 1 Axes>"
      ]
     },
     "metadata": {},
     "output_type": "display_data"
    }
   ],
   "source": [
    "sns.lineplot(data = data, x='run', y='size', hue='file', )\n",
    "plt.title('Varying run length on string, w/o compression. File Size(MB)')"
   ]
  },
  {
   "cell_type": "code",
   "execution_count": 36,
   "metadata": {},
   "outputs": [
    {
     "data": {
      "text/plain": [
       "Text(0.5, 1.0, 'Varying run length on string, w/o compression. Read Time(s)')"
      ]
     },
     "execution_count": 36,
     "metadata": {},
     "output_type": "execute_result"
    },
    {
     "data": {
      "image/png": "[encoded data removed]",
      "text/plain": [
       "<Figure size 640x480 with 1 Axes>"
      ]
     },
     "metadata": {},
     "output_type": "display_data"
    }
   ],
   "source": [
    "sns.lineplot(data = data, x='run', y='read_time', hue='file', )\n",
    "plt.title('Varying run length on string, w/o compression. Read Time(s)')"
   ]
  },
  {
   "cell_type": "code",
   "execution_count": 11,
   "metadata": {},
   "outputs": [
    {
     "name": "stdout",
     "output_type": "stream",
     "text": [
      "('Total: 18181076 Bytes 197800000 Bytes 86371 us 2184.03 MB/s',)\n"
     ]
    }
   ],
   "source": [
    "print(btrblocks_out)"
   ]
  },
  {
   "attachments": {},
   "cell_type": "markdown",
   "metadata": {},
   "source": [
    "# Decode time on varying compressions"
   ]
  },
  {
   "cell_type": "code",
   "execution_count": 2,
   "metadata": {},
   "outputs": [
    {
     "name": "stdout",
     "output_type": "stream",
     "text": [
      "loading config from /home/haoyuq/EvaluationOfColumnarFormats/OpenFormat/OpenFormat-Public/python/experiments/pq_encoding.json ...\n",
      "loading config from /home/haoyuq/EvaluationOfColumnarFormats/OpenFormat/OpenFormat-Public/python/experiments/orc_encoding.json ...\n"
     ]
    }
   ],
   "source": [
    "# pq_config = enumerate_config(f'{PROJ_SRC_DIR}/python/experiments/pq_default.json')\n",
    "# orc_config = enumerate_config(f'{PROJ_SRC_DIR}/python/experiments/orc_default.json')\n",
    "pq_config = enumerate_config(f'{PROJ_SRC_DIR}/python/experiments/pq_encoding.json')\n",
    "orc_config = enumerate_config(f'{PROJ_SRC_DIR}/python/experiments/orc_encoding.json')\n",
    "pq_param = pq_config[0]\n",
    "orc_param = orc_config[0]\n",
    "import pyarrow.orc as po\n",
    "from pyarrow import csv\n",
    "import pyarrow.parquet as pq\n",
    "os.chdir(f'{PROJ_SRC_DIR}/python')\n",
    "workload_list = ['int', 'float', 'string']\n",
    "compression_list = ['SNAPPY', 'ZSTD', 'LZ4', 'NONE']\n",
    "for compression in compression_list:\n",
    "    orc_param['compression'] = compression if compression != 'NONE' else \"UNCOMPRESSED\"\n",
    "    pq_param['compression'] = compression\n",
    "    for wl in workload_list:\n",
    "        base_name = f'{wl}_r{num_rows}_c{num_cols}'\n",
    "        table, _ = read_csv(f'encoding/{base_name}/gen_data/{base_name}.csv')\n",
    "        po.write_table(\n",
    "            table, f'encoding/{base_name}.{compression.lower()}.orc', **orc_param)\n",
    "        pq.write_table(table, f'encoding/{base_name}.{compression.lower()}.parquet', \n",
    "                **pq_param)\n",
    "        # os.system(f'mv {base_name}.orc encoding/{base_name}.orc')\n",
    "os.chdir(f'{PROJ_SRC_DIR}/python/encoding')"
   ]
  },
  {
   "cell_type": "code",
   "execution_count": 3,
   "metadata": {},
   "outputs": [
    {
     "name": "stdout",
     "output_type": "stream",
     "text": [
      "message schema {\n",
      "\n",
      "}\n",
      "message schema {\n",
      "\n",
      "}\n",
      "message schema {\n",
      "\n",
      "}\n"
     ]
    }
   ],
   "source": [
    "import yaml\n",
    "os.chdir(f'{PROJ_SRC_DIR}/python')\n",
    "for wl in workload_list:\n",
    "        base_name = f'{wl}_r{num_rows}_c{num_cols}'\n",
    "        arrow_schema_name = f'encoding/{base_name}/gen_data/{base_name}_arrow_schema.txt'\n",
    "        with open(arrow_schema_name, 'r') as f:\n",
    "            lines = f.readlines()\n",
    "        columns = []\n",
    "        cnt = 0\n",
    "        for line in lines:\n",
    "            if 'message' in line or '}' in line or len(line)==0:\n",
    "                print(line)\n",
    "                continue\n",
    "            col_name = f'col{cnt}'\n",
    "            col_type = None\n",
    "            if 'String' in line:\n",
    "                col_type = 'string'\n",
    "            elif 'int' in line:\n",
    "                col_type = 'integer'\n",
    "            elif 'double' in line:\n",
    "                col_type = 'double'\n",
    "            if col_type is None:\n",
    "                print(line)\n",
    "                col_type = 'skip'\n",
    "            cnt += 1\n",
    "            columns.append({'name': col_name, 'type':col_type})\n",
    "        with open(f'encoding/{base_name}/gen_data/{base_name}_btrblocks_schema.yaml','w') as f:\n",
    "            yaml.dump({'columns':columns}, f)"
   ]
  },
  {
   "cell_type": "code",
   "execution_count": 4,
   "metadata": {},
   "outputs": [
    {
     "name": "stdout",
     "output_type": "stream",
     "text": [
      "[2024-03-19 23:48:34.719] [info] Creating binary files in encoding/int_r1000000_c20/gen_data/binary/\n",
      "column name = col0 , type = integer\n",
      "column name = col1 , type = integer\n",
      "column name = col2 , type = integer\n",
      "column name = col3 , type = integer\n",
      "column name = col4 , type = integer\n",
      "column name = col5 , type = integer\n",
      "column name = col6 , type = integer\n",
      "column name = col7 , type = integer\n",
      "column name = col8 , type = integer\n",
      "column name = col9 , type = integer\n",
      "column name = col10 , type = integer\n",
      "column name = col11 , type = integer\n",
      "column name = col12 , type = integer\n",
      "column name = col13 , type = integer\n",
      "column name = col14 , type = integer\n",
      "column name = col15 , type = integer\n",
      "column name = col16 , type = integer\n",
      "column name = col17 , type = integer\n",
      "column name = col18 , type = integer\n",
      "column name = col19 , type = integer\n",
      "[haoyu.debug.Parser] writing binary fileencoding/int_r1000000_c20/gen_data/binary/1_col0.bitmap\n",
      "Writing binary file : encoding/int_r1000000_c20/gen_data/binary/1_col0.bitmap\n",
      "[haoyu.debug.writeBinary] v.size 1000000 sizeof(T) 1 length=1000000\n",
      "Writing binary file : encoding/int_r1000000_c20/gen_data/binary/1_col0.integer\n",
      "[haoyu.debug.writeBinary] v.size 1000000 sizeof(T) 4 length=4000000\n",
      "[haoyu.debug.Parser] writing binary fileencoding/int_r1000000_c20/gen_data/binary/2_col1.bitmap\n",
      "Writing binary file : encoding/int_r1000000_c20/gen_data/binary/2_col1.bitmap\n",
      "[haoyu.debug.writeBinary] v.size 1000000 sizeof(T) 1 length=1000000\n",
      "Writing binary file : encoding/int_r1000000_c20/gen_data/binary/2_col1.integer\n",
      "[haoyu.debug.writeBinary] v.size 1000000 sizeof(T) 4 length=4000000\n",
      "[haoyu.debug.Parser] writing binary fileencoding/int_r1000000_c20/gen_data/binary/3_col2.bitmap\n",
      "Writing binary file : encoding/int_r1000000_c20/gen_data/binary/3_col2.bitmap\n",
      "[haoyu.debug.writeBinary] v.size 1000000 sizeof(T) 1 length=1000000\n",
      "Writing binary file : encoding/int_r1000000_c20/gen_data/binary/3_col2.integer\n",
      "[haoyu.debug.writeBinary] v.size 1000000 sizeof(T) 4 length=4000000\n",
      "[haoyu.debug.Parser] writing binary fileencoding/int_r1000000_c20/gen_data/binary/4_col3.bitmap\n",
      "Writing binary file : encoding/int_r1000000_c20/gen_data/binary/4_col3.bitmap\n",
      "[haoyu.debug.writeBinary] v.size 1000000 sizeof(T) 1 length=1000000\n",
      "Writing binary file : encoding/int_r1000000_c20/gen_data/binary/4_col3.integer\n",
      "[haoyu.debug.writeBinary] v.size 1000000 sizeof(T) 4 length=4000000\n",
      "[haoyu.debug.Parser] writing binary fileencoding/int_r1000000_c20/gen_data/binary/5_col4.bitmap\n",
      "Writing binary file : encoding/int_r1000000_c20/gen_data/binary/5_col4.bitmap\n",
      "[haoyu.debug.writeBinary] v.size 1000000 sizeof(T) 1 length=1000000\n",
      "Writing binary file : encoding/int_r1000000_c20/gen_data/binary/5_col4.integer\n",
      "[haoyu.debug.writeBinary] v.size 1000000 sizeof(T) 4 length=4000000\n",
      "[haoyu.debug.Parser] writing binary fileencoding/int_r1000000_c20/gen_data/binary/6_col5.bitmap\n",
      "Writing binary file : encoding/int_r1000000_c20/gen_data/binary/6_col5.bitmap\n",
      "[haoyu.debug.writeBinary] v.size 1000000 sizeof(T) 1 length=1000000\n",
      "Writing binary file : encoding/int_r1000000_c20/gen_data/binary/6_col5.integer\n",
      "[haoyu.debug.writeBinary] v.size 1000000 sizeof(T) 4 length=4000000\n",
      "[haoyu.debug.Parser] writing binary fileencoding/int_r1000000_c20/gen_data/binary/7_col6.bitmap\n",
      "Writing binary file : encoding/int_r1000000_c20/gen_data/binary/7_col6.bitmap\n",
      "[haoyu.debug.writeBinary] v.size 1000000 sizeof(T) 1 length=1000000\n",
      "Writing binary file : encoding/int_r1000000_c20/gen_data/binary/7_col6.integer\n",
      "[haoyu.debug.writeBinary] v.size 1000000 sizeof(T) 4 length=4000000\n",
      "[haoyu.debug.Parser] writing binary fileencoding/int_r1000000_c20/gen_data/binary/8_col7.bitmap\n",
      "Writing binary file : encoding/int_r1000000_c20/gen_data/binary/8_col7.bitmap\n",
      "[haoyu.debug.writeBinary] v.size 1000000 sizeof(T) 1 length=1000000\n",
      "Writing binary file : encoding/int_r1000000_c20/gen_data/binary/8_col7.integer\n",
      "[haoyu.debug.writeBinary] v.size 1000000 sizeof(T) 4 length=4000000\n",
      "[haoyu.debug.Parser] writing binary fileencoding/int_r1000000_c20/gen_data/binary/9_col8.bitmap\n",
      "Writing binary file : encoding/int_r1000000_c20/gen_data/binary/9_col8.bitmap\n",
      "[haoyu.debug.writeBinary] v.size 1000000 sizeof(T) 1 length=1000000\n",
      "Writing binary file : encoding/int_r1000000_c20/gen_data/binary/9_col8.integer\n",
      "[haoyu.debug.writeBinary] v.size 1000000 sizeof(T) 4 length=4000000\n",
      "[haoyu.debug.Parser] writing binary fileencoding/int_r1000000_c20/gen_data/binary/10_col9.bitmap\n",
      "Writing binary file : encoding/int_r1000000_c20/gen_data/binary/10_col9.bitmap\n",
      "[haoyu.debug.writeBinary] v.size 1000000 sizeof(T) 1 length=1000000\n",
      "Writing binary file : encoding/int_r1000000_c20/gen_data/binary/10_col9.integer\n",
      "[haoyu.debug.writeBinary] v.size 1000000 sizeof(T) 4 length=4000000\n",
      "[haoyu.debug.Parser] writing binary fileencoding/int_r1000000_c20/gen_data/binary/11_col10.bitmap\n",
      "Writing binary file : encoding/int_r1000000_c20/gen_data/binary/11_col10.bitmap\n",
      "[haoyu.debug.writeBinary] v.size 1000000 sizeof(T) 1 length=1000000\n",
      "Writing binary file : encoding/int_r1000000_c20/gen_data/binary/11_col10.integer\n",
      "[haoyu.debug.writeBinary] v.size 1000000 sizeof(T) 4 length=4000000\n",
      "[haoyu.debug.Parser] writing binary fileencoding/int_r1000000_c20/gen_data/binary/12_col11.bitmap\n",
      "Writing binary file : encoding/int_r1000000_c20/gen_data/binary/12_col11.bitmap\n",
      "[haoyu.debug.writeBinary] v.size 1000000 sizeof(T) 1 length=1000000\n",
      "Writing binary file : encoding/int_r1000000_c20/gen_data/binary/12_col11.integer\n",
      "[haoyu.debug.writeBinary] v.size 1000000 sizeof(T) 4 length=4000000\n",
      "[haoyu.debug.Parser] writing binary fileencoding/int_r1000000_c20/gen_data/binary/13_col12.bitmap\n",
      "Writing binary file : encoding/int_r1000000_c20/gen_data/binary/13_col12.bitmap\n",
      "[haoyu.debug.writeBinary] v.size 1000000 sizeof(T) 1 length=1000000\n",
      "Writing binary file : encoding/int_r1000000_c20/gen_data/binary/13_col12.integer\n",
      "[haoyu.debug.writeBinary] v.size 1000000 sizeof(T) 4 length=4000000\n",
      "[haoyu.debug.Parser] writing binary fileencoding/int_r1000000_c20/gen_data/binary/14_col13.bitmap\n",
      "Writing binary file : encoding/int_r1000000_c20/gen_data/binary/14_col13.bitmap\n",
      "[haoyu.debug.writeBinary] v.size 1000000 sizeof(T) 1 length=1000000\n",
      "Writing binary file : encoding/int_r1000000_c20/gen_data/binary/14_col13.integer\n",
      "[haoyu.debug.writeBinary] v.size 1000000 sizeof(T) 4 length=4000000\n",
      "[haoyu.debug.Parser] writing binary fileencoding/int_r1000000_c20/gen_data/binary/15_col14.bitmap\n",
      "Writing binary file : encoding/int_r1000000_c20/gen_data/binary/15_col14.bitmap\n",
      "[haoyu.debug.writeBinary] v.size 1000000 sizeof(T) 1 length=1000000\n",
      "Writing binary file : encoding/int_r1000000_c20/gen_data/binary/15_col14.integer\n",
      "[haoyu.debug.writeBinary] v.size 1000000 sizeof(T) 4 length=4000000\n",
      "[haoyu.debug.Parser] writing binary fileencoding/int_r1000000_c20/gen_data/binary/16_col15.bitmap\n",
      "Writing binary file : encoding/int_r1000000_c20/gen_data/binary/16_col15.bitmap\n",
      "[haoyu.debug.writeBinary] v.size 1000000 sizeof(T) 1 length=1000000\n",
      "Writing binary file : encoding/int_r1000000_c20/gen_data/binary/16_col15.integer\n",
      "[haoyu.debug.writeBinary] v.size 1000000 sizeof(T) 4 length=4000000\n",
      "[haoyu.debug.Parser] writing binary fileencoding/int_r1000000_c20/gen_data/binary/17_col16.bitmap\n",
      "Writing binary file : encoding/int_r1000000_c20/gen_data/binary/17_col16.bitmap\n",
      "[haoyu.debug.writeBinary] v.size 1000000 sizeof(T) 1 length=1000000\n",
      "Writing binary file : encoding/int_r1000000_c20/gen_data/binary/17_col16.integer\n",
      "[haoyu.debug.writeBinary] v.size 1000000 sizeof(T) 4 length=4000000\n",
      "[haoyu.debug.Parser] writing binary fileencoding/int_r1000000_c20/gen_data/binary/18_col17.bitmap\n",
      "Writing binary file : encoding/int_r1000000_c20/gen_data/binary/18_col17.bitmap\n",
      "[haoyu.debug.writeBinary] v.size 1000000 sizeof(T) 1 length=1000000\n",
      "Writing binary file : encoding/int_r1000000_c20/gen_data/binary/18_col17.integer\n",
      "[haoyu.debug.writeBinary] v.size 1000000 sizeof(T) 4 length=4000000\n",
      "[haoyu.debug.Parser] writing binary fileencoding/int_r1000000_c20/gen_data/binary/19_col18.bitmap\n",
      "Writing binary file : encoding/int_r1000000_c20/gen_data/binary/19_col18.bitmap\n",
      "[haoyu.debug.writeBinary] v.size 1000000 sizeof(T) 1 length=1000000\n",
      "Writing binary file : encoding/int_r1000000_c20/gen_data/binary/19_col18.integer\n",
      "[haoyu.debug.writeBinary] v.size 1000000 sizeof(T) 4 length=4000000\n",
      "[haoyu.debug.Parser] writing binary fileencoding/int_r1000000_c20/gen_data/binary/20_col19.bitmap\n",
      "Writing binary file : encoding/int_r1000000_c20/gen_data/binary/20_col19.bitmap\n",
      "[haoyu.debug.writeBinary] v.size 1000000 sizeof(T) 1 length=1000000\n",
      "Writing binary file : encoding/int_r1000000_c20/gen_data/binary/20_col19.integer\n",
      "[haoyu.debug.writeBinary] v.size 1000000 sizeof(T) 4 length=4000000\n",
      "[2024-03-19 23:48:42.915] [info] Creating btr files in encoding/int_r1000000_c20/gen_data/btr/\n"
     ]
    },
    {
     "name": "stderr",
     "output_type": "stream",
     "text": [
      "!!! compressed is larger than raw: \n",
      "for : values - scheme = DICT difference = 1. Falling back to uncompressed.\n",
      "!!! compressed is larger than raw: \n",
      "for : values - scheme = DICT difference = 5. Falling back to uncompressed.\n"
     ]
    },
    {
     "name": "stdout",
     "output_type": "stream",
     "text": [
      "[2024-03-19 23:48:45.587] [info] Creating binary files in encoding/float_r1000000_c20/gen_data/binary/\n",
      "column name = col0 , type = double\n",
      "column name = col1 , type = double\n",
      "column name = col2 , type = double\n",
      "column name = col3 , type = double\n",
      "column name = col4 , type = double\n",
      "column name = col5 , type = double\n",
      "column name = col6 , type = double\n",
      "column name = col7 , type = double\n",
      "column name = col8 , type = double\n",
      "column name = col9 , type = double\n",
      "column name = col10 , type = double\n",
      "column name = col11 , type = double\n",
      "column name = col12 , type = double\n",
      "column name = col13 , type = double\n",
      "column name = col14 , type = double\n",
      "column name = col15 , type = double\n",
      "column name = col16 , type = double\n",
      "column name = col17 , type = double\n",
      "column name = col18 , type = double\n",
      "column name = col19 , type = double\n",
      "[haoyu.debug.Parser] writing binary fileencoding/float_r1000000_c20/gen_data/binary/1_col0.bitmap\n",
      "Writing binary file : encoding/float_r1000000_c20/gen_data/binary/1_col0.bitmap\n",
      "[haoyu.debug.writeBinary] v.size 1000000 sizeof(T) 1 length=1000000\n",
      "Writing binary file : encoding/float_r1000000_c20/gen_data/binary/1_col0.double\n",
      "[haoyu.debug.writeBinary] v.size 1000000 sizeof(T) 8 length=8000000\n",
      "[haoyu.debug.Parser] writing binary fileencoding/float_r1000000_c20/gen_data/binary/2_col1.bitmap\n",
      "Writing binary file : encoding/float_r1000000_c20/gen_data/binary/2_col1.bitmap\n",
      "[haoyu.debug.writeBinary] v.size 1000000 sizeof(T) 1 length=1000000\n",
      "Writing binary file : encoding/float_r1000000_c20/gen_data/binary/2_col1.double\n",
      "[haoyu.debug.writeBinary] v.size 1000000 sizeof(T) 8 length=8000000\n",
      "[haoyu.debug.Parser] writing binary fileencoding/float_r1000000_c20/gen_data/binary/3_col2.bitmap\n",
      "Writing binary file : encoding/float_r1000000_c20/gen_data/binary/3_col2.bitmap\n",
      "[haoyu.debug.writeBinary] v.size 1000000 sizeof(T) 1 length=1000000\n",
      "Writing binary file : encoding/float_r1000000_c20/gen_data/binary/3_col2.double\n",
      "[haoyu.debug.writeBinary] v.size 1000000 sizeof(T) 8 length=8000000\n",
      "[haoyu.debug.Parser] writing binary fileencoding/float_r1000000_c20/gen_data/binary/4_col3.bitmap\n",
      "Writing binary file : encoding/float_r1000000_c20/gen_data/binary/4_col3.bitmap\n",
      "[haoyu.debug.writeBinary] v.size 1000000 sizeof(T) 1 length=1000000\n",
      "Writing binary file : encoding/float_r1000000_c20/gen_data/binary/4_col3.double\n",
      "[haoyu.debug.writeBinary] v.size 1000000 sizeof(T) 8 length=8000000\n",
      "[haoyu.debug.Parser] writing binary fileencoding/float_r1000000_c20/gen_data/binary/5_col4.bitmap\n",
      "Writing binary file : encoding/float_r1000000_c20/gen_data/binary/5_col4.bitmap\n",
      "[haoyu.debug.writeBinary] v.size 1000000 sizeof(T) 1 length=1000000\n",
      "Writing binary file : encoding/float_r1000000_c20/gen_data/binary/5_col4.double\n",
      "[haoyu.debug.writeBinary] v.size 1000000 sizeof(T) 8 length=8000000\n",
      "[haoyu.debug.Parser] writing binary fileencoding/float_r1000000_c20/gen_data/binary/6_col5.bitmap\n",
      "Writing binary file : encoding/float_r1000000_c20/gen_data/binary/6_col5.bitmap\n",
      "[haoyu.debug.writeBinary] v.size 1000000 sizeof(T) 1 length=1000000\n",
      "Writing binary file : encoding/float_r1000000_c20/gen_data/binary/6_col5.double\n",
      "[haoyu.debug.writeBinary] v.size 1000000 sizeof(T) 8 length=8000000\n",
      "[haoyu.debug.Parser] writing binary fileencoding/float_r1000000_c20/gen_data/binary/7_col6.bitmap\n",
      "Writing binary file : encoding/float_r1000000_c20/gen_data/binary/7_col6.bitmap\n",
      "[haoyu.debug.writeBinary] v.size 1000000 sizeof(T) 1 length=1000000\n",
      "Writing binary file : encoding/float_r1000000_c20/gen_data/binary/7_col6.double\n",
      "[haoyu.debug.writeBinary] v.size 1000000 sizeof(T) 8 length=8000000\n",
      "[haoyu.debug.Parser] writing binary fileencoding/float_r1000000_c20/gen_data/binary/8_col7.bitmap\n",
      "Writing binary file : encoding/float_r1000000_c20/gen_data/binary/8_col7.bitmap\n",
      "[haoyu.debug.writeBinary] v.size 1000000 sizeof(T) 1 length=1000000\n",
      "Writing binary file : encoding/float_r1000000_c20/gen_data/binary/8_col7.double\n",
      "[haoyu.debug.writeBinary] v.size 1000000 sizeof(T) 8 length=8000000\n",
      "[haoyu.debug.Parser] writing binary fileencoding/float_r1000000_c20/gen_data/binary/9_col8.bitmap\n",
      "Writing binary file : encoding/float_r1000000_c20/gen_data/binary/9_col8.bitmap\n",
      "[haoyu.debug.writeBinary] v.size 1000000 sizeof(T) 1 length=1000000\n",
      "Writing binary file : encoding/float_r1000000_c20/gen_data/binary/9_col8.double\n",
      "[haoyu.debug.writeBinary] v.size 1000000 sizeof(T) 8 length=8000000\n",
      "[haoyu.debug.Parser] writing binary fileencoding/float_r1000000_c20/gen_data/binary/10_col9.bitmap\n",
      "Writing binary file : encoding/float_r1000000_c20/gen_data/binary/10_col9.bitmap\n",
      "[haoyu.debug.writeBinary] v.size 1000000 sizeof(T) 1 length=1000000\n",
      "Writing binary file : encoding/float_r1000000_c20/gen_data/binary/10_col9.double\n",
      "[haoyu.debug.writeBinary] v.size 1000000 sizeof(T) 8 length=8000000\n",
      "[haoyu.debug.Parser] writing binary fileencoding/float_r1000000_c20/gen_data/binary/11_col10.bitmap\n",
      "Writing binary file : encoding/float_r1000000_c20/gen_data/binary/11_col10.bitmap\n",
      "[haoyu.debug.writeBinary] v.size 1000000 sizeof(T) 1 length=1000000\n",
      "Writing binary file : encoding/float_r1000000_c20/gen_data/binary/11_col10.double\n",
      "[haoyu.debug.writeBinary] v.size 1000000 sizeof(T) 8 length=8000000\n",
      "[haoyu.debug.Parser] writing binary fileencoding/float_r1000000_c20/gen_data/binary/12_col11.bitmap\n",
      "Writing binary file : encoding/float_r1000000_c20/gen_data/binary/12_col11.bitmap\n",
      "[haoyu.debug.writeBinary] v.size 1000000 sizeof(T) 1 length=1000000\n",
      "Writing binary file : encoding/float_r1000000_c20/gen_data/binary/12_col11.double\n",
      "[haoyu.debug.writeBinary] v.size 1000000 sizeof(T) 8 length=8000000\n",
      "[haoyu.debug.Parser] writing binary fileencoding/float_r1000000_c20/gen_data/binary/13_col12.bitmap\n",
      "Writing binary file : encoding/float_r1000000_c20/gen_data/binary/13_col12.bitmap\n",
      "[haoyu.debug.writeBinary] v.size 1000000 sizeof(T) 1 length=1000000\n",
      "Writing binary file : encoding/float_r1000000_c20/gen_data/binary/13_col12.double\n",
      "[haoyu.debug.writeBinary] v.size 1000000 sizeof(T) 8 length=8000000\n",
      "[haoyu.debug.Parser] writing binary fileencoding/float_r1000000_c20/gen_data/binary/14_col13.bitmap\n",
      "Writing binary file : encoding/float_r1000000_c20/gen_data/binary/14_col13.bitmap\n",
      "[haoyu.debug.writeBinary] v.size 1000000 sizeof(T) 1 length=1000000\n",
      "Writing binary file : encoding/float_r1000000_c20/gen_data/binary/14_col13.double\n",
      "[haoyu.debug.writeBinary] v.size 1000000 sizeof(T) 8 length=8000000\n",
      "[haoyu.debug.Parser] writing binary fileencoding/float_r1000000_c20/gen_data/binary/15_col14.bitmap\n",
      "Writing binary file : encoding/float_r1000000_c20/gen_data/binary/15_col14.bitmap\n",
      "[haoyu.debug.writeBinary] v.size 1000000 sizeof(T) 1 length=1000000\n",
      "Writing binary file : encoding/float_r1000000_c20/gen_data/binary/15_col14.double\n",
      "[haoyu.debug.writeBinary] v.size 1000000 sizeof(T) 8 length=8000000\n",
      "[haoyu.debug.Parser] writing binary fileencoding/float_r1000000_c20/gen_data/binary/16_col15.bitmap\n",
      "Writing binary file : encoding/float_r1000000_c20/gen_data/binary/16_col15.bitmap\n",
      "[haoyu.debug.writeBinary] v.size 1000000 sizeof(T) 1 length=1000000\n",
      "Writing binary file : encoding/float_r1000000_c20/gen_data/binary/16_col15.double\n",
      "[haoyu.debug.writeBinary] v.size 1000000 sizeof(T) 8 length=8000000\n",
      "[haoyu.debug.Parser] writing binary fileencoding/float_r1000000_c20/gen_data/binary/17_col16.bitmap\n",
      "Writing binary file : encoding/float_r1000000_c20/gen_data/binary/17_col16.bitmap\n",
      "[haoyu.debug.writeBinary] v.size 1000000 sizeof(T) 1 length=1000000\n",
      "Writing binary file : encoding/float_r1000000_c20/gen_data/binary/17_col16.double\n",
      "[haoyu.debug.writeBinary] v.size 1000000 sizeof(T) 8 length=8000000\n",
      "[haoyu.debug.Parser] writing binary fileencoding/float_r1000000_c20/gen_data/binary/18_col17.bitmap\n",
      "Writing binary file : encoding/float_r1000000_c20/gen_data/binary/18_col17.bitmap\n",
      "[haoyu.debug.writeBinary] v.size 1000000 sizeof(T) 1 length=1000000\n",
      "Writing binary file : encoding/float_r1000000_c20/gen_data/binary/18_col17.double\n",
      "[haoyu.debug.writeBinary] v.size 1000000 sizeof(T) 8 length=8000000\n",
      "[haoyu.debug.Parser] writing binary fileencoding/float_r1000000_c20/gen_data/binary/19_col18.bitmap\n",
      "Writing binary file : encoding/float_r1000000_c20/gen_data/binary/19_col18.bitmap\n",
      "[haoyu.debug.writeBinary] v.size 1000000 sizeof(T) 1 length=1000000\n",
      "Writing binary file : encoding/float_r1000000_c20/gen_data/binary/19_col18.double\n",
      "[haoyu.debug.writeBinary] v.size 1000000 sizeof(T) 8 length=8000000\n",
      "[haoyu.debug.Parser] writing binary fileencoding/float_r1000000_c20/gen_data/binary/20_col19.bitmap\n",
      "Writing binary file : encoding/float_r1000000_c20/gen_data/binary/20_col19.bitmap\n",
      "[haoyu.debug.writeBinary] v.size 1000000 sizeof(T) 1 length=1000000\n",
      "Writing binary file : encoding/float_r1000000_c20/gen_data/binary/20_col19.double\n",
      "[haoyu.debug.writeBinary] v.size 1000000 sizeof(T) 8 length=8000000\n",
      "[2024-03-19 23:48:59.641] [info] Creating btr files in encoding/float_r1000000_c20/gen_data/btr/\n"
     ]
    },
    {
     "name": "stderr",
     "output_type": "stream",
     "text": [
      "!!! compressed is larger than raw: \n",
      "for : values - scheme = DICT difference = 9. Falling back to uncompressed.\n",
      "!!! compressed is larger than raw: \n",
      "for : values - scheme = DICT difference = 21. Falling back to uncompressed.\n"
     ]
    },
    {
     "name": "stdout",
     "output_type": "stream",
     "text": [
      "[2024-03-19 23:49:06.544] [info] Creating binary files in encoding/string_r1000000_c20/gen_data/binary/\n",
      "column name = col0 , type = string\n",
      "column name = col1 , type = string\n",
      "column name = col2 , type = string\n",
      "column name = col3 , type = string\n",
      "column name = col4 , type = string\n",
      "column name = col5 , type = string\n",
      "column name = col6 , type = string\n",
      "column name = col7 , type = string\n",
      "column name = col8 , type = string\n",
      "column name = col9 , type = string\n",
      "column name = col10 , type = string\n",
      "column name = col11 , type = string\n",
      "column name = col12 , type = string\n",
      "column name = col13 , type = string\n",
      "column name = col14 , type = string\n",
      "column name = col15 , type = string\n",
      "column name = col16 , type = string\n",
      "column name = col17 , type = string\n",
      "column name = col18 , type = string\n",
      "column name = col19 , type = string\n",
      "[haoyu.debug.Parser] writing binary fileencoding/string_r1000000_c20/gen_data/binary/1_col0.bitmap\n",
      "Writing binary file : encoding/string_r1000000_c20/gen_data/binary/1_col0.bitmap\n",
      "[haoyu.debug.writeBinary] v.size 1000000 sizeof(T) 1 length=1000000\n",
      "[haoyu.debug.Parser] writing binary fileencoding/string_r1000000_c20/gen_data/binary/2_col1.bitmap\n",
      "Writing binary file : encoding/string_r1000000_c20/gen_data/binary/2_col1.bitmap\n",
      "[haoyu.debug.writeBinary] v.size 1000000 sizeof(T) 1 length=1000000\n",
      "[haoyu.debug.Parser] writing binary fileencoding/string_r1000000_c20/gen_data/binary/3_col2.bitmap\n",
      "Writing binary file : encoding/string_r1000000_c20/gen_data/binary/3_col2.bitmap\n",
      "[haoyu.debug.writeBinary] v.size 1000000 sizeof(T) 1 length=1000000\n",
      "[haoyu.debug.Parser] writing binary fileencoding/string_r1000000_c20/gen_data/binary/4_col3.bitmap\n",
      "Writing binary file : encoding/string_r1000000_c20/gen_data/binary/4_col3.bitmap\n",
      "[haoyu.debug.writeBinary] v.size 1000000 sizeof(T) 1 length=1000000\n",
      "[haoyu.debug.Parser] writing binary fileencoding/string_r1000000_c20/gen_data/binary/5_col4.bitmap\n",
      "Writing binary file : encoding/string_r1000000_c20/gen_data/binary/5_col4.bitmap\n",
      "[haoyu.debug.writeBinary] v.size 1000000 sizeof(T) 1 length=1000000\n",
      "[haoyu.debug.Parser] writing binary fileencoding/string_r1000000_c20/gen_data/binary/6_col5.bitmap\n",
      "Writing binary file : encoding/string_r1000000_c20/gen_data/binary/6_col5.bitmap\n",
      "[haoyu.debug.writeBinary] v.size 1000000 sizeof(T) 1 length=1000000\n",
      "[haoyu.debug.Parser] writing binary fileencoding/string_r1000000_c20/gen_data/binary/7_col6.bitmap\n",
      "Writing binary file : encoding/string_r1000000_c20/gen_data/binary/7_col6.bitmap\n",
      "[haoyu.debug.writeBinary] v.size 1000000 sizeof(T) 1 length=1000000\n",
      "[haoyu.debug.Parser] writing binary fileencoding/string_r1000000_c20/gen_data/binary/8_col7.bitmap\n",
      "Writing binary file : encoding/string_r1000000_c20/gen_data/binary/8_col7.bitmap\n",
      "[haoyu.debug.writeBinary] v.size 1000000 sizeof(T) 1 length=1000000\n",
      "[haoyu.debug.Parser] writing binary fileencoding/string_r1000000_c20/gen_data/binary/9_col8.bitmap\n",
      "Writing binary file : encoding/string_r1000000_c20/gen_data/binary/9_col8.bitmap\n",
      "[haoyu.debug.writeBinary] v.size 1000000 sizeof(T) 1 length=1000000\n",
      "[haoyu.debug.Parser] writing binary fileencoding/string_r1000000_c20/gen_data/binary/10_col9.bitmap\n",
      "Writing binary file : encoding/string_r1000000_c20/gen_data/binary/10_col9.bitmap\n",
      "[haoyu.debug.writeBinary] v.size 1000000 sizeof(T) 1 length=1000000\n",
      "[haoyu.debug.Parser] writing binary fileencoding/string_r1000000_c20/gen_data/binary/11_col10.bitmap\n",
      "Writing binary file : encoding/string_r1000000_c20/gen_data/binary/11_col10.bitmap\n",
      "[haoyu.debug.writeBinary] v.size 1000000 sizeof(T) 1 length=1000000\n",
      "[haoyu.debug.Parser] writing binary fileencoding/string_r1000000_c20/gen_data/binary/12_col11.bitmap\n",
      "Writing binary file : encoding/string_r1000000_c20/gen_data/binary/12_col11.bitmap\n",
      "[haoyu.debug.writeBinary] v.size 1000000 sizeof(T) 1 length=1000000\n",
      "[haoyu.debug.Parser] writing binary fileencoding/string_r1000000_c20/gen_data/binary/13_col12.bitmap\n",
      "Writing binary file : encoding/string_r1000000_c20/gen_data/binary/13_col12.bitmap\n",
      "[haoyu.debug.writeBinary] v.size 1000000 sizeof(T) 1 length=1000000\n",
      "[haoyu.debug.Parser] writing binary fileencoding/string_r1000000_c20/gen_data/binary/14_col13.bitmap\n",
      "Writing binary file : encoding/string_r1000000_c20/gen_data/binary/14_col13.bitmap\n",
      "[haoyu.debug.writeBinary] v.size 1000000 sizeof(T) 1 length=1000000\n",
      "[haoyu.debug.Parser] writing binary fileencoding/string_r1000000_c20/gen_data/binary/15_col14.bitmap\n",
      "Writing binary file : encoding/string_r1000000_c20/gen_data/binary/15_col14.bitmap\n",
      "[haoyu.debug.writeBinary] v.size 1000000 sizeof(T) 1 length=1000000\n",
      "[haoyu.debug.Parser] writing binary fileencoding/string_r1000000_c20/gen_data/binary/16_col15.bitmap\n",
      "Writing binary file : encoding/string_r1000000_c20/gen_data/binary/16_col15.bitmap\n",
      "[haoyu.debug.writeBinary] v.size 1000000 sizeof(T) 1 length=1000000\n",
      "[haoyu.debug.Parser] writing binary fileencoding/string_r1000000_c20/gen_data/binary/17_col16.bitmap\n",
      "Writing binary file : encoding/string_r1000000_c20/gen_data/binary/17_col16.bitmap\n",
      "[haoyu.debug.writeBinary] v.size 1000000 sizeof(T) 1 length=1000000\n",
      "[haoyu.debug.Parser] writing binary fileencoding/string_r1000000_c20/gen_data/binary/18_col17.bitmap\n",
      "Writing binary file : encoding/string_r1000000_c20/gen_data/binary/18_col17.bitmap\n",
      "[haoyu.debug.writeBinary] v.size 1000000 sizeof(T) 1 length=1000000\n",
      "[haoyu.debug.Parser] writing binary fileencoding/string_r1000000_c20/gen_data/binary/19_col18.bitmap\n",
      "Writing binary file : encoding/string_r1000000_c20/gen_data/binary/19_col18.bitmap\n",
      "[haoyu.debug.writeBinary] v.size 1000000 sizeof(T) 1 length=1000000\n",
      "[haoyu.debug.Parser] writing binary fileencoding/string_r1000000_c20/gen_data/binary/20_col19.bitmap\n",
      "Writing binary file : encoding/string_r1000000_c20/gen_data/binary/20_col19.bitmap\n",
      "[haoyu.debug.writeBinary] v.size 1000000 sizeof(T) 1 length=1000000\n",
      "[2024-03-19 23:49:19.679] [info] Creating btr files in encoding/string_r1000000_c20/gen_data/btr/\n"
     ]
    }
   ],
   "source": [
    "os.chdir(f'{PROJ_SRC_DIR}/python')\n",
    "for wl in workload_list:\n",
    "        base_name = f'{wl}_r{num_rows}_c{num_cols}'\n",
    "        os.system(f'mkdir encoding/{base_name}/gen_data/binary')\n",
    "        os.system(f'mkdir encoding/{base_name}/gen_data/btr')\n",
    "    \n",
    "        os.system(f'~/btrblocks/build/csvtobtr -create_binary -binary encoding/{base_name}/gen_data/binary/ -csv encoding/{base_name}/gen_data/{base_name}.csv -yaml encoding/{base_name}/gen_data/{base_name}_btrblocks_schema.yaml')\n",
    "        os.system(f'~/btrblocks/build/csvtobtr -create_btr -btr encoding/{base_name}/gen_data/btr/ -binary encoding/{base_name}/gen_data/binary/ -csv encoding/{base_name}/gen_data/{base_name}.csv -yaml encoding/{base_name}/gen_data/{base_name}_btrblocks_schema.yaml')"
   ]
  },
  {
   "cell_type": "code",
   "execution_count": 7,
   "metadata": {},
   "outputs": [
    {
     "name": "stderr",
     "output_type": "stream",
     "text": [
      "[sudo] password for haoyuq: Decompressing columns: 0 1 2 3 4 5 6 7 8 9 10 11 12 13 14 15 16 17 18 19 \n",
      "Decompressing columns: 0 1 2 3 4 5 6 7 8 9 10 11 12 13 14 15 16 17 18 19 \n",
      "[sudo] password for haoyuq: Decompressing columns: 0 1 2 3 4 5 6 7 8 9 10 11 12 13 14 15 16 17 18 19 \n",
      "Decompressing columns: 0 1 2 3 4 5 6 7 8 9 10 11 12 13 14 15 16 17 18 19 \n",
      "[sudo] password for haoyuq: Decompressing columns: 0 1 2 3 4 5 6 7 8 9 10 11 12 13 14 15 16 17 18 19 \n",
      "Decompressing columns: 0 1 2 3 4 5 6 7 8 9 10 11 12 13 14 15 16 17 18 19 \n",
      "[sudo] password for haoyuq: [sudo] password for haoyuq: [sudo] password for haoyuq: [sudo] password for haoyuq: [sudo] password for haoyuq: [sudo] password for haoyuq: [sudo] password for haoyuq: [sudo] password for haoyuq: [sudo] password for haoyuq: [sudo] password for haoyuq: [sudo] password for haoyuq: [sudo] password for haoyuq: [sudo] password for haoyuq: [sudo] password for haoyuq: [sudo] password for haoyuq: [sudo] password for haoyuq: [sudo] password for haoyuq: [sudo] password for haoyuq: [sudo] password for haoyuq: [sudo] password for haoyuq: [sudo] password for haoyuq: [sudo] password for haoyuq: [sudo] password for haoyuq: [sudo] password for haoyuq: [sudo] password for haoyuq: Decompressing columns: 0 1 2 3 4 5 6 7 8 9 10 11 12 13 14 15 16 17 18 19 \n",
      "Decompressing columns: 0 1 2 3 4 5 6 7 8 9 10 11 12 13 14 15 16 17 18 19 \n",
      "[sudo] password for haoyuq: Decompressing columns: 0 1 2 3 4 5 6 7 8 9 10 11 12 13 14 15 16 17 18 19 \n",
      "Decompressing columns: 0 1 2 3 4 5 6 7 8 9 10 11 12 13 14 15 16 17 18 19 \n",
      "[sudo] password for haoyuq: Decompressing columns: 0 1 2 3 4 5 6 7 8 9 10 11 12 13 14 15 16 17 18 19 \n",
      "Decompressing columns: 0 1 2 3 4 5 6 7 8 9 10 11 12 13 14 15 16 17 18 19 \n",
      "[sudo] password for haoyuq: [sudo] password for haoyuq: [sudo] password for haoyuq: [sudo] password for haoyuq: [sudo] password for haoyuq: [sudo] password for haoyuq: [sudo] password for haoyuq: [sudo] password for haoyuq: [sudo] password for haoyuq: [sudo] password for haoyuq: [sudo] password for haoyuq: [sudo] password for haoyuq: [sudo] password for haoyuq: [sudo] password for haoyuq: [sudo] password for haoyuq: [sudo] password for haoyuq: [sudo] password for haoyuq: [sudo] password for haoyuq: [sudo] password for haoyuq: [sudo] password for haoyuq: [sudo] password for haoyuq: [sudo] password for haoyuq: [sudo] password for haoyuq: [sudo] password for haoyuq: [sudo] password for haoyuq: Decompressing columns: 0 1 2 3 4 5 6 7 8 9 10 11 12 13 14 15 16 17 18 19 \n",
      "Decompressing columns: 0 1 2 3 4 5 6 7 8 9 10 11 12 13 14 15 16 17 18 19 \n",
      "[sudo] password for haoyuq: Decompressing columns: 0 1 2 3 4 5 6 7 8 9 10 11 12 13 14 15 16 17 18 19 \n",
      "Decompressing columns: 0 1 2 3 4 5 6 7 8 9 10 11 12 13 14 15 16 17 18 19 \n",
      "[sudo] password for haoyuq: Decompressing columns: 0 1 2 3 4 5 6 7 8 9 10 11 12 13 14 15 16 17 18 19 \n",
      "Decompressing columns: 0 1 2 3 4 5 6 7 8 9 10 11 12 13 14 15 16 17 18 19 \n",
      "[sudo] password for haoyuq: [sudo] password for haoyuq: [sudo] password for haoyuq: [sudo] password for haoyuq: [sudo] password for haoyuq: [sudo] password for haoyuq: [sudo] password for haoyuq: [sudo] password for haoyuq: [sudo] password for haoyuq: [sudo] password for haoyuq: [sudo] password for haoyuq: [sudo] password for haoyuq: [sudo] password for haoyuq: [sudo] password for haoyuq: [sudo] password for haoyuq: [sudo] password for haoyuq: [sudo] password for haoyuq: [sudo] password for haoyuq: [sudo] password for haoyuq: [sudo] password for haoyuq: [sudo] password for haoyuq: [sudo] password for haoyuq: [sudo] password for haoyuq: [sudo] password for haoyuq: [sudo] password for haoyuq: Decompressing columns: 0 1 2 3 4 5 6 7 8 9 10 11 12 13 14 15 16 17 18 19 \n",
      "Decompressing columns: 0 1 2 3 4 5 6 7 8 9 10 11 12 13 14 15 16 17 18 19 \n",
      "[sudo] password for haoyuq: Decompressing columns: 0 1 2 3 4 5 6 7 8 9 10 11 12 13 14 15 16 17 18 19 \n",
      "Decompressing columns: 0 1 2 3 4 5 6 7 8 9 10 11 12 13 14 15 16 17 18 19 \n",
      "[sudo] password for haoyuq: Decompressing columns: 0 1 2 3 4 5 6 7 8 9 10 11 12 13 14 15 16 17 18 19 \n",
      "Decompressing columns: 0 1 2 3 4 5 6 7 8 9 10 11 12 13 14 15 16 17 18 19 \n",
      "[sudo] password for haoyuq: [sudo] password for haoyuq: [sudo] password for haoyuq: [sudo] password for haoyuq: [sudo] password for haoyuq: [sudo] password for haoyuq: [sudo] password for haoyuq: [sudo] password for haoyuq: [sudo] password for haoyuq: [sudo] password for haoyuq: [sudo] password for haoyuq: [sudo] password for haoyuq: [sudo] password for haoyuq: [sudo] password for haoyuq: [sudo] password for haoyuq: [sudo] password for haoyuq: [sudo] password for haoyuq: [sudo] password for haoyuq: [sudo] password for haoyuq: [sudo] password for haoyuq: [sudo] password for haoyuq: [sudo] password for haoyuq: [sudo] password for haoyuq: [sudo] password for haoyuq: [sudo] password for haoyuq: Decompressing columns: 0 1 2 3 4 5 6 7 8 9 10 11 12 13 14 15 16 17 18 19 \n",
      "Decompressing columns: 0 1 2 3 4 5 6 7 8 9 10 11 12 13 14 15 16 17 18 19 \n",
      "[sudo] password for haoyuq: Decompressing columns: 0 1 2 3 4 5 6 7 8 9 10 11 12 13 14 15 16 17 18 19 \n",
      "Decompressing columns: 0 1 2 3 4 5 6 7 8 9 10 11 12 13 14 15 16 17 18 19 \n",
      "[sudo] password for haoyuq: Decompressing columns: 0 1 2 3 4 5 6 7 8 9 10 11 12 13 14 15 16 17 18 19 \n",
      "Decompressing columns: 0 1 2 3 4 5 6 7 8 9 10 11 12 13 14 15 16 17 18 19 \n",
      "[sudo] password for haoyuq: [sudo] password for haoyuq: [sudo] password for haoyuq: [sudo] password for haoyuq: [sudo] password for haoyuq: [sudo] password for haoyuq: [sudo] password for haoyuq: [sudo] password for haoyuq: [sudo] password for haoyuq: [sudo] password for haoyuq: [sudo] password for haoyuq: [sudo] password for haoyuq: [sudo] password for haoyuq: [sudo] password for haoyuq: [sudo] password for haoyuq: [sudo] password for haoyuq: [sudo] password for haoyuq: [sudo] password for haoyuq: [sudo] password for haoyuq: [sudo] password for haoyuq: [sudo] password for haoyuq: [sudo] password for haoyuq: [sudo] password for haoyuq: [sudo] password for haoyuq: [sudo] password for haoyuq: Decompressing columns: 0 1 2 3 4 5 6 7 8 9 10 11 12 13 14 15 16 17 18 19 \n",
      "Decompressing columns: 0 1 2 3 4 5 6 7 8 9 10 11 12 13 14 15 16 17 18 19 \n",
      "[sudo] password for haoyuq: Decompressing columns: 0 1 2 3 4 5 6 7 8 9 10 11 12 13 14 15 16 17 18 19 \n",
      "Decompressing columns: 0 1 2 3 4 5 6 7 8 9 10 11 12 13 14 15 16 17 18 19 \n",
      "[sudo] password for haoyuq: Decompressing columns: 0 1 2 3 4 5 6 7 8 9 10 11 12 13 14 15 16 17 18 19 \n",
      "Decompressing columns: 0 1 2 3 4 5 6 7 8 9 10 11 12 13 14 15 16 17 18 19 \n",
      "[sudo] password for haoyuq: [sudo] password for haoyuq: [sudo] password for haoyuq: [sudo] password for haoyuq: [sudo] password for haoyuq: [sudo] password for haoyuq: [sudo] password for haoyuq: [sudo] password for haoyuq: [sudo] password for haoyuq: [sudo] password for haoyuq: [sudo] password for haoyuq: [sudo] password for haoyuq: [sudo] password for haoyuq: [sudo] password for haoyuq: [sudo] password for haoyuq: [sudo] password for haoyuq: [sudo] password for haoyuq: [sudo] password for haoyuq: [sudo] password for haoyuq: [sudo] password for haoyuq: [sudo] password for haoyuq: [sudo] password for haoyuq: [sudo] password for haoyuq: [sudo] password for haoyuq: [sudo] password for haoyuq: Decompressing columns: 0 1 2 3 4 5 6 7 8 9 10 11 12 13 14 15 16 17 18 19 \n",
      "Decompressing columns: 0 1 2 3 4 5 6 7 8 9 10 11 12 13 14 15 16 17 18 19 \n",
      "[sudo] password for haoyuq: Decompressing columns: 0 1 2 3 4 5 6 7 8 9 10 11 12 13 14 15 16 17 18 19 \n",
      "Decompressing columns: 0 1 2 3 4 5 6 7 8 9 10 11 12 13 14 15 16 17 18 19 \n",
      "[sudo] password for haoyuq: Decompressing columns: 0 1 2 3 4 5 6 7 8 9 10 11 12 13 14 15 16 17 18 19 \n",
      "Decompressing columns: 0 1 2 3 4 5 6 7 8 9 10 11 12 13 14 15 16 17 18 19 \n",
      "[sudo] password for haoyuq: [sudo] password for haoyuq: [sudo] password for haoyuq: [sudo] password for haoyuq: [sudo] password for haoyuq: [sudo] password for haoyuq: [sudo] password for haoyuq: [sudo] password for haoyuq: [sudo] password for haoyuq: [sudo] password for haoyuq: [sudo] password for haoyuq: [sudo] password for haoyuq: [sudo] password for haoyuq: [sudo] password for haoyuq: [sudo] password for haoyuq: [sudo] password for haoyuq: [sudo] password for haoyuq: [sudo] password for haoyuq: [sudo] password for haoyuq: [sudo] password for haoyuq: [sudo] password for haoyuq: [sudo] password for haoyuq: [sudo] password for haoyuq: [sudo] password for haoyuq: [sudo] password for haoyuq: Decompressing columns: 0 1 2 3 4 5 6 7 8 9 10 11 12 13 14 15 16 17 18 19 \n",
      "Decompressing columns: 0 1 2 3 4 5 6 7 8 9 10 11 12 13 14 15 16 17 18 19 \n",
      "[sudo] password for haoyuq: Decompressing columns: 0 1 2 3 4 5 6 7 8 9 10 11 12 13 14 15 16 17 18 19 \n",
      "Decompressing columns: 0 1 2 3 4 5 6 7 8 9 10 11 12 13 14 15 16 17 18 19 \n",
      "[sudo] password for haoyuq: Decompressing columns: 0 1 2 3 4 5 6 7 8 9 10 11 12 13 14 15 16 17 18 19 \n",
      "Decompressing columns: 0 1 2 3 4 5 6 7 8 9 10 11 12 13 14 15 16 17 18 19 \n",
      "[sudo] password for haoyuq: [sudo] password for haoyuq: [sudo] password for haoyuq: [sudo] password for haoyuq: [sudo] password for haoyuq: [sudo] password for haoyuq: [sudo] password for haoyuq: [sudo] password for haoyuq: [sudo] password for haoyuq: [sudo] password for haoyuq: [sudo] password for haoyuq: [sudo] password for haoyuq: [sudo] password for haoyuq: [sudo] password for haoyuq: [sudo] password for haoyuq: [sudo] password for haoyuq: [sudo] password for haoyuq: [sudo] password for haoyuq: [sudo] password for haoyuq: [sudo] password for haoyuq: [sudo] password for haoyuq: [sudo] password for haoyuq: [sudo] password for haoyuq: [sudo] password for haoyuq: [sudo] password for haoyuq: Decompressing columns: 0 1 2 3 4 5 6 7 8 9 10 11 12 13 14 15 16 17 18 19 \n",
      "Decompressing columns: 0 1 2 3 4 5 6 7 8 9 10 11 12 13 14 15 16 17 18 19 \n",
      "[sudo] password for haoyuq: Decompressing columns: 0 1 2 3 4 5 6 7 8 9 10 11 12 13 14 15 16 17 18 19 \n",
      "Decompressing columns: 0 1 2 3 4 5 6 7 8 9 10 11 12 13 14 15 16 17 18 19 \n",
      "[sudo] password for haoyuq: Decompressing columns: 0 1 2 3 4 5 6 7 8 9 10 11 12 13 14 15 16 17 18 19 \n",
      "Decompressing columns: 0 1 2 3 4 5 6 7 8 9 10 11 12 13 14 15 16 17 18 19 \n",
      "[sudo] password for haoyuq: [sudo] password for haoyuq: [sudo] password for haoyuq: [sudo] password for haoyuq: [sudo] password for haoyuq: [sudo] password for haoyuq: [sudo] password for haoyuq: [sudo] password for haoyuq: [sudo] password for haoyuq: [sudo] password for haoyuq: [sudo] password for haoyuq: [sudo] password for haoyuq: [sudo] password for haoyuq: [sudo] password for haoyuq: [sudo] password for haoyuq: [sudo] password for haoyuq: [sudo] password for haoyuq: [sudo] password for haoyuq: [sudo] password for haoyuq: [sudo] password for haoyuq: [sudo] password for haoyuq: [sudo] password for haoyuq: [sudo] password for haoyuq: [sudo] password for haoyuq: [sudo] password for haoyuq: Decompressing columns: 0 1 2 3 4 5 6 7 8 9 10 11 12 13 14 15 16 17 18 19 \n",
      "Decompressing columns: 0 1 2 3 4 5 6 7 8 9 10 11 12 13 14 15 16 17 18 19 \n",
      "[sudo] password for haoyuq: Decompressing columns: 0 1 2 3 4 5 6 7 8 9 10 11 12 13 14 15 16 17 18 19 \n",
      "Decompressing columns: 0 1 2 3 4 5 6 7 8 9 10 11 12 13 14 15 16 17 18 19 \n",
      "[sudo] password for haoyuq: Decompressing columns: 0 1 2 3 4 5 6 7 8 9 10 11 12 13 14 15 16 17 18 19 \n",
      "Decompressing columns: 0 1 2 3 4 5 6 7 8 9 10 11 12 13 14 15 16 17 18 19 \n",
      "[sudo] password for haoyuq: [sudo] password for haoyuq: [sudo] password for haoyuq: [sudo] password for haoyuq: [sudo] password for haoyuq: [sudo] password for haoyuq: [sudo] password for haoyuq: [sudo] password for haoyuq: [sudo] password for haoyuq: [sudo] password for haoyuq: [sudo] password for haoyuq: [sudo] password for haoyuq: [sudo] password for haoyuq: [sudo] password for haoyuq: [sudo] password for haoyuq: [sudo] password for haoyuq: [sudo] password for haoyuq: [sudo] password for haoyuq: [sudo] password for haoyuq: [sudo] password for haoyuq: [sudo] password for haoyuq: [sudo] password for haoyuq: [sudo] password for haoyuq: [sudo] password for haoyuq: "
     ]
    },
    {
     "data": {
      "text/plain": [
       "0"
      ]
     },
     "execution_count": 7,
     "metadata": {},
     "output_type": "execute_result"
    }
   ],
   "source": [
    "# running experiments\n",
    "my_password = \"Woshimima2@\"\n",
    "os.system('rm outputs/stats.json')\n",
    "os.chdir(f'{PROJ_SRC_DIR}/python/encoding')\n",
    "for i in range(10):\n",
    "    for wl in workload_list:\n",
    "        base_name = f'{wl}_r{num_rows}_c{num_cols}'\n",
    "        os.system(f'echo {my_password} | sudo -S sync; echo {my_password} | sudo sh -c \"/usr/bin/echo 3 > /proc/sys/vm/drop_caches\"')\n",
    "        time.sleep(1)\n",
    "        btrblocks_out = os.popen(f'''~/btrblocks/build/decompression-speed -output_summary \\\n",
    "            -btr {base_name}/gen_data/btr/ -threads 1''').read().split('\\n')[-2],\n",
    "        btrblocks_read = float(btrblocks_out[0].split(' ')[-4])\n",
    "        btrblocks_size = float(btrblocks_out[0].split(' ')[1])\n",
    "        btrblocks_out_preload = os.popen(f'''~/btrblocks/build/decompression-speed -output_summary \\\n",
    "                        -btr {base_name}/gen_data/btr/ -threads 1''').read().split('\\n')[-2],\n",
    "        btrblocks_read_preload = float(btrblocks_out_preload[0].split(' ')[-4])\n",
    "        output_stats = {}\n",
    "        output_stats['workload'] = wl\n",
    "        output_stats['i'] = i\n",
    "        output_stats['file'] = 'btrblocks'\n",
    "        output_stats['size'] = btrblocks_size\n",
    "        output_stats['read_time'] = btrblocks_read\n",
    "        output_stats['read_time_preload'] = btrblocks_read_preload\n",
    "        output_stats['compression'] = \"none\"\n",
    "        parse_output(output_stats)\n",
    "        \n",
    "    for c in compression_list:\n",
    "        for wl in workload_list:\n",
    "                base_name = f'{wl}_r{num_rows}_c{num_cols}'\n",
    "                os.system(f'echo {my_password} | sudo -S sync; echo {my_password} | sudo sh -c \"/usr/bin/echo 3 > /proc/sys/vm/drop_caches\"')\n",
    "                time.sleep(1)\n",
    "                pq_read = float(os.popen(f'''{scan_exec_pq} \\\n",
    "                        --batch_size=1024 ./{base_name}.{c.lower()}.parquet''').read().split('\\n')[0].split(' ')[-2])\n",
    "                pq_read_preload = float(os.popen(f'''{scan_exec_pq} \\\n",
    "                        --batch_size=1024 ./{base_name}.{c.lower()}.parquet''').read().split('\\n')[0].split(' ')[-2])\n",
    "                os.system(f'echo {my_password} | sudo -S sync; echo {my_password} | sudo sh -c \"/usr/bin/echo 3 > /proc/sys/vm/drop_caches\"')\n",
    "                time.sleep(1)\n",
    "                orc_read = float(os.popen(f'''{HOME_DIR}/orc/orc/build/tools/src/orc-scan \\\n",
    "                        -b 1024 ./{base_name}.{c.lower()}.orc''').read().split('\\n')[0].split(' ')[-1])\n",
    "                orc_read_preload = float(os.popen(f'''{HOME_DIR}/orc/orc/build/tools/src/orc-scan \\\n",
    "                        -b 1024 ./{base_name}.{c.lower()}.orc''').read().split('\\n')[0].split(' ')[-1])\n",
    "                orc_size = os.path.getsize(f'{base_name}.{c.lower()}.orc')\n",
    "                pq_size = os.path.getsize(f'{base_name}.{c.lower()}.parquet')\n",
    "                \n",
    "                output_stats = {}\n",
    "                output_stats['workload'] = wl\n",
    "                output_stats['i'] = i\n",
    "                output_stats['file'] = 'parquet'\n",
    "                output_stats['size'] = pq_size\n",
    "                output_stats['read_time'] = pq_read\n",
    "                output_stats['read_time_preload'] = pq_read_preload\n",
    "                output_stats['compression'] = c.lower()\n",
    "                parse_output(output_stats)\n",
    "                output_stats['file'] = 'orc'\n",
    "                output_stats['size'] = orc_size\n",
    "                output_stats['read_time'] = orc_read\n",
    "                output_stats['read_time_preload'] = orc_read_preload\n",
    "                output_stats['compression'] = c.lower()\n",
    "                parse_output(output_stats)\n",
    "collect_results()\n",
    "os.system('mv outputs/stats.csv ../outputs/{}_{}.csv'.format('decode_speed_compression', timestamp))"
   ]
  },
  {
   "cell_type": "code",
   "execution_count": 12,
   "metadata": {},
   "outputs": [],
   "source": [
    "import pandas as pd\n",
    "import seaborn as sns\n",
    "\n",
    "data = pd.read_csv(\"../outputs/decode_speed_compression_20240319_233404.csv\", header=0)\n",
    "btr = data[(data['file']=='btrblocks') & (data['run'].isna())]\n",
    "base = data[(data['file']!='btrblocks') & (data['run'].isna())]"
   ]
  },
  {
   "cell_type": "code",
   "execution_count": 25,
   "metadata": {},
   "outputs": [
    {
     "name": "stderr",
     "output_type": "stream",
     "text": [
      "/tmp/ipykernel_284107/2233344085.py:1: SettingWithCopyWarning: \n",
      "A value is trying to be set on a copy of a slice from a DataFrame.\n",
      "Try using .loc[row_indexer,col_indexer] = value instead\n",
      "\n",
      "See the caveats in the documentation: https://pandas.pydata.org/pandas-docs/stable/user_guide/indexing.html#returning-a-view-versus-a-copy\n",
      "  btr['size'] = btr['size'].apply(lambda x: float(x))\n"
     ]
    }
   ],
   "source": [
    "btr['size'] = btr['size'].apply(lambda x: float(x))"
   ]
  },
  {
   "cell_type": "code",
   "execution_count": 26,
   "metadata": {},
   "outputs": [
    {
     "name": "stderr",
     "output_type": "stream",
     "text": [
      "/tmp/ipykernel_284107/63806516.py:1: FutureWarning: The default value of numeric_only in DataFrameGroupBy.mean is deprecated. In a future version, numeric_only will default to False. Either specify numeric_only or select only columns which should be valid for the function.\n",
      "  btr_stats = btr.groupby('workload').mean().reset_index()\n"
     ]
    }
   ],
   "source": [
    "btr_stats = btr.groupby('workload').mean().reset_index()"
   ]
  },
  {
   "cell_type": "code",
   "execution_count": 51,
   "metadata": {},
   "outputs": [],
   "source": [
    "import copy\n",
    "btr_stats['compression'] = 'lz4'\n",
    "lz4_btr = copy.deepcopy(btr_stats)\n",
    "btr_stats['compression'] = 'none'\n",
    "none_btr = copy.deepcopy(btr_stats)\n",
    "btr_stats['compression'] = 'snappy'\n",
    "snappy_btr = copy.deepcopy(btr_stats)\n",
    "btr_stats['compression'] = 'zstd'\n",
    "zstd_btr = copy.deepcopy(btr_stats)"
   ]
  },
  {
   "cell_type": "code",
   "execution_count": 57,
   "metadata": {},
   "outputs": [],
   "source": [
    "btr_adds = pd.concat([lz4_btr, none_btr, snappy_btr, zstd_btr])\n",
    "btr_adds['file'] = 'btrblocks'"
   ]
  },
  {
   "cell_type": "code",
   "execution_count": 58,
   "metadata": {},
   "outputs": [],
   "source": [
    "btr_adds['size'] = btr_adds['size'] / (1024 * 1024)\n",
    "btr_adds['read_time'] = btr_adds['read_time'] / (1000 * 1000)\n",
    "btr_adds['read_time_preload'] = btr_adds['read_time_preload'] / (1000 * 1000)\n"
   ]
  },
  {
   "cell_type": "code",
   "execution_count": 59,
   "metadata": {},
   "outputs": [],
   "source": [
    "data = pd.concat([btr_adds, base_stats])"
   ]
  },
  {
   "cell_type": "code",
   "execution_count": 28,
   "metadata": {},
   "outputs": [
    {
     "name": "stderr",
     "output_type": "stream",
     "text": [
      "/tmp/ipykernel_284107/2865378400.py:1: SettingWithCopyWarning: \n",
      "A value is trying to be set on a copy of a slice from a DataFrame.\n",
      "Try using .loc[row_indexer,col_indexer] = value instead\n",
      "\n",
      "See the caveats in the documentation: https://pandas.pydata.org/pandas-docs/stable/user_guide/indexing.html#returning-a-view-versus-a-copy\n",
      "  base['size'] = base['size'].apply(lambda x: float(x))\n"
     ]
    }
   ],
   "source": [
    "base['size'] = base['size'].apply(lambda x: float(x))"
   ]
  },
  {
   "cell_type": "code",
   "execution_count": 33,
   "metadata": {},
   "outputs": [],
   "source": [
    "base_stats = base.groupby(['file','workload','compression']).mean().reset_index()"
   ]
  },
  {
   "cell_type": "code",
   "execution_count": 36,
   "metadata": {},
   "outputs": [],
   "source": [
    "base_stats['size'] = base_stats['size']/(1024*1024)"
   ]
  },
  {
   "cell_type": "code",
   "execution_count": 60,
   "metadata": {},
   "outputs": [
    {
     "data": {
      "text/html": [
       "<div>\n",
       "<style scoped>\n",
       "    .dataframe tbody tr th:only-of-type {\n",
       "        vertical-align: middle;\n",
       "    }\n",
       "\n",
       "    .dataframe tbody tr th {\n",
       "        vertical-align: top;\n",
       "    }\n",
       "\n",
       "    .dataframe thead th {\n",
       "        text-align: right;\n",
       "    }\n",
       "</style>\n",
       "<table border=\"1\" class=\"dataframe\">\n",
       "  <thead>\n",
       "    <tr style=\"text-align: right;\">\n",
       "      <th></th>\n",
       "      <th>workload</th>\n",
       "      <th>run</th>\n",
       "      <th>size</th>\n",
       "      <th>read_time</th>\n",
       "      <th>read_time_preload</th>\n",
       "      <th>i</th>\n",
       "      <th>compression</th>\n",
       "      <th>file</th>\n",
       "    </tr>\n",
       "  </thead>\n",
       "  <tbody>\n",
       "    <tr>\n",
       "      <th>0</th>\n",
       "      <td>float</td>\n",
       "      <td>NaN</td>\n",
       "      <td>69.383436</td>\n",
       "      <td>0.070716</td>\n",
       "      <td>0.068686</td>\n",
       "      <td>4.5</td>\n",
       "      <td>lz4</td>\n",
       "      <td>btrblocks</td>\n",
       "    </tr>\n",
       "    <tr>\n",
       "      <th>1</th>\n",
       "      <td>int</td>\n",
       "      <td>NaN</td>\n",
       "      <td>12.734429</td>\n",
       "      <td>0.032623</td>\n",
       "      <td>0.033646</td>\n",
       "      <td>4.5</td>\n",
       "      <td>lz4</td>\n",
       "      <td>btrblocks</td>\n",
       "    </tr>\n",
       "    <tr>\n",
       "      <th>2</th>\n",
       "      <td>string</td>\n",
       "      <td>NaN</td>\n",
       "      <td>144.815288</td>\n",
       "      <td>0.405954</td>\n",
       "      <td>0.406100</td>\n",
       "      <td>4.5</td>\n",
       "      <td>lz4</td>\n",
       "      <td>btrblocks</td>\n",
       "    </tr>\n",
       "    <tr>\n",
       "      <th>0</th>\n",
       "      <td>float</td>\n",
       "      <td>NaN</td>\n",
       "      <td>69.383436</td>\n",
       "      <td>0.070716</td>\n",
       "      <td>0.068686</td>\n",
       "      <td>4.5</td>\n",
       "      <td>none</td>\n",
       "      <td>btrblocks</td>\n",
       "    </tr>\n",
       "    <tr>\n",
       "      <th>1</th>\n",
       "      <td>int</td>\n",
       "      <td>NaN</td>\n",
       "      <td>12.734429</td>\n",
       "      <td>0.032623</td>\n",
       "      <td>0.033646</td>\n",
       "      <td>4.5</td>\n",
       "      <td>none</td>\n",
       "      <td>btrblocks</td>\n",
       "    </tr>\n",
       "    <tr>\n",
       "      <th>2</th>\n",
       "      <td>string</td>\n",
       "      <td>NaN</td>\n",
       "      <td>144.815288</td>\n",
       "      <td>0.405954</td>\n",
       "      <td>0.406100</td>\n",
       "      <td>4.5</td>\n",
       "      <td>none</td>\n",
       "      <td>btrblocks</td>\n",
       "    </tr>\n",
       "    <tr>\n",
       "      <th>0</th>\n",
       "      <td>float</td>\n",
       "      <td>NaN</td>\n",
       "      <td>69.383436</td>\n",
       "      <td>0.070716</td>\n",
       "      <td>0.068686</td>\n",
       "      <td>4.5</td>\n",
       "      <td>snappy</td>\n",
       "      <td>btrblocks</td>\n",
       "    </tr>\n",
       "    <tr>\n",
       "      <th>1</th>\n",
       "      <td>int</td>\n",
       "      <td>NaN</td>\n",
       "      <td>12.734429</td>\n",
       "      <td>0.032623</td>\n",
       "      <td>0.033646</td>\n",
       "      <td>4.5</td>\n",
       "      <td>snappy</td>\n",
       "      <td>btrblocks</td>\n",
       "    </tr>\n",
       "    <tr>\n",
       "      <th>2</th>\n",
       "      <td>string</td>\n",
       "      <td>NaN</td>\n",
       "      <td>144.815288</td>\n",
       "      <td>0.405954</td>\n",
       "      <td>0.406100</td>\n",
       "      <td>4.5</td>\n",
       "      <td>snappy</td>\n",
       "      <td>btrblocks</td>\n",
       "    </tr>\n",
       "    <tr>\n",
       "      <th>0</th>\n",
       "      <td>float</td>\n",
       "      <td>NaN</td>\n",
       "      <td>69.383436</td>\n",
       "      <td>0.070716</td>\n",
       "      <td>0.068686</td>\n",
       "      <td>4.5</td>\n",
       "      <td>zstd</td>\n",
       "      <td>btrblocks</td>\n",
       "    </tr>\n",
       "    <tr>\n",
       "      <th>1</th>\n",
       "      <td>int</td>\n",
       "      <td>NaN</td>\n",
       "      <td>12.734429</td>\n",
       "      <td>0.032623</td>\n",
       "      <td>0.033646</td>\n",
       "      <td>4.5</td>\n",
       "      <td>zstd</td>\n",
       "      <td>btrblocks</td>\n",
       "    </tr>\n",
       "    <tr>\n",
       "      <th>2</th>\n",
       "      <td>string</td>\n",
       "      <td>NaN</td>\n",
       "      <td>144.815288</td>\n",
       "      <td>0.405954</td>\n",
       "      <td>0.406100</td>\n",
       "      <td>4.5</td>\n",
       "      <td>zstd</td>\n",
       "      <td>btrblocks</td>\n",
       "    </tr>\n",
       "    <tr>\n",
       "      <th>0</th>\n",
       "      <td>float</td>\n",
       "      <td>NaN</td>\n",
       "      <td>64.239091</td>\n",
       "      <td>0.327226</td>\n",
       "      <td>0.234534</td>\n",
       "      <td>4.5</td>\n",
       "      <td>lz4</td>\n",
       "      <td>orc</td>\n",
       "    </tr>\n",
       "    <tr>\n",
       "      <th>1</th>\n",
       "      <td>float</td>\n",
       "      <td>NaN</td>\n",
       "      <td>64.228965</td>\n",
       "      <td>0.319876</td>\n",
       "      <td>0.230377</td>\n",
       "      <td>4.5</td>\n",
       "      <td>none</td>\n",
       "      <td>orc</td>\n",
       "    </tr>\n",
       "    <tr>\n",
       "      <th>2</th>\n",
       "      <td>float</td>\n",
       "      <td>NaN</td>\n",
       "      <td>55.225428</td>\n",
       "      <td>0.550558</td>\n",
       "      <td>0.466220</td>\n",
       "      <td>4.5</td>\n",
       "      <td>snappy</td>\n",
       "      <td>orc</td>\n",
       "    </tr>\n",
       "    <tr>\n",
       "      <th>3</th>\n",
       "      <td>float</td>\n",
       "      <td>NaN</td>\n",
       "      <td>41.305714</td>\n",
       "      <td>0.358917</td>\n",
       "      <td>0.290388</td>\n",
       "      <td>4.5</td>\n",
       "      <td>zstd</td>\n",
       "      <td>orc</td>\n",
       "    </tr>\n",
       "    <tr>\n",
       "      <th>4</th>\n",
       "      <td>int</td>\n",
       "      <td>NaN</td>\n",
       "      <td>14.691310</td>\n",
       "      <td>0.154198</td>\n",
       "      <td>0.107691</td>\n",
       "      <td>4.5</td>\n",
       "      <td>lz4</td>\n",
       "      <td>orc</td>\n",
       "    </tr>\n",
       "    <tr>\n",
       "      <th>5</th>\n",
       "      <td>int</td>\n",
       "      <td>NaN</td>\n",
       "      <td>14.684139</td>\n",
       "      <td>0.153958</td>\n",
       "      <td>0.106705</td>\n",
       "      <td>4.5</td>\n",
       "      <td>none</td>\n",
       "      <td>orc</td>\n",
       "    </tr>\n",
       "    <tr>\n",
       "      <th>6</th>\n",
       "      <td>int</td>\n",
       "      <td>NaN</td>\n",
       "      <td>12.668700</td>\n",
       "      <td>0.180487</td>\n",
       "      <td>0.142479</td>\n",
       "      <td>4.5</td>\n",
       "      <td>snappy</td>\n",
       "      <td>orc</td>\n",
       "    </tr>\n",
       "    <tr>\n",
       "      <th>7</th>\n",
       "      <td>int</td>\n",
       "      <td>NaN</td>\n",
       "      <td>9.868398</td>\n",
       "      <td>0.160937</td>\n",
       "      <td>0.121579</td>\n",
       "      <td>4.5</td>\n",
       "      <td>zstd</td>\n",
       "      <td>orc</td>\n",
       "    </tr>\n",
       "    <tr>\n",
       "      <th>8</th>\n",
       "      <td>string</td>\n",
       "      <td>NaN</td>\n",
       "      <td>92.505720</td>\n",
       "      <td>0.410413</td>\n",
       "      <td>0.312250</td>\n",
       "      <td>4.5</td>\n",
       "      <td>lz4</td>\n",
       "      <td>orc</td>\n",
       "    </tr>\n",
       "    <tr>\n",
       "      <th>9</th>\n",
       "      <td>string</td>\n",
       "      <td>NaN</td>\n",
       "      <td>92.494898</td>\n",
       "      <td>0.405031</td>\n",
       "      <td>0.304878</td>\n",
       "      <td>4.5</td>\n",
       "      <td>none</td>\n",
       "      <td>orc</td>\n",
       "    </tr>\n",
       "    <tr>\n",
       "      <th>10</th>\n",
       "      <td>string</td>\n",
       "      <td>NaN</td>\n",
       "      <td>91.627602</td>\n",
       "      <td>0.432499</td>\n",
       "      <td>0.339586</td>\n",
       "      <td>4.5</td>\n",
       "      <td>snappy</td>\n",
       "      <td>orc</td>\n",
       "    </tr>\n",
       "    <tr>\n",
       "      <th>11</th>\n",
       "      <td>string</td>\n",
       "      <td>NaN</td>\n",
       "      <td>70.167286</td>\n",
       "      <td>0.464064</td>\n",
       "      <td>0.370242</td>\n",
       "      <td>4.5</td>\n",
       "      <td>zstd</td>\n",
       "      <td>orc</td>\n",
       "    </tr>\n",
       "    <tr>\n",
       "      <th>12</th>\n",
       "      <td>float</td>\n",
       "      <td>NaN</td>\n",
       "      <td>56.780707</td>\n",
       "      <td>0.210959</td>\n",
       "      <td>0.135344</td>\n",
       "      <td>4.5</td>\n",
       "      <td>lz4</td>\n",
       "      <td>parquet</td>\n",
       "    </tr>\n",
       "    <tr>\n",
       "      <th>13</th>\n",
       "      <td>float</td>\n",
       "      <td>NaN</td>\n",
       "      <td>65.035955</td>\n",
       "      <td>0.195369</td>\n",
       "      <td>0.127468</td>\n",
       "      <td>4.5</td>\n",
       "      <td>none</td>\n",
       "      <td>parquet</td>\n",
       "    </tr>\n",
       "    <tr>\n",
       "      <th>14</th>\n",
       "      <td>float</td>\n",
       "      <td>NaN</td>\n",
       "      <td>55.134221</td>\n",
       "      <td>0.278448</td>\n",
       "      <td>0.183830</td>\n",
       "      <td>4.5</td>\n",
       "      <td>snappy</td>\n",
       "      <td>parquet</td>\n",
       "    </tr>\n",
       "    <tr>\n",
       "      <th>15</th>\n",
       "      <td>float</td>\n",
       "      <td>NaN</td>\n",
       "      <td>41.439030</td>\n",
       "      <td>0.230515</td>\n",
       "      <td>0.151101</td>\n",
       "      <td>4.5</td>\n",
       "      <td>zstd</td>\n",
       "      <td>parquet</td>\n",
       "    </tr>\n",
       "    <tr>\n",
       "      <th>16</th>\n",
       "      <td>int</td>\n",
       "      <td>NaN</td>\n",
       "      <td>11.457084</td>\n",
       "      <td>0.113343</td>\n",
       "      <td>0.067185</td>\n",
       "      <td>4.5</td>\n",
       "      <td>lz4</td>\n",
       "      <td>parquet</td>\n",
       "    </tr>\n",
       "    <tr>\n",
       "      <th>17</th>\n",
       "      <td>int</td>\n",
       "      <td>NaN</td>\n",
       "      <td>13.247265</td>\n",
       "      <td>0.108903</td>\n",
       "      <td>0.058348</td>\n",
       "      <td>4.5</td>\n",
       "      <td>none</td>\n",
       "      <td>parquet</td>\n",
       "    </tr>\n",
       "    <tr>\n",
       "      <th>18</th>\n",
       "      <td>int</td>\n",
       "      <td>NaN</td>\n",
       "      <td>11.482986</td>\n",
       "      <td>0.119329</td>\n",
       "      <td>0.069367</td>\n",
       "      <td>4.5</td>\n",
       "      <td>snappy</td>\n",
       "      <td>parquet</td>\n",
       "    </tr>\n",
       "    <tr>\n",
       "      <th>19</th>\n",
       "      <td>int</td>\n",
       "      <td>NaN</td>\n",
       "      <td>10.235339</td>\n",
       "      <td>0.121943</td>\n",
       "      <td>0.071929</td>\n",
       "      <td>4.5</td>\n",
       "      <td>zstd</td>\n",
       "      <td>parquet</td>\n",
       "    </tr>\n",
       "    <tr>\n",
       "      <th>20</th>\n",
       "      <td>string</td>\n",
       "      <td>NaN</td>\n",
       "      <td>97.563760</td>\n",
       "      <td>0.334488</td>\n",
       "      <td>0.269415</td>\n",
       "      <td>4.5</td>\n",
       "      <td>lz4</td>\n",
       "      <td>parquet</td>\n",
       "    </tr>\n",
       "    <tr>\n",
       "      <th>21</th>\n",
       "      <td>string</td>\n",
       "      <td>NaN</td>\n",
       "      <td>99.578591</td>\n",
       "      <td>0.274333</td>\n",
       "      <td>0.204764</td>\n",
       "      <td>4.5</td>\n",
       "      <td>none</td>\n",
       "      <td>parquet</td>\n",
       "    </tr>\n",
       "    <tr>\n",
       "      <th>22</th>\n",
       "      <td>string</td>\n",
       "      <td>NaN</td>\n",
       "      <td>96.449888</td>\n",
       "      <td>0.367636</td>\n",
       "      <td>0.281520</td>\n",
       "      <td>4.5</td>\n",
       "      <td>snappy</td>\n",
       "      <td>parquet</td>\n",
       "    </tr>\n",
       "    <tr>\n",
       "      <th>23</th>\n",
       "      <td>string</td>\n",
       "      <td>NaN</td>\n",
       "      <td>77.651414</td>\n",
       "      <td>0.368814</td>\n",
       "      <td>0.292924</td>\n",
       "      <td>4.5</td>\n",
       "      <td>zstd</td>\n",
       "      <td>parquet</td>\n",
       "    </tr>\n",
       "  </tbody>\n",
       "</table>\n",
       "</div>"
      ],
      "text/plain": [
       "   workload  run        size  read_time  read_time_preload    i compression  \\\n",
       "0     float  NaN   69.383436   0.070716           0.068686  4.5         lz4   \n",
       "1       int  NaN   12.734429   0.032623           0.033646  4.5         lz4   \n",
       "2    string  NaN  144.815288   0.405954           0.406100  4.5         lz4   \n",
       "0     float  NaN   69.383436   0.070716           0.068686  4.5        none   \n",
       "1       int  NaN   12.734429   0.032623           0.033646  4.5        none   \n",
       "2    string  NaN  144.815288   0.405954           0.406100  4.5        none   \n",
       "0     float  NaN   69.383436   0.070716           0.068686  4.5      snappy   \n",
       "1       int  NaN   12.734429   0.032623           0.033646  4.5      snappy   \n",
       "2    string  NaN  144.815288   0.405954           0.406100  4.5      snappy   \n",
       "0     float  NaN   69.383436   0.070716           0.068686  4.5        zstd   \n",
       "1       int  NaN   12.734429   0.032623           0.033646  4.5        zstd   \n",
       "2    string  NaN  144.815288   0.405954           0.406100  4.5        zstd   \n",
       "0     float  NaN   64.239091   0.327226           0.234534  4.5         lz4   \n",
       "1     float  NaN   64.228965   0.319876           0.230377  4.5        none   \n",
       "2     float  NaN   55.225428   0.550558           0.466220  4.5      snappy   \n",
       "3     float  NaN   41.305714   0.358917           0.290388  4.5        zstd   \n",
       "4       int  NaN   14.691310   0.154198           0.107691  4.5         lz4   \n",
       "5       int  NaN   14.684139   0.153958           0.106705  4.5        none   \n",
       "6       int  NaN   12.668700   0.180487           0.142479  4.5      snappy   \n",
       "7       int  NaN    9.868398   0.160937           0.121579  4.5        zstd   \n",
       "8    string  NaN   92.505720   0.410413           0.312250  4.5         lz4   \n",
       "9    string  NaN   92.494898   0.405031           0.304878  4.5        none   \n",
       "10   string  NaN   91.627602   0.432499           0.339586  4.5      snappy   \n",
       "11   string  NaN   70.167286   0.464064           0.370242  4.5        zstd   \n",
       "12    float  NaN   56.780707   0.210959           0.135344  4.5         lz4   \n",
       "13    float  NaN   65.035955   0.195369           0.127468  4.5        none   \n",
       "14    float  NaN   55.134221   0.278448           0.183830  4.5      snappy   \n",
       "15    float  NaN   41.439030   0.230515           0.151101  4.5        zstd   \n",
       "16      int  NaN   11.457084   0.113343           0.067185  4.5         lz4   \n",
       "17      int  NaN   13.247265   0.108903           0.058348  4.5        none   \n",
       "18      int  NaN   11.482986   0.119329           0.069367  4.5      snappy   \n",
       "19      int  NaN   10.235339   0.121943           0.071929  4.5        zstd   \n",
       "20   string  NaN   97.563760   0.334488           0.269415  4.5         lz4   \n",
       "21   string  NaN   99.578591   0.274333           0.204764  4.5        none   \n",
       "22   string  NaN   96.449888   0.367636           0.281520  4.5      snappy   \n",
       "23   string  NaN   77.651414   0.368814           0.292924  4.5        zstd   \n",
       "\n",
       "         file  \n",
       "0   btrblocks  \n",
       "1   btrblocks  \n",
       "2   btrblocks  \n",
       "0   btrblocks  \n",
       "1   btrblocks  \n",
       "2   btrblocks  \n",
       "0   btrblocks  \n",
       "1   btrblocks  \n",
       "2   btrblocks  \n",
       "0   btrblocks  \n",
       "1   btrblocks  \n",
       "2   btrblocks  \n",
       "0         orc  \n",
       "1         orc  \n",
       "2         orc  \n",
       "3         orc  \n",
       "4         orc  \n",
       "5         orc  \n",
       "6         orc  \n",
       "7         orc  \n",
       "8         orc  \n",
       "9         orc  \n",
       "10        orc  \n",
       "11        orc  \n",
       "12    parquet  \n",
       "13    parquet  \n",
       "14    parquet  \n",
       "15    parquet  \n",
       "16    parquet  \n",
       "17    parquet  \n",
       "18    parquet  \n",
       "19    parquet  \n",
       "20    parquet  \n",
       "21    parquet  \n",
       "22    parquet  \n",
       "23    parquet  "
      ]
     },
     "execution_count": 60,
     "metadata": {},
     "output_type": "execute_result"
    }
   ],
   "source": [
    "data"
   ]
  },
  {
   "cell_type": "code",
   "execution_count": 61,
   "metadata": {},
   "outputs": [
    {
     "name": "stderr",
     "output_type": "stream",
     "text": [
      "/home/haoyuq/miniconda3/envs/gen/lib/python3.10/site-packages/seaborn/axisgrid.py:718: UserWarning: Using the barplot function without specifying `order` is likely to produce an incorrect plot.\n",
      "  warnings.warn(warning)\n",
      "/home/haoyuq/miniconda3/envs/gen/lib/python3.10/site-packages/seaborn/axisgrid.py:723: UserWarning: Using the barplot function without specifying `hue_order` is likely to produce an incorrect plot.\n",
      "  warnings.warn(warning)\n",
      "/home/haoyuq/miniconda3/envs/gen/lib/python3.10/site-packages/seaborn/axisgrid.py:854: FutureWarning: \n",
      "\n",
      "Setting a gradient palette using color= is deprecated and will be removed in v0.14.0. Set `palette='dark:#1f77b4'` for the same effect.\n",
      "\n",
      "  func(*plot_args, **plot_kwargs)\n",
      "/home/haoyuq/miniconda3/envs/gen/lib/python3.10/site-packages/seaborn/axisgrid.py:854: FutureWarning: \n",
      "\n",
      "Setting a gradient palette using color= is deprecated and will be removed in v0.14.0. Set `palette='dark:#1f77b4'` for the same effect.\n",
      "\n",
      "  func(*plot_args, **plot_kwargs)\n",
      "/home/haoyuq/miniconda3/envs/gen/lib/python3.10/site-packages/seaborn/axisgrid.py:854: FutureWarning: \n",
      "\n",
      "Setting a gradient palette using color= is deprecated and will be removed in v0.14.0. Set `palette='dark:#1f77b4'` for the same effect.\n",
      "\n",
      "  func(*plot_args, **plot_kwargs)\n",
      "/home/haoyuq/miniconda3/envs/gen/lib/python3.10/site-packages/seaborn/axisgrid.py:854: FutureWarning: \n",
      "\n",
      "Setting a gradient palette using color= is deprecated and will be removed in v0.14.0. Set `palette='dark:#1f77b4'` for the same effect.\n",
      "\n",
      "  func(*plot_args, **plot_kwargs)\n"
     ]
    },
    {
     "data": {
      "text/plain": [
       "<seaborn.axisgrid.FacetGrid at 0x7f749cf577c0>"
      ]
     },
     "execution_count": 61,
     "metadata": {},
     "output_type": "execute_result"
    },
    {
     "data": {
      "image/png": "[encoded data removed]",
      "text/plain": [
       "<Figure size 1314.25x300 with 4 Axes>"
      ]
     },
     "metadata": {},
     "output_type": "display_data"
    }
   ],
   "source": [
    "g = sns.FacetGrid(data, col=\"compression\")\n",
    "g = g.map(sns.barplot, \"workload\", \"size\", \"file\")\n",
    "\n",
    "g.add_legend()\n",
    "g.set_axis_labels(\"Param\", \"Size(MB)\")"
   ]
  },
  {
   "cell_type": "code",
   "execution_count": 63,
   "metadata": {},
   "outputs": [
    {
     "name": "stderr",
     "output_type": "stream",
     "text": [
      "/home/haoyuq/miniconda3/envs/gen/lib/python3.10/site-packages/seaborn/axisgrid.py:718: UserWarning: Using the barplot function without specifying `order` is likely to produce an incorrect plot.\n",
      "  warnings.warn(warning)\n",
      "/home/haoyuq/miniconda3/envs/gen/lib/python3.10/site-packages/seaborn/axisgrid.py:723: UserWarning: Using the barplot function without specifying `hue_order` is likely to produce an incorrect plot.\n",
      "  warnings.warn(warning)\n",
      "/home/haoyuq/miniconda3/envs/gen/lib/python3.10/site-packages/seaborn/axisgrid.py:854: FutureWarning: \n",
      "\n",
      "Setting a gradient palette using color= is deprecated and will be removed in v0.14.0. Set `palette='dark:#1f77b4'` for the same effect.\n",
      "\n",
      "  func(*plot_args, **plot_kwargs)\n",
      "/home/haoyuq/miniconda3/envs/gen/lib/python3.10/site-packages/seaborn/axisgrid.py:854: FutureWarning: \n",
      "\n",
      "Setting a gradient palette using color= is deprecated and will be removed in v0.14.0. Set `palette='dark:#1f77b4'` for the same effect.\n",
      "\n",
      "  func(*plot_args, **plot_kwargs)\n",
      "/home/haoyuq/miniconda3/envs/gen/lib/python3.10/site-packages/seaborn/axisgrid.py:854: FutureWarning: \n",
      "\n",
      "Setting a gradient palette using color= is deprecated and will be removed in v0.14.0. Set `palette='dark:#1f77b4'` for the same effect.\n",
      "\n",
      "  func(*plot_args, **plot_kwargs)\n",
      "/home/haoyuq/miniconda3/envs/gen/lib/python3.10/site-packages/seaborn/axisgrid.py:854: FutureWarning: \n",
      "\n",
      "Setting a gradient palette using color= is deprecated and will be removed in v0.14.0. Set `palette='dark:#1f77b4'` for the same effect.\n",
      "\n",
      "  func(*plot_args, **plot_kwargs)\n"
     ]
    },
    {
     "data": {
      "text/plain": [
       "<seaborn.axisgrid.FacetGrid at 0x7f749cb17c70>"
      ]
     },
     "execution_count": 63,
     "metadata": {},
     "output_type": "execute_result"
    },
    {
     "data": {
      "image/png": "[encoded data removed]",
      "text/plain": [
       "<Figure size 1314.25x300 with 4 Axes>"
      ]
     },
     "metadata": {},
     "output_type": "display_data"
    }
   ],
   "source": [
    "g = sns.FacetGrid(data, col=\"compression\")\n",
    "g = g.map(sns.barplot, \"workload\", \"read_time\", \"file\")\n",
    "\n",
    "g.add_legend()\n",
    "g.set_axis_labels(\"Param\", \"Time(s)\")"
   ]
  },
  {
   "cell_type": "code",
   "execution_count": null,
   "metadata": {},
   "outputs": [],
   "source": []
  }
 ],
 "metadata": {
  "kernelspec": {
   "display_name": "Python 3 (ipykernel)",
   "language": "python",
   "name": "python3"
  },
  "language_info": {
   "codemirror_mode": {
    "name": "ipython",
    "version": 3
   },
   "file_extension": ".py",
   "mimetype": "text/x-python",
   "name": "python",
   "nbconvert_exporter": "python",
   "pygments_lexer": "ipython3",
   "version": "3.10.13"
  },
  "vscode": {
   "interpreter": {
    "hash": "31f2aee4e71d21fbe5cf8b01ff0e069b9275f58929596ceb00d14d90e3e16cd6"
   }
  }
 },
 "nbformat": 4,
 "nbformat_minor": 4
}
