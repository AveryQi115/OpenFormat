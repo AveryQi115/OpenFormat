{
    "cells": [
        {
            "cell_type": "code",
            "execution_count": 1,
            "metadata": {},
            "outputs": [
                {
                    "name": "stdout",
                    "output_type": "stream",
                    "text": [
                        "/mnt/OpenFormat/python/encoding\n"
                    ]
                }
            ],
            "source": [
                "import json\n",
                "import os\n",
                "import sys\n",
                "import math\n",
                "import datetime\n",
                "import pathlib\n",
                "\n",
                "dir_path = pathlib.Path(os.path.abspath('')).resolve()\n",
                "print(dir_path)\n",
                "HOME_DIR = str(dir_path).split('/OpenFormat')[0]\n",
                "\n",
                "timestamp = datetime.datetime.now().strftime(\"%Y%m%d_%H%M%S\")\n",
                "\n",
                "PROJ_SRC_DIR = f'{HOME_DIR}/OpenFormat'\n",
                "sys.path.insert(1, f'{PROJ_SRC_DIR}')\n",
                "from python.scripts.utils import *\n",
                "num_rows = 1000 * 1000\n",
                "num_cols = 20\n",
                "workload_list = ['int', 'float', 'string']\n",
                "scan_exec_pq = f'{HOME_DIR}/arrow-private/cpp/out/build/openformat-release/release/parquet-scan-columnbatch'"
            ]
        },
        {
            "cell_type": "code",
            "execution_count": 2,
            "metadata": {},
            "outputs": [
                {
                    "name": "stdout",
                    "output_type": "stream",
                    "text": [
                        "/mnt/OpenFormat/benchmark/generator_v2\n",
                        "🤔 INFO: too many collisions in int_unique_list, 20597 values just use (max_value + 1)!\n",
                        "🤔 INFO: too many collisions in int_unique_list, 7417 values just use (max_value + 1)!\n",
                        "Finish core dataset! 🎉🎉🎉🎉🎉🎉\n",
                        "Generating Done!!\n",
                        "Finish core dataset! 🎉🎉🎉🎉🎉🎉\n",
                        "Generating Done!!\n",
                        "Finish core dataset! 🎉🎉🎉🎉🎉🎉\n",
                        "Generating Done!!\n",
                        "/mnt/OpenFormat/python/encoding\n",
                        "CPU times: user 15.3 ms, sys: 11.4 ms, total: 26.8 ms\n",
                        "Wall time: 6min 31s\n"
                    ]
                }
            ],
            "source": [
                "%%time\n",
                "# generate csv files\n",
                "os.chdir(f'{PROJ_SRC_DIR}/benchmark/generator_v2')\n",
                "!pwd\n",
                "for wl in workload_list:\n",
                "    base_name = f'{wl}_r{num_rows}_c{num_cols}'\n",
                "    os.system(f'python3 gen_workloads.py \\\n",
                "        {wl} {num_rows} {num_cols} {base_name}')\n",
                "    os.system(f'cp -r {base_name} {dir_path} && \\\n",
                "        rm -r {base_name}')\n",
                "os.chdir(dir_path)\n",
                "!pwd\n"
            ]
        },
        {
            "cell_type": "code",
            "execution_count": 4,
            "metadata": {},
            "outputs": [
                {
                    "name": "stdout",
                    "output_type": "stream",
                    "text": [
                        "loading config from /mnt/OpenFormat/python/experiments/pq_encoding.json ...\n",
                        "loading config from /mnt/OpenFormat/python/experiments/orc_encoding.json ...\n",
                        "[{'compression': 'NONE', 'use_dictionary': True, 'dictionary_pagesize_limit': 2147483647, 'version': '2.6', 'data_page_version': '2.0'}]\n"
                    ]
                }
            ],
            "source": [
                "pq_config = enumerate_config(f'{PROJ_SRC_DIR}/python/experiments/pq_encoding.json')\n",
                "orc_config = enumerate_config(f'{PROJ_SRC_DIR}/python/experiments/orc_encoding.json')\n",
                "pq_name_suffix = '_' + \"_\".join([str(i) for i in list(pq_config[0].values())]) + '.parquet'\n",
                "orc_name_suffix = '_' + \"_\".join([str(i) for i in list(orc_config[0].values())]) + '.orc'\n",
                "print(pq_config)"
            ]
        },
        {
            "cell_type": "code",
            "execution_count": 4,
            "metadata": {},
            "outputs": [
                {
                    "name": "stdout",
                    "output_type": "stream",
                    "text": [
                        "loading config from ./experiments/pq_encoding.json ...\n",
                        "----Running experiment: 1 out of 1----\n",
                        "NONE_True_2147483647_2.6_2.0\n",
                        "write parquet time (s): 0.5347259044647217\n",
                        "loading config from ./experiments/orc_encoding.json ...\n",
                        "----Running experiment:----\n",
                        "UNCOMPRESSED_speed_1_2147486647\n",
                        "write orc time (s): 0.7598474025726318\n",
                        "loading config from ./experiments/pq_encoding.json ...\n",
                        "----Running experiment: 1 out of 1----\n",
                        "NONE_True_2147483647_2.6_2.0\n",
                        "write parquet time (s): 0.7709953784942627\n",
                        "loading config from ./experiments/orc_encoding.json ...\n",
                        "----Running experiment:----\n",
                        "UNCOMPRESSED_speed_1_2147486647\n",
                        "write orc time (s): 0.6040549278259277\n",
                        "loading config from ./experiments/pq_encoding.json ...\n",
                        "----Running experiment: 1 out of 1----\n",
                        "NONE_True_2147483647_2.6_2.0\n",
                        "write parquet time (s): 1.8646364212036133\n",
                        "loading config from ./experiments/orc_encoding.json ...\n",
                        "----Running experiment:----\n",
                        "UNCOMPRESSED_speed_1_2147486647\n",
                        "write orc time (s): 11.64716649055481\n"
                    ]
                }
            ],
            "source": [
                "os.chdir(f'{PROJ_SRC_DIR}/python')\n",
                "# workload_lists = ['core', 'geo', 'classic', 'log', 'ml']\n",
                "for wl in workload_list:\n",
                "    base_name = f'{wl}_r{num_rows}_c{num_cols}'\n",
                "    os.system(f'cp encoding/{base_name}/gen_data/{base_name}.csv data_gen')\n",
                "    os.system(f'python3 scripts/parquet_exp.py {base_name} pq_encoding -r=false -o=false')\n",
                "    os.system(f'python3 scripts/orc_exp.py {base_name} orc_encoding -r=false -o=false')\n",
                "    # orc_schema = open(f'encoding/{base_name}/gen_data/{base_name}_orc_schema.txt', 'r').read()\n",
                "    # os.system(f'{HOME_DIR}/orc/build/tools/src/csv-import \\\"{orc_schema}\\\" \\\n",
                "    #         encoding/{base_name}/gen_data/{base_name}.csv {base_name}.orc')\n",
                "    os.system(f'mv {base_name}{pq_name_suffix} encoding/{base_name}.parquet')\n",
                "    os.system(f'mv {base_name}{orc_name_suffix} encoding/{base_name}.orc')\n",
                "    # os.system(f'mv {base_name}.orc encoding/{base_name}.orc')\n",
                "os.chdir(f'{PROJ_SRC_DIR}/python/encoding')"
            ]
        },
        {
            "attachments": {},
            "cell_type": "markdown",
            "metadata": {},
            "source": [
                "# RLE breakdown"
            ]
        },
        {
            "cell_type": "code",
            "execution_count": 2,
            "metadata": {},
            "outputs": [],
            "source": [
                "run_list = [2, 3, 4, 5,6,7,8, 9,10]"
            ]
        },
        {
            "cell_type": "code",
            "execution_count": 5,
            "metadata": {},
            "outputs": [
                {
                    "name": "stdout",
                    "output_type": "stream",
                    "text": [
                        "CPU times: user 2 µs, sys: 1 µs, total: 3 µs\n",
                        "Wall time: 6.44 µs\n",
                        "loading config from ./experiments/pq_encoding.json ...\n",
                        "----Running experiment: 1 out of 1----\n",
                        "NONE_True_2147483647_2.6_2.0\n",
                        "write parquet time (s): 0.9392552375793457\n",
                        "loading config from ./experiments/orc_encoding.json ...\n",
                        "----Running experiment:----\n",
                        "UNCOMPRESSED_speed_1_2147486647\n",
                        "write orc time (s): 3.182405710220337\n",
                        "loading config from ./experiments/pq_encoding.json ...\n",
                        "----Running experiment: 1 out of 1----\n",
                        "NONE_True_2147483647_2.6_2.0\n",
                        "write parquet time (s): 0.927161693572998\n",
                        "loading config from ./experiments/orc_encoding.json ...\n",
                        "----Running experiment:----\n",
                        "UNCOMPRESSED_speed_1_2147486647\n",
                        "write orc time (s): 2.820885419845581\n",
                        "loading config from ./experiments/pq_encoding.json ...\n",
                        "----Running experiment: 1 out of 1----\n",
                        "NONE_True_2147483647_2.6_2.0\n",
                        "write parquet time (s): 0.922966718673706\n",
                        "loading config from ./experiments/orc_encoding.json ...\n",
                        "----Running experiment:----\n",
                        "UNCOMPRESSED_speed_1_2147486647\n",
                        "write orc time (s): 2.7068111896514893\n",
                        "loading config from ./experiments/pq_encoding.json ...\n",
                        "----Running experiment: 1 out of 1----\n",
                        "NONE_True_2147483647_2.6_2.0\n",
                        "write parquet time (s): 0.9298884868621826\n",
                        "loading config from ./experiments/orc_encoding.json ...\n",
                        "----Running experiment:----\n",
                        "UNCOMPRESSED_speed_1_2147486647\n",
                        "write orc time (s): 2.6769256591796875\n",
                        "loading config from ./experiments/pq_encoding.json ...\n",
                        "----Running experiment: 1 out of 1----\n",
                        "NONE_True_2147483647_2.6_2.0\n",
                        "write parquet time (s): 0.9276988506317139\n",
                        "loading config from ./experiments/orc_encoding.json ...\n",
                        "----Running experiment:----\n",
                        "UNCOMPRESSED_speed_1_2147486647\n",
                        "write orc time (s): 2.5984737873077393\n",
                        "loading config from ./experiments/pq_encoding.json ...\n",
                        "----Running experiment: 1 out of 1----\n",
                        "NONE_True_2147483647_2.6_2.0\n",
                        "write parquet time (s): 0.9032528400421143\n",
                        "loading config from ./experiments/orc_encoding.json ...\n",
                        "----Running experiment:----\n",
                        "UNCOMPRESSED_speed_1_2147486647\n",
                        "write orc time (s): 2.582857131958008\n",
                        "loading config from ./experiments/pq_encoding.json ...\n",
                        "----Running experiment: 1 out of 1----\n",
                        "NONE_True_2147483647_2.6_2.0\n",
                        "write parquet time (s): 0.8865563869476318\n",
                        "loading config from ./experiments/orc_encoding.json ...\n",
                        "----Running experiment:----\n",
                        "UNCOMPRESSED_speed_1_2147486647\n",
                        "write orc time (s): 2.5335910320281982\n",
                        "loading config from ./experiments/pq_encoding.json ...\n",
                        "----Running experiment: 1 out of 1----\n",
                        "NONE_True_2147483647_2.6_2.0\n",
                        "write parquet time (s): 0.8954648971557617\n",
                        "loading config from ./experiments/orc_encoding.json ...\n",
                        "----Running experiment:----\n",
                        "UNCOMPRESSED_speed_1_2147486647\n",
                        "write orc time (s): 2.4968245029449463\n",
                        "loading config from ./experiments/pq_encoding.json ...\n",
                        "----Running experiment: 1 out of 1----\n",
                        "NONE_True_2147483647_2.6_2.0\n",
                        "write parquet time (s): 0.884880542755127\n",
                        "loading config from ./experiments/orc_encoding.json ...\n",
                        "----Running experiment:----\n",
                        "UNCOMPRESSED_speed_1_2147486647\n",
                        "write orc time (s): 2.504244089126587\n"
                    ]
                }
            ],
            "source": [
                "%time\n",
                "os.chdir(f'{PROJ_SRC_DIR}/python/data_gen')\n",
                "for run in run_list:\n",
                "    os.system(f'python3 gen_simple_short_repeat.py {run}')\n",
                "os.chdir(f'{PROJ_SRC_DIR}/python')\n",
                "for run in run_list:\n",
                "    base_name = f'idx_run{run}_max9'\n",
                "    os.system(f'python3 scripts/parquet_exp.py {base_name} pq_encoding -r=false -o=false')\n",
                "    os.system(f'python3 scripts/orc_exp.py {base_name} orc_encoding -r=false -o=false')\n",
                "    # orc_schema = open(f'encoding/{base_name}/gen_data/{base_name}_orc_schema.txt', 'r').read()\n",
                "    # os.system(f'{HOME_DIR}/orc/build/tools/src/csv-import \\\"{orc_schema}\\\" \\\n",
                "    #         encoding/{base_name}/gen_data/{base_name}.csv {base_name}.orc')\n",
                "    os.system(f'mv {base_name}{pq_name_suffix} encoding/{base_name}.parquet')\n",
                "    os.system(f'mv {base_name}{orc_name_suffix} encoding/{base_name}.orc')\n",
                "    # os.system(f'mv {base_name}.orc encoding/{base_name}.orc')\n",
                "os.chdir(f'{PROJ_SRC_DIR}/python/encoding')\n"
            ]
        },
        {
            "cell_type": "code",
            "execution_count": 6,
            "metadata": {},
            "outputs": [
                {
                    "data": {
                        "text/plain": [
                            "0"
                        ]
                    },
                    "execution_count": 6,
                    "metadata": {},
                    "output_type": "execute_result"
                }
            ],
            "source": [
                "# running experiments\n",
                "os.system('rm outputs/stats.json')\n",
                "for i in range(10):\n",
                "    for run in run_list:\n",
                "        base_name = f'idx_run{run}_max9'\n",
                "        os.system('sync; echo 3 > /proc/sys/vm/drop_caches')\n",
                "        time.sleep(1)\n",
                "        pq_read = float(os.popen(f'''{scan_exec_pq} \\\n",
                "                --batch_size=1024 ./{base_name}.parquet''').read().split('\\n')[0].split(' ')[-2])\n",
                "        pq_read_preload = float(os.popen(f'''{scan_exec_pq} \\\n",
                "                --batch_size=1024 ./{base_name}.parquet''').read().split('\\n')[0].split(' ')[-2])\n",
                "        os.system('sync; echo 3 > /proc/sys/vm/drop_caches')\n",
                "        time.sleep(1)\n",
                "        orc_read = float(os.popen(f'''{HOME_DIR}/orc/build/tools/src/orc-scan \\\n",
                "                -b 1024 ./{base_name}.orc''').read().split('\\n')[0].split(' ')[-1])\n",
                "        orc_read_preload = float(os.popen(f'''{HOME_DIR}/orc/build/tools/src/orc-scan \\\n",
                "                -b 1024 ./{base_name}.orc''').read().split('\\n')[0].split(' ')[-1])\n",
                "        orc_size = os.path.getsize(f'{base_name}.orc')\n",
                "        pq_size = os.path.getsize(f'{base_name}.parquet')\n",
                "        output_stats = {}\n",
                "        output_stats['run'] = run\n",
                "        output_stats['i'] = i\n",
                "        output_stats['file'] = 'parquet'\n",
                "        output_stats['size'] = pq_size\n",
                "        output_stats['read_time'] = pq_read\n",
                "        output_stats['read_time_preload'] = pq_read_preload\n",
                "        parse_output(output_stats)\n",
                "        output_stats['file'] = 'orc'\n",
                "        output_stats['size'] = orc_size\n",
                "        output_stats['read_time'] = orc_read\n",
                "        output_stats['read_time_preload'] = orc_read_preload\n",
                "        parse_output(output_stats)\n",
                "collect_results()\n",
                "os.system('mv outputs/stats.csv ../outputs/{}_{}.csv'.format('decode_rle', timestamp))"
            ]
        },
        {
            "attachments": {},
            "cell_type": "markdown",
            "metadata": {},
            "source": [
                "# Decode time on varying compressions"
            ]
        },
        {
            "cell_type": "code",
            "execution_count": 10,
            "metadata": {},
            "outputs": [
                {
                    "name": "stdout",
                    "output_type": "stream",
                    "text": [
                        "loading config from /mnt/OpenFormat/python/experiments/pq_encoding.json ...\n",
                        "loading config from /mnt/OpenFormat/python/experiments/orc_encoding.json ...\n"
                    ]
                }
            ],
            "source": [
                "# pq_config = enumerate_config(f'{PROJ_SRC_DIR}/python/experiments/pq_default.json')\n",
                "# orc_config = enumerate_config(f'{PROJ_SRC_DIR}/python/experiments/orc_default.json')\n",
                "pq_config = enumerate_config(f'{PROJ_SRC_DIR}/python/experiments/pq_encoding.json')\n",
                "orc_config = enumerate_config(f'{PROJ_SRC_DIR}/python/experiments/orc_encoding.json')\n",
                "pq_param = pq_config[0]\n",
                "orc_param = orc_config[0]\n",
                "import pyarrow.orc as po\n",
                "from pyarrow import csv\n",
                "import pyarrow.parquet as pq\n",
                "os.chdir(f'{PROJ_SRC_DIR}/python')\n",
                "workload_list = ['int', 'float', 'string']\n",
                "compression_list = ['SNAPPY', 'ZSTD', 'LZ4', 'NONE']\n",
                "for compression in compression_list:\n",
                "    orc_param['compression'] = compression if compression != 'NONE' else \"UNCOMPRESSED\"\n",
                "    pq_param['compression'] = compression\n",
                "    for wl in workload_list:\n",
                "        base_name = f'{wl}_r{num_rows}_c{num_cols}'\n",
                "        table, _ = read_csv(f'encoding/{base_name}/gen_data/{base_name}.csv')\n",
                "        po.write_table(\n",
                "            table, f'encoding/{base_name}.{compression.lower()}.orc', **orc_param)\n",
                "        pq.write_table(table, f'encoding/{base_name}.{compression.lower()}.parquet', \n",
                "                **pq_param)\n",
                "        # os.system(f'mv {base_name}.orc encoding/{base_name}.orc')\n",
                "os.chdir(f'{PROJ_SRC_DIR}/python/encoding')"
            ]
        },
        {
            "cell_type": "code",
            "execution_count": 14,
            "metadata": {},
            "outputs": [
                {
                    "data": {
                        "text/plain": [
                            "0"
                        ]
                    },
                    "execution_count": 14,
                    "metadata": {},
                    "output_type": "execute_result"
                }
            ],
            "source": [
                "# running experiments\n",
                "os.system('rm outputs/stats.json')\n",
                "for i in range(10):\n",
                "    for c in compression_list:\n",
                "        for wl in workload_list:\n",
                "                base_name = f'{wl}_r{num_rows}_c{num_cols}'\n",
                "                os.system('sync; echo 3 > /proc/sys/vm/drop_caches')\n",
                "                time.sleep(1)\n",
                "                pq_read = float(os.popen(f'''{scan_exec_pq} \\\n",
                "                        --batch_size=1024 ./{base_name}.{c.lower()}.parquet''').read().split('\\n')[0].split(' ')[-2])\n",
                "                pq_read_preload = float(os.popen(f'''{scan_exec_pq} \\\n",
                "                        --batch_size=1024 ./{base_name}.{c.lower()}.parquet''').read().split('\\n')[0].split(' ')[-2])\n",
                "                os.system('sync; echo 3 > /proc/sys/vm/drop_caches')\n",
                "                time.sleep(1)\n",
                "                orc_read = float(os.popen(f'''{HOME_DIR}/orc/build/tools/src/orc-scan \\\n",
                "                        -b 1024 ./{base_name}.{c.lower()}.orc''').read().split('\\n')[0].split(' ')[-1])\n",
                "                orc_read_preload = float(os.popen(f'''{HOME_DIR}/orc/build/tools/src/orc-scan \\\n",
                "                        -b 1024 ./{base_name}.{c.lower()}.orc''').read().split('\\n')[0].split(' ')[-1])\n",
                "                orc_size = os.path.getsize(f'{base_name}.{c.lower()}.orc')\n",
                "                pq_size = os.path.getsize(f'{base_name}.{c.lower()}.parquet')\n",
                "                output_stats = {}\n",
                "                output_stats['workload'] = wl\n",
                "                output_stats['i'] = i\n",
                "                output_stats['file'] = 'parquet'\n",
                "                output_stats['size'] = pq_size\n",
                "                output_stats['read_time'] = pq_read\n",
                "                output_stats['read_time_preload'] = pq_read_preload\n",
                "                output_stats['compression'] = c.lower()\n",
                "                parse_output(output_stats)\n",
                "                output_stats['file'] = 'orc'\n",
                "                output_stats['size'] = orc_size\n",
                "                output_stats['read_time'] = orc_read\n",
                "                output_stats['read_time_preload'] = orc_read_preload\n",
                "                output_stats['compression'] = c.lower()\n",
                "                parse_output(output_stats)\n",
                "collect_results()\n",
                "os.system('mv outputs/stats.csv ../outputs/{}_{}.csv'.format('decode_speed_compression', timestamp))"
            ]
        },
        {
            "cell_type": "code",
            "execution_count": null,
            "metadata": {},
            "outputs": [],
            "source": []
        }
    ],
    "metadata": {
        "kernelspec": {
            "display_name": "Python 3",
            "language": "python",
            "name": "python3"
        },
        "language_info": {
            "codemirror_mode": {
                "name": "ipython",
                "version": 3
            },
            "file_extension": ".py",
            "mimetype": "text/x-python",
            "name": "python",
            "nbconvert_exporter": "python",
            "pygments_lexer": "ipython3",
            "version": "3.8.10"
        },
        "orig_nbformat": 4,
        "vscode": {
            "interpreter": {
                "hash": "31f2aee4e71d21fbe5cf8b01ff0e069b9275f58929596ceb00d14d90e3e16cd6"
            }
        }
    },
    "nbformat": 4,
    "nbformat_minor": 2
}
