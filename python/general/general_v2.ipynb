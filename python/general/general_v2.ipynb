{
 "cells": [
  {
   "cell_type": "code",
   "execution_count": 1,
   "metadata": {},
   "outputs": [
    {
     "name": "stdout",
     "output_type": "stream",
     "text": [
      "/home/haoyuq/EvaluationOfColumnarFormats/OpenFormat/OpenFormat-Public/python/general\n"
     ]
    }
   ],
   "source": [
    "import json\n",
    "import os\n",
    "import sys\n",
    "import math\n",
    "import datetime\n",
    "import pathlib\n",
    "import numpy as np\n",
    "\n",
    "dir_path = pathlib.Path(os.path.abspath('')).resolve()\n",
    "print(dir_path)\n",
    "HOME_DIR = str(dir_path).split('/OpenFormat-Public')[0]\n",
    "\n",
    "timestamp = datetime.datetime.now().strftime(\"%Y%m%d_%H%M%S\")\n",
    "\n",
    "PROJ_SRC_DIR = f'{HOME_DIR}/OpenFormat-Public'\n",
    "sys.path.insert(1, f'{PROJ_SRC_DIR}')\n",
    "from python.scripts.utils import *\n",
    "num_rows = 1000 * 1000\n",
    "num_cols = 20\n",
    "workload_list = ['core', 'geo', 'classic', 'log', 'ml', 'bi']"
   ]
  },
  {
   "cell_type": "code",
   "execution_count": 2,
   "metadata": {},
   "outputs": [],
   "source": [
    "HOME_DIR = str(dir_path).split('/OpenFormat')[0]\n",
    "scan_exec_pq = f'{HOME_DIR}/arrow-private/arrow-Public/cpp/out/build/openformat-release-static/release/parquet-scan-columnbatch'"
   ]
  },
  {
   "attachments": {},
   "cell_type": "markdown",
   "metadata": {},
   "source": [
    "# Predefined workloads, size and scan time"
   ]
  },
  {
   "cell_type": "code",
   "execution_count": 3,
   "metadata": {},
   "outputs": [
    {
     "name": "stdout",
     "output_type": "stream",
     "text": [
      "/home/haoyuq/EvaluationOfColumnarFormats/OpenFormat/OpenFormat-Public/benchmark/generator_v2\n",
      "Finish core dataset! 🎉🎉🎉🎉🎉🎉\n",
      "Generating Done!!\n",
      "Finish workload: geo! 🎉🎉🎉🎉🎉🎉\n",
      "Generating Done!!\n",
      "Finish workload: classic! 🎉🎉🎉🎉🎉🎉\n",
      "Generating Done!!\n",
      "🤔 INFO: too many collisions in int_unique_list, 19734 values just use (max_value + 1)!\n",
      "🤔 INFO: too many collisions in int_unique_list, 342213 values just use (max_value + 1)!\n",
      "Finish workload: log! 🎉🎉🎉🎉🎉🎉\n",
      "Generating Done!!\n",
      "Finish workload: ml! 🎉🎉🎉🎉🎉🎉\n",
      "Generating Done!!\n",
      "🤔 INFO: too many collisions in int_unique_list, 7 values just use (max_value + 1)!\n",
      "Finish workload: bi! 🎉🎉🎉🎉🎉🎉\n",
      "Generating Done!!\n",
      "/home/haoyuq/EvaluationOfColumnarFormats/OpenFormat/OpenFormat-Public/python/general\n",
      "CPU times: user 28.9 ms, sys: 19.1 ms, total: 48 ms\n",
      "Wall time: 12min 19s\n"
     ]
    }
   ],
   "source": [
    "%%time\n",
    "# generate csv files\n",
    "os.chdir(f'{PROJ_SRC_DIR}/benchmark/generator_v2')\n",
    "!pwd\n",
    "for wl in workload_list:\n",
    "    base_name = f'{wl}_r{num_rows}_c{num_cols}'\n",
    "    os.system(f'python3 gen_workloads.py \\\n",
    "        {wl} {num_rows} {num_cols} {base_name}')\n",
    "    os.system(f'cp -r {base_name} {dir_path} && \\\n",
    "        rm -r {base_name}')\n",
    "os.chdir(dir_path)\n",
    "!pwd"
   ]
  },
  {
   "cell_type": "code",
   "execution_count": 45,
   "metadata": {},
   "outputs": [
    {
     "name": "stdout",
     "output_type": "stream",
     "text": [
      "loading config from /home/haoyuq/EvaluationOfColumnarFormats/OpenFormat/OpenFormat-Public/python/experiments/pq_plain.json ...\n",
      "loading config from /home/haoyuq/EvaluationOfColumnarFormats/OpenFormat/OpenFormat-Public/python/experiments/orc_plain.json ...\n",
      "_NONE_False_1048576_2.6_2.0.parquet\n",
      "_UNCOMPRESSED_speed_0.orc\n",
      "[{'compression': 'NONE', 'use_dictionary': False, 'row_group_size': 1048576, 'version': '2.6', 'data_page_version': '2.0'}]\n",
      "[{'compression': 'UNCOMPRESSED', 'compression_strategy': 'speed', 'dictionary_key_size_threshold': 0}]\n"
     ]
    }
   ],
   "source": [
    "pq_config = enumerate_config(f'{PROJ_SRC_DIR}/python/experiments/pq_plain.json')\n",
    "orc_config = enumerate_config(f'{PROJ_SRC_DIR}/python/experiments/orc_plain.json')\n",
    "pq_name_suffix = '_' + \"_\".join([str(i) for i in list(pq_config[0].values())]) + '.parquet'\n",
    "orc_name_suffix = '_' + \"_\".join([str(i) for i in list(orc_config[0].values())]) + '.orc'\n",
    "print(pq_name_suffix)\n",
    "print(orc_name_suffix)\n",
    "print(pq_config)\n",
    "print(orc_config)"
   ]
  },
  {
   "cell_type": "markdown",
   "metadata": {},
   "source": [
    "## BtrBlocks files"
   ]
  },
  {
   "cell_type": "code",
   "execution_count": 5,
   "metadata": {},
   "outputs": [
    {
     "name": "stdout",
     "output_type": "stream",
     "text": [
      "message schema {\n",
      "\n",
      "}\n",
      "message schema {\n",
      "\n",
      "}\n",
      "message schema {\n",
      "\n",
      "}\n",
      "message schema {\n",
      "\n",
      "}\n",
      "message schema {\n",
      "\n",
      "}\n",
      "message schema {\n",
      "\n",
      "}\n"
     ]
    }
   ],
   "source": [
    "# create btrblock schema file\n",
    "import yaml\n",
    "os.chdir(f'{PROJ_SRC_DIR}/python')\n",
    "for wl in workload_list:\n",
    "    base_name = f'{wl}_r{num_rows}_c{num_cols}'\n",
    "    arrow_schema_name = f'general/{base_name}/gen_data/{base_name}_arrow_schema.txt'\n",
    "    with open(arrow_schema_name, 'r') as f:\n",
    "        lines = f.readlines()\n",
    "    columns = []\n",
    "    cnt = 0\n",
    "    for line in lines:\n",
    "        if 'message' in line or '}' in line or len(line)==0:\n",
    "            print(line)\n",
    "            continue\n",
    "        col_name = f'col{cnt}'\n",
    "        col_type = None\n",
    "        if 'String' in line:\n",
    "            col_type = 'string'\n",
    "        elif 'int' in line:\n",
    "            col_type = 'integer'\n",
    "        elif 'double' in line:\n",
    "            col_type = 'double'\n",
    "        if col_type is None:\n",
    "            print(line)\n",
    "            col_type = 'skip'\n",
    "        cnt += 1\n",
    "        columns.append({'name': col_name, 'type':col_type})\n",
    "    with open(f'general/{base_name}/gen_data/{base_name}_btrblocks_schema.yaml','w') as f:\n",
    "        yaml.dump({'columns':columns}, f)"
   ]
  },
  {
   "cell_type": "code",
   "execution_count": 46,
   "metadata": {},
   "outputs": [
    {
     "name": "stdout",
     "output_type": "stream",
     "text": [
      "core_r1000000_c20\n"
     ]
    },
    {
     "name": "stderr",
     "output_type": "stream",
     "text": [
      "[sudo] password for haoyuq: "
     ]
    },
    {
     "name": "stdout",
     "output_type": "stream",
     "text": [
      "loading config from ./experiments/pq_plain.json ...\n",
      "----Running experiment: 1 out of 1----\n",
      "NONE_False_1048576_2.6_2.0\n",
      "write parquet time (s): 0.47096872329711914\n"
     ]
    },
    {
     "name": "stderr",
     "output_type": "stream",
     "text": [
      "[sudo] password for haoyuq: "
     ]
    },
    {
     "name": "stdout",
     "output_type": "stream",
     "text": [
      "loading config from ./experiments/orc_plain.json ...\n",
      "----Running experiment:----\n",
      "UNCOMPRESSED_speed_0\n",
      "write orc time (s): 0.7955284118652344\n",
      "geo_r1000000_c20\n"
     ]
    },
    {
     "name": "stderr",
     "output_type": "stream",
     "text": [
      "[sudo] password for haoyuq: "
     ]
    },
    {
     "name": "stdout",
     "output_type": "stream",
     "text": [
      "loading config from ./experiments/pq_plain.json ...\n",
      "----Running experiment: 1 out of 1----\n",
      "NONE_False_1048576_2.6_2.0\n",
      "write parquet time (s): 0.5635099411010742\n"
     ]
    },
    {
     "name": "stderr",
     "output_type": "stream",
     "text": [
      "[sudo] password for haoyuq: "
     ]
    },
    {
     "name": "stdout",
     "output_type": "stream",
     "text": [
      "loading config from ./experiments/orc_plain.json ...\n",
      "----Running experiment:----\n",
      "UNCOMPRESSED_speed_0\n",
      "write orc time (s): 0.9063608646392822\n",
      "classic_r1000000_c20\n"
     ]
    },
    {
     "name": "stderr",
     "output_type": "stream",
     "text": [
      "[sudo] password for haoyuq: "
     ]
    },
    {
     "name": "stdout",
     "output_type": "stream",
     "text": [
      "loading config from ./experiments/pq_plain.json ...\n",
      "----Running experiment: 1 out of 1----\n",
      "NONE_False_1048576_2.6_2.0\n",
      "write parquet time (s): 0.6187753677368164\n"
     ]
    },
    {
     "name": "stderr",
     "output_type": "stream",
     "text": [
      "[sudo] password for haoyuq: "
     ]
    },
    {
     "name": "stdout",
     "output_type": "stream",
     "text": [
      "loading config from ./experiments/orc_plain.json ...\n",
      "----Running experiment:----\n",
      "UNCOMPRESSED_speed_0\n",
      "write orc time (s): 1.0068562030792236\n",
      "log_r1000000_c20\n"
     ]
    },
    {
     "name": "stderr",
     "output_type": "stream",
     "text": [
      "[sudo] password for haoyuq: "
     ]
    },
    {
     "name": "stdout",
     "output_type": "stream",
     "text": [
      "loading config from ./experiments/pq_plain.json ...\n",
      "----Running experiment: 1 out of 1----\n",
      "NONE_False_1048576_2.6_2.0\n",
      "write parquet time (s): 0.5352048873901367\n"
     ]
    },
    {
     "name": "stderr",
     "output_type": "stream",
     "text": [
      "[sudo] password for haoyuq: "
     ]
    },
    {
     "name": "stdout",
     "output_type": "stream",
     "text": [
      "loading config from ./experiments/orc_plain.json ...\n",
      "----Running experiment:----\n",
      "UNCOMPRESSED_speed_0\n",
      "write orc time (s): 0.8383834362030029\n",
      "ml_r1000000_c20\n"
     ]
    },
    {
     "name": "stderr",
     "output_type": "stream",
     "text": [
      "[sudo] password for haoyuq: "
     ]
    },
    {
     "name": "stdout",
     "output_type": "stream",
     "text": [
      "loading config from ./experiments/pq_plain.json ...\n",
      "----Running experiment: 1 out of 1----\n",
      "NONE_False_1048576_2.6_2.0\n",
      "write parquet time (s): 0.5402238368988037\n"
     ]
    },
    {
     "name": "stderr",
     "output_type": "stream",
     "text": [
      "[sudo] password for haoyuq: "
     ]
    },
    {
     "name": "stdout",
     "output_type": "stream",
     "text": [
      "loading config from ./experiments/orc_plain.json ...\n",
      "----Running experiment:----\n",
      "UNCOMPRESSED_speed_0\n",
      "write orc time (s): 0.955223560333252\n",
      "bi_r1000000_c20\n"
     ]
    },
    {
     "name": "stderr",
     "output_type": "stream",
     "text": [
      "[sudo] password for haoyuq: "
     ]
    },
    {
     "name": "stdout",
     "output_type": "stream",
     "text": [
      "loading config from ./experiments/pq_plain.json ...\n",
      "----Running experiment: 1 out of 1----\n",
      "NONE_False_1048576_2.6_2.0\n",
      "write parquet time (s): 0.4400486946105957\n"
     ]
    },
    {
     "name": "stderr",
     "output_type": "stream",
     "text": [
      "[sudo] password for haoyuq: "
     ]
    },
    {
     "name": "stdout",
     "output_type": "stream",
     "text": [
      "loading config from ./experiments/orc_plain.json ...\n",
      "----Running experiment:----\n",
      "UNCOMPRESSED_speed_0\n",
      "write orc time (s): 0.7259507179260254\n"
     ]
    }
   ],
   "source": [
    "os.chdir(f'{PROJ_SRC_DIR}/python')\n",
    "my_password = \"\"\n",
    "for wl in workload_list:\n",
    "    base_name = f'{wl}_r{num_rows}_c{num_cols}'\n",
    "    print(base_name)\n",
    "    os.system(f'cp general/{base_name}/gen_data/{base_name}.csv data_gen')\n",
    "    os.system(f'echo {my_password} | sudo -S /home/haoyuq/miniconda3/envs/gen/bin/python scripts/parquet_exp.py {base_name} pq_plain -r=false -o=false')\n",
    "    os.system(f'echo {my_password} | sudo -S /home/haoyuq/miniconda3/envs/gen/bin/python scripts/orc_exp.py {base_name} orc_plain -r=false -o=false')\n",
    "    os.system(f'mv {base_name}{pq_name_suffix} general/{base_name}{pq_name_suffix}.parquet')\n",
    "    os.system(f'mv {base_name}{orc_name_suffix} general/{base_name}{orc_name_suffix}.orc')\n",
    "os.chdir(f'{PROJ_SRC_DIR}/python/general')"
   ]
  },
  {
   "cell_type": "code",
   "execution_count": 8,
   "metadata": {},
   "outputs": [
    {
     "name": "stderr",
     "output_type": "stream",
     "text": [
      "mkdir: cannot create directory ‘general/core_r1000000_c20/gen_data/binary’: File exists\n",
      "mkdir: cannot create directory ‘general/core_r1000000_c20/gen_data/btr’: File exists\n"
     ]
    },
    {
     "name": "stdout",
     "output_type": "stream",
     "text": [
      "[2024-03-06 03:43:39.155] [info] Creating binary files in general/core_r1000000_c20/gen_data/binary/\n",
      "column name = col0 , type = integer\n",
      "column name = col1 , type = integer\n",
      "column name = col2 , type = integer\n",
      "column name = col3 , type = integer\n",
      "column name = col4 , type = integer\n",
      "column name = col5 , type = integer\n",
      "column name = col6 , type = integer\n",
      "column name = col7 , type = integer\n",
      "column name = col8 , type = double\n",
      "column name = col9 , type = double\n",
      "column name = col10 , type = double\n",
      "column name = col11 , type = double\n",
      "column name = col12 , type = string\n",
      "column name = col13 , type = string\n",
      "column name = col14 , type = string\n",
      "column name = col15 , type = string\n",
      "column name = col16 , type = string\n",
      "column name = col17 , type = string\n",
      "column name = col18 , type = string\n",
      "column name = col19 , type = string\n",
      "[haoyu.debug.Parser] writing binary filegeneral/core_r1000000_c20/gen_data/binary/1_col0.bitmap\n",
      "Writing binary file : general/core_r1000000_c20/gen_data/binary/1_col0.bitmap\n",
      "[haoyu.debug.writeBinary] v.size 1000000 sizeof(T) 1 length=1000000\n",
      "Writing binary file : general/core_r1000000_c20/gen_data/binary/1_col0.integer\n",
      "[haoyu.debug.writeBinary] v.size 1000000 sizeof(T) 4 length=4000000\n",
      "[haoyu.debug.Parser] writing binary filegeneral/core_r1000000_c20/gen_data/binary/2_col1.bitmap\n",
      "Writing binary file : general/core_r1000000_c20/gen_data/binary/2_col1.bitmap\n",
      "[haoyu.debug.writeBinary] v.size 1000000 sizeof(T) 1 length=1000000\n",
      "Writing binary file : general/core_r1000000_c20/gen_data/binary/2_col1.integer\n",
      "[haoyu.debug.writeBinary] v.size 1000000 sizeof(T) 4 length=4000000\n",
      "[haoyu.debug.Parser] writing binary filegeneral/core_r1000000_c20/gen_data/binary/3_col2.bitmap\n",
      "Writing binary file : general/core_r1000000_c20/gen_data/binary/3_col2.bitmap\n",
      "[haoyu.debug.writeBinary] v.size 1000000 sizeof(T) 1 length=1000000\n",
      "Writing binary file : general/core_r1000000_c20/gen_data/binary/3_col2.integer\n",
      "[haoyu.debug.writeBinary] v.size 1000000 sizeof(T) 4 length=4000000\n",
      "[haoyu.debug.Parser] writing binary filegeneral/core_r1000000_c20/gen_data/binary/4_col3.bitmap\n",
      "Writing binary file : general/core_r1000000_c20/gen_data/binary/4_col3.bitmap\n",
      "[haoyu.debug.writeBinary] v.size 1000000 sizeof(T) 1 length=1000000\n",
      "Writing binary file : general/core_r1000000_c20/gen_data/binary/4_col3.integer\n",
      "[haoyu.debug.writeBinary] v.size 1000000 sizeof(T) 4 length=4000000\n",
      "[haoyu.debug.Parser] writing binary filegeneral/core_r1000000_c20/gen_data/binary/5_col4.bitmap\n",
      "Writing binary file : general/core_r1000000_c20/gen_data/binary/5_col4.bitmap\n",
      "[haoyu.debug.writeBinary] v.size 1000000 sizeof(T) 1 length=1000000\n",
      "Writing binary file : general/core_r1000000_c20/gen_data/binary/5_col4.integer\n",
      "[haoyu.debug.writeBinary] v.size 1000000 sizeof(T) 4 length=4000000\n",
      "[haoyu.debug.Parser] writing binary filegeneral/core_r1000000_c20/gen_data/binary/6_col5.bitmap\n",
      "Writing binary file : general/core_r1000000_c20/gen_data/binary/6_col5.bitmap\n",
      "[haoyu.debug.writeBinary] v.size 1000000 sizeof(T) 1 length=1000000\n",
      "Writing binary file : general/core_r1000000_c20/gen_data/binary/6_col5.integer\n",
      "[haoyu.debug.writeBinary] v.size 1000000 sizeof(T) 4 length=4000000\n",
      "[haoyu.debug.Parser] writing binary filegeneral/core_r1000000_c20/gen_data/binary/7_col6.bitmap\n",
      "Writing binary file : general/core_r1000000_c20/gen_data/binary/7_col6.bitmap\n",
      "[haoyu.debug.writeBinary] v.size 1000000 sizeof(T) 1 length=1000000\n",
      "Writing binary file : general/core_r1000000_c20/gen_data/binary/7_col6.integer\n",
      "[haoyu.debug.writeBinary] v.size 1000000 sizeof(T) 4 length=4000000\n",
      "[haoyu.debug.Parser] writing binary filegeneral/core_r1000000_c20/gen_data/binary/8_col7.bitmap\n",
      "Writing binary file : general/core_r1000000_c20/gen_data/binary/8_col7.bitmap\n",
      "[haoyu.debug.writeBinary] v.size 1000000 sizeof(T) 1 length=1000000\n",
      "Writing binary file : general/core_r1000000_c20/gen_data/binary/8_col7.integer\n",
      "[haoyu.debug.writeBinary] v.size 1000000 sizeof(T) 4 length=4000000\n",
      "[haoyu.debug.Parser] writing binary filegeneral/core_r1000000_c20/gen_data/binary/9_col8.bitmap\n",
      "Writing binary file : general/core_r1000000_c20/gen_data/binary/9_col8.bitmap\n",
      "[haoyu.debug.writeBinary] v.size 1000000 sizeof(T) 1 length=1000000\n",
      "Writing binary file : general/core_r1000000_c20/gen_data/binary/9_col8.double\n",
      "[haoyu.debug.writeBinary] v.size 1000000 sizeof(T) 8 length=8000000\n",
      "[haoyu.debug.Parser] writing binary filegeneral/core_r1000000_c20/gen_data/binary/10_col9.bitmap\n",
      "Writing binary file : general/core_r1000000_c20/gen_data/binary/10_col9.bitmap\n",
      "[haoyu.debug.writeBinary] v.size 1000000 sizeof(T) 1 length=1000000\n",
      "Writing binary file : general/core_r1000000_c20/gen_data/binary/10_col9.double\n",
      "[haoyu.debug.writeBinary] v.size 1000000 sizeof(T) 8 length=8000000\n",
      "[haoyu.debug.Parser] writing binary filegeneral/core_r1000000_c20/gen_data/binary/11_col10.bitmap\n",
      "Writing binary file : general/core_r1000000_c20/gen_data/binary/11_col10.bitmap\n",
      "[haoyu.debug.writeBinary] v.size 1000000 sizeof(T) 1 length=1000000\n",
      "Writing binary file : general/core_r1000000_c20/gen_data/binary/11_col10.double\n",
      "[haoyu.debug.writeBinary] v.size 1000000 sizeof(T) 8 length=8000000\n",
      "[haoyu.debug.Parser] writing binary filegeneral/core_r1000000_c20/gen_data/binary/12_col11.bitmap\n",
      "Writing binary file : general/core_r1000000_c20/gen_data/binary/12_col11.bitmap\n",
      "[haoyu.debug.writeBinary] v.size 1000000 sizeof(T) 1 length=1000000\n",
      "Writing binary file : general/core_r1000000_c20/gen_data/binary/12_col11.double\n",
      "[haoyu.debug.writeBinary] v.size 1000000 sizeof(T) 8 length=8000000\n",
      "[haoyu.debug.Parser] writing binary filegeneral/core_r1000000_c20/gen_data/binary/13_col12.bitmap\n",
      "Writing binary file : general/core_r1000000_c20/gen_data/binary/13_col12.bitmap\n",
      "[haoyu.debug.writeBinary] v.size 1000000 sizeof(T) 1 length=1000000\n",
      "[haoyu.debug.Parser] writing binary filegeneral/core_r1000000_c20/gen_data/binary/14_col13.bitmap\n",
      "Writing binary file : general/core_r1000000_c20/gen_data/binary/14_col13.bitmap\n",
      "[haoyu.debug.writeBinary] v.size 1000000 sizeof(T) 1 length=1000000\n",
      "[haoyu.debug.Parser] writing binary filegeneral/core_r1000000_c20/gen_data/binary/15_col14.bitmap\n",
      "Writing binary file : general/core_r1000000_c20/gen_data/binary/15_col14.bitmap\n",
      "[haoyu.debug.writeBinary] v.size 1000000 sizeof(T) 1 length=1000000\n",
      "[haoyu.debug.Parser] writing binary filegeneral/core_r1000000_c20/gen_data/binary/16_col15.bitmap\n",
      "Writing binary file : general/core_r1000000_c20/gen_data/binary/16_col15.bitmap\n",
      "[haoyu.debug.writeBinary] v.size 1000000 sizeof(T) 1 length=1000000\n",
      "[haoyu.debug.Parser] writing binary filegeneral/core_r1000000_c20/gen_data/binary/17_col16.bitmap\n",
      "Writing binary file : general/core_r1000000_c20/gen_data/binary/17_col16.bitmap\n",
      "[haoyu.debug.writeBinary] v.size 1000000 sizeof(T) 1 length=1000000\n",
      "[haoyu.debug.Parser] writing binary filegeneral/core_r1000000_c20/gen_data/binary/18_col17.bitmap\n",
      "Writing binary file : general/core_r1000000_c20/gen_data/binary/18_col17.bitmap\n",
      "[haoyu.debug.writeBinary] v.size 1000000 sizeof(T) 1 length=1000000\n",
      "[haoyu.debug.Parser] writing binary filegeneral/core_r1000000_c20/gen_data/binary/19_col18.bitmap\n",
      "Writing binary file : general/core_r1000000_c20/gen_data/binary/19_col18.bitmap\n",
      "[haoyu.debug.writeBinary] v.size 1000000 sizeof(T) 1 length=1000000\n",
      "[haoyu.debug.Parser] writing binary filegeneral/core_r1000000_c20/gen_data/binary/20_col19.bitmap\n",
      "Writing binary file : general/core_r1000000_c20/gen_data/binary/20_col19.bitmap\n",
      "[haoyu.debug.writeBinary] v.size 1000000 sizeof(T) 1 length=1000000\n",
      "[2024-03-06 03:43:49.276] [info] Creating btr files in general/core_r1000000_c20/gen_data/btr/\n"
     ]
    },
    {
     "name": "stderr",
     "output_type": "stream",
     "text": [
      "mkdir: cannot create directory ‘general/geo_r1000000_c20/gen_data/binary’: File exists\n",
      "mkdir: cannot create directory ‘general/geo_r1000000_c20/gen_data/btr’: File exists\n"
     ]
    },
    {
     "name": "stdout",
     "output_type": "stream",
     "text": [
      "[2024-03-06 03:43:55.301] [info] Creating binary files in general/geo_r1000000_c20/gen_data/binary/\n",
      "column name = col0 , type = integer\n",
      "column name = col1 , type = integer\n",
      "column name = col2 , type = integer\n",
      "column name = col3 , type = integer\n",
      "column name = col4 , type = integer\n",
      "column name = col5 , type = integer\n",
      "column name = col6 , type = integer\n",
      "column name = col7 , type = double\n",
      "column name = col8 , type = string\n",
      "column name = col9 , type = string\n",
      "column name = col10 , type = string\n",
      "column name = col11 , type = string\n",
      "column name = col12 , type = string\n",
      "column name = col13 , type = string\n",
      "column name = col14 , type = string\n",
      "column name = col15 , type = string\n",
      "column name = col16 , type = string\n",
      "column name = col17 , type = string\n",
      "column name = col18 , type = string\n",
      "column name = col19 , type = string\n",
      "[haoyu.debug.Parser] writing binary filegeneral/geo_r1000000_c20/gen_data/binary/1_col0.bitmap\n",
      "Writing binary file : general/geo_r1000000_c20/gen_data/binary/1_col0.bitmap\n",
      "[haoyu.debug.writeBinary] v.size 1000000 sizeof(T) 1 length=1000000\n",
      "Writing binary file : general/geo_r1000000_c20/gen_data/binary/1_col0.integer\n",
      "[haoyu.debug.writeBinary] v.size 1000000 sizeof(T) 4 length=4000000\n",
      "[haoyu.debug.Parser] writing binary filegeneral/geo_r1000000_c20/gen_data/binary/2_col1.bitmap\n",
      "Writing binary file : general/geo_r1000000_c20/gen_data/binary/2_col1.bitmap\n",
      "[haoyu.debug.writeBinary] v.size 1000000 sizeof(T) 1 length=1000000\n",
      "Writing binary file : general/geo_r1000000_c20/gen_data/binary/2_col1.integer\n",
      "[haoyu.debug.writeBinary] v.size 1000000 sizeof(T) 4 length=4000000\n",
      "[haoyu.debug.Parser] writing binary filegeneral/geo_r1000000_c20/gen_data/binary/3_col2.bitmap\n",
      "Writing binary file : general/geo_r1000000_c20/gen_data/binary/3_col2.bitmap\n",
      "[haoyu.debug.writeBinary] v.size 1000000 sizeof(T) 1 length=1000000\n",
      "Writing binary file : general/geo_r1000000_c20/gen_data/binary/3_col2.integer\n",
      "[haoyu.debug.writeBinary] v.size 1000000 sizeof(T) 4 length=4000000\n",
      "[haoyu.debug.Parser] writing binary filegeneral/geo_r1000000_c20/gen_data/binary/4_col3.bitmap\n",
      "Writing binary file : general/geo_r1000000_c20/gen_data/binary/4_col3.bitmap\n",
      "[haoyu.debug.writeBinary] v.size 1000000 sizeof(T) 1 length=1000000\n",
      "Writing binary file : general/geo_r1000000_c20/gen_data/binary/4_col3.integer\n",
      "[haoyu.debug.writeBinary] v.size 1000000 sizeof(T) 4 length=4000000\n",
      "[haoyu.debug.Parser] writing binary filegeneral/geo_r1000000_c20/gen_data/binary/5_col4.bitmap\n",
      "Writing binary file : general/geo_r1000000_c20/gen_data/binary/5_col4.bitmap\n",
      "[haoyu.debug.writeBinary] v.size 1000000 sizeof(T) 1 length=1000000\n",
      "Writing binary file : general/geo_r1000000_c20/gen_data/binary/5_col4.integer\n",
      "[haoyu.debug.writeBinary] v.size 1000000 sizeof(T) 4 length=4000000\n",
      "[haoyu.debug.Parser] writing binary filegeneral/geo_r1000000_c20/gen_data/binary/6_col5.bitmap\n",
      "Writing binary file : general/geo_r1000000_c20/gen_data/binary/6_col5.bitmap\n",
      "[haoyu.debug.writeBinary] v.size 1000000 sizeof(T) 1 length=1000000\n",
      "Writing binary file : general/geo_r1000000_c20/gen_data/binary/6_col5.integer\n",
      "[haoyu.debug.writeBinary] v.size 1000000 sizeof(T) 4 length=4000000\n",
      "[haoyu.debug.Parser] writing binary filegeneral/geo_r1000000_c20/gen_data/binary/7_col6.bitmap\n",
      "Writing binary file : general/geo_r1000000_c20/gen_data/binary/7_col6.bitmap\n",
      "[haoyu.debug.writeBinary] v.size 1000000 sizeof(T) 1 length=1000000\n",
      "Writing binary file : general/geo_r1000000_c20/gen_data/binary/7_col6.integer\n",
      "[haoyu.debug.writeBinary] v.size 1000000 sizeof(T) 4 length=4000000\n",
      "[haoyu.debug.Parser] writing binary filegeneral/geo_r1000000_c20/gen_data/binary/8_col7.bitmap\n",
      "Writing binary file : general/geo_r1000000_c20/gen_data/binary/8_col7.bitmap\n",
      "[haoyu.debug.writeBinary] v.size 1000000 sizeof(T) 1 length=1000000\n",
      "Writing binary file : general/geo_r1000000_c20/gen_data/binary/8_col7.double\n",
      "[haoyu.debug.writeBinary] v.size 1000000 sizeof(T) 8 length=8000000\n",
      "[haoyu.debug.Parser] writing binary filegeneral/geo_r1000000_c20/gen_data/binary/9_col8.bitmap\n",
      "Writing binary file : general/geo_r1000000_c20/gen_data/binary/9_col8.bitmap\n",
      "[haoyu.debug.writeBinary] v.size 1000000 sizeof(T) 1 length=1000000\n",
      "[haoyu.debug.Parser] writing binary filegeneral/geo_r1000000_c20/gen_data/binary/10_col9.bitmap\n",
      "Writing binary file : general/geo_r1000000_c20/gen_data/binary/10_col9.bitmap\n",
      "[haoyu.debug.writeBinary] v.size 1000000 sizeof(T) 1 length=1000000\n",
      "[haoyu.debug.Parser] writing binary filegeneral/geo_r1000000_c20/gen_data/binary/11_col10.bitmap\n",
      "Writing binary file : general/geo_r1000000_c20/gen_data/binary/11_col10.bitmap\n",
      "[haoyu.debug.writeBinary] v.size 1000000 sizeof(T) 1 length=1000000\n",
      "[haoyu.debug.Parser] writing binary filegeneral/geo_r1000000_c20/gen_data/binary/12_col11.bitmap\n",
      "Writing binary file : general/geo_r1000000_c20/gen_data/binary/12_col11.bitmap\n",
      "[haoyu.debug.writeBinary] v.size 1000000 sizeof(T) 1 length=1000000\n",
      "[haoyu.debug.Parser] writing binary filegeneral/geo_r1000000_c20/gen_data/binary/13_col12.bitmap\n",
      "Writing binary file : general/geo_r1000000_c20/gen_data/binary/13_col12.bitmap\n",
      "[haoyu.debug.writeBinary] v.size 1000000 sizeof(T) 1 length=1000000\n",
      "[haoyu.debug.Parser] writing binary filegeneral/geo_r1000000_c20/gen_data/binary/14_col13.bitmap\n",
      "Writing binary file : general/geo_r1000000_c20/gen_data/binary/14_col13.bitmap\n",
      "[haoyu.debug.writeBinary] v.size 1000000 sizeof(T) 1 length=1000000\n",
      "[haoyu.debug.Parser] writing binary filegeneral/geo_r1000000_c20/gen_data/binary/15_col14.bitmap\n",
      "Writing binary file : general/geo_r1000000_c20/gen_data/binary/15_col14.bitmap\n",
      "[haoyu.debug.writeBinary] v.size 1000000 sizeof(T) 1 length=1000000\n",
      "[haoyu.debug.Parser] writing binary filegeneral/geo_r1000000_c20/gen_data/binary/16_col15.bitmap\n",
      "Writing binary file : general/geo_r1000000_c20/gen_data/binary/16_col15.bitmap\n",
      "[haoyu.debug.writeBinary] v.size 1000000 sizeof(T) 1 length=1000000\n",
      "[haoyu.debug.Parser] writing binary filegeneral/geo_r1000000_c20/gen_data/binary/17_col16.bitmap\n",
      "Writing binary file : general/geo_r1000000_c20/gen_data/binary/17_col16.bitmap\n",
      "[haoyu.debug.writeBinary] v.size 1000000 sizeof(T) 1 length=1000000\n",
      "[haoyu.debug.Parser] writing binary filegeneral/geo_r1000000_c20/gen_data/binary/18_col17.bitmap\n",
      "Writing binary file : general/geo_r1000000_c20/gen_data/binary/18_col17.bitmap\n",
      "[haoyu.debug.writeBinary] v.size 1000000 sizeof(T) 1 length=1000000\n",
      "[haoyu.debug.Parser] writing binary filegeneral/geo_r1000000_c20/gen_data/binary/19_col18.bitmap\n",
      "Writing binary file : general/geo_r1000000_c20/gen_data/binary/19_col18.bitmap\n",
      "[haoyu.debug.writeBinary] v.size 1000000 sizeof(T) 1 length=1000000\n",
      "[haoyu.debug.Parser] writing binary filegeneral/geo_r1000000_c20/gen_data/binary/20_col19.bitmap\n",
      "Writing binary file : general/geo_r1000000_c20/gen_data/binary/20_col19.bitmap\n",
      "[haoyu.debug.writeBinary] v.size 1000000 sizeof(T) 1 length=1000000\n",
      "[2024-03-06 03:44:08.418] [info] Creating btr files in general/geo_r1000000_c20/gen_data/btr/\n"
     ]
    },
    {
     "name": "stderr",
     "output_type": "stream",
     "text": [
      "mkdir: cannot create directory ‘general/classic_r1000000_c20/gen_data/binary’: File exists\n",
      "mkdir: cannot create directory ‘general/classic_r1000000_c20/gen_data/btr’: File exists\n"
     ]
    },
    {
     "name": "stdout",
     "output_type": "stream",
     "text": [
      "[2024-03-06 03:44:17.966] [info] Creating binary files in general/classic_r1000000_c20/gen_data/binary/\n",
      "column name = col0 , type = integer\n",
      "column name = col1 , type = integer\n",
      "column name = col2 , type = integer\n",
      "column name = col3 , type = integer\n",
      "column name = col4 , type = integer\n",
      "column name = col5 , type = integer\n",
      "column name = col6 , type = integer\n",
      "column name = col7 , type = double\n",
      "column name = col8 , type = string\n",
      "column name = col9 , type = string\n",
      "column name = col10 , type = string\n",
      "column name = col11 , type = string\n",
      "column name = col12 , type = string\n",
      "column name = col13 , type = string\n",
      "column name = col14 , type = string\n",
      "column name = col15 , type = string\n",
      "column name = col16 , type = string\n",
      "column name = col17 , type = string\n",
      "column name = col18 , type = string\n",
      "column name = col19 , type = string\n",
      "[haoyu.debug.Parser] writing binary filegeneral/classic_r1000000_c20/gen_data/binary/1_col0.bitmap\n",
      "Writing binary file : general/classic_r1000000_c20/gen_data/binary/1_col0.bitmap\n",
      "[haoyu.debug.writeBinary] v.size 1000000 sizeof(T) 1 length=1000000\n",
      "Writing binary file : general/classic_r1000000_c20/gen_data/binary/1_col0.integer\n",
      "[haoyu.debug.writeBinary] v.size 1000000 sizeof(T) 4 length=4000000\n",
      "[haoyu.debug.Parser] writing binary filegeneral/classic_r1000000_c20/gen_data/binary/2_col1.bitmap\n",
      "Writing binary file : general/classic_r1000000_c20/gen_data/binary/2_col1.bitmap\n",
      "[haoyu.debug.writeBinary] v.size 1000000 sizeof(T) 1 length=1000000\n",
      "Writing binary file : general/classic_r1000000_c20/gen_data/binary/2_col1.integer\n",
      "[haoyu.debug.writeBinary] v.size 1000000 sizeof(T) 4 length=4000000\n",
      "[haoyu.debug.Parser] writing binary filegeneral/classic_r1000000_c20/gen_data/binary/3_col2.bitmap\n",
      "Writing binary file : general/classic_r1000000_c20/gen_data/binary/3_col2.bitmap\n",
      "[haoyu.debug.writeBinary] v.size 1000000 sizeof(T) 1 length=1000000\n",
      "Writing binary file : general/classic_r1000000_c20/gen_data/binary/3_col2.integer\n",
      "[haoyu.debug.writeBinary] v.size 1000000 sizeof(T) 4 length=4000000\n",
      "[haoyu.debug.Parser] writing binary filegeneral/classic_r1000000_c20/gen_data/binary/4_col3.bitmap\n",
      "Writing binary file : general/classic_r1000000_c20/gen_data/binary/4_col3.bitmap\n",
      "[haoyu.debug.writeBinary] v.size 1000000 sizeof(T) 1 length=1000000\n",
      "Writing binary file : general/classic_r1000000_c20/gen_data/binary/4_col3.integer\n",
      "[haoyu.debug.writeBinary] v.size 1000000 sizeof(T) 4 length=4000000\n",
      "[haoyu.debug.Parser] writing binary filegeneral/classic_r1000000_c20/gen_data/binary/5_col4.bitmap\n",
      "Writing binary file : general/classic_r1000000_c20/gen_data/binary/5_col4.bitmap\n",
      "[haoyu.debug.writeBinary] v.size 1000000 sizeof(T) 1 length=1000000\n",
      "Writing binary file : general/classic_r1000000_c20/gen_data/binary/5_col4.integer\n",
      "[haoyu.debug.writeBinary] v.size 1000000 sizeof(T) 4 length=4000000\n",
      "[haoyu.debug.Parser] writing binary filegeneral/classic_r1000000_c20/gen_data/binary/6_col5.bitmap\n",
      "Writing binary file : general/classic_r1000000_c20/gen_data/binary/6_col5.bitmap\n",
      "[haoyu.debug.writeBinary] v.size 1000000 sizeof(T) 1 length=1000000\n",
      "Writing binary file : general/classic_r1000000_c20/gen_data/binary/6_col5.integer\n",
      "[haoyu.debug.writeBinary] v.size 1000000 sizeof(T) 4 length=4000000\n",
      "[haoyu.debug.Parser] writing binary filegeneral/classic_r1000000_c20/gen_data/binary/7_col6.bitmap\n",
      "Writing binary file : general/classic_r1000000_c20/gen_data/binary/7_col6.bitmap\n",
      "[haoyu.debug.writeBinary] v.size 1000000 sizeof(T) 1 length=1000000\n",
      "Writing binary file : general/classic_r1000000_c20/gen_data/binary/7_col6.integer\n",
      "[haoyu.debug.writeBinary] v.size 1000000 sizeof(T) 4 length=4000000\n",
      "[haoyu.debug.Parser] writing binary filegeneral/classic_r1000000_c20/gen_data/binary/8_col7.bitmap\n",
      "Writing binary file : general/classic_r1000000_c20/gen_data/binary/8_col7.bitmap\n",
      "[haoyu.debug.writeBinary] v.size 1000000 sizeof(T) 1 length=1000000\n",
      "Writing binary file : general/classic_r1000000_c20/gen_data/binary/8_col7.double\n",
      "[haoyu.debug.writeBinary] v.size 1000000 sizeof(T) 8 length=8000000\n",
      "[haoyu.debug.Parser] writing binary filegeneral/classic_r1000000_c20/gen_data/binary/9_col8.bitmap\n",
      "Writing binary file : general/classic_r1000000_c20/gen_data/binary/9_col8.bitmap\n",
      "[haoyu.debug.writeBinary] v.size 1000000 sizeof(T) 1 length=1000000\n",
      "[haoyu.debug.Parser] writing binary filegeneral/classic_r1000000_c20/gen_data/binary/10_col9.bitmap\n",
      "Writing binary file : general/classic_r1000000_c20/gen_data/binary/10_col9.bitmap\n",
      "[haoyu.debug.writeBinary] v.size 1000000 sizeof(T) 1 length=1000000\n",
      "[haoyu.debug.Parser] writing binary filegeneral/classic_r1000000_c20/gen_data/binary/11_col10.bitmap\n",
      "Writing binary file : general/classic_r1000000_c20/gen_data/binary/11_col10.bitmap\n",
      "[haoyu.debug.writeBinary] v.size 1000000 sizeof(T) 1 length=1000000\n",
      "[haoyu.debug.Parser] writing binary filegeneral/classic_r1000000_c20/gen_data/binary/12_col11.bitmap\n",
      "Writing binary file : general/classic_r1000000_c20/gen_data/binary/12_col11.bitmap\n",
      "[haoyu.debug.writeBinary] v.size 1000000 sizeof(T) 1 length=1000000\n",
      "[haoyu.debug.Parser] writing binary filegeneral/classic_r1000000_c20/gen_data/binary/13_col12.bitmap\n",
      "Writing binary file : general/classic_r1000000_c20/gen_data/binary/13_col12.bitmap\n",
      "[haoyu.debug.writeBinary] v.size 1000000 sizeof(T) 1 length=1000000\n",
      "[haoyu.debug.Parser] writing binary filegeneral/classic_r1000000_c20/gen_data/binary/14_col13.bitmap\n",
      "Writing binary file : general/classic_r1000000_c20/gen_data/binary/14_col13.bitmap\n",
      "[haoyu.debug.writeBinary] v.size 1000000 sizeof(T) 1 length=1000000\n",
      "[haoyu.debug.Parser] writing binary filegeneral/classic_r1000000_c20/gen_data/binary/15_col14.bitmap\n",
      "Writing binary file : general/classic_r1000000_c20/gen_data/binary/15_col14.bitmap\n",
      "[haoyu.debug.writeBinary] v.size 1000000 sizeof(T) 1 length=1000000\n",
      "[haoyu.debug.Parser] writing binary filegeneral/classic_r1000000_c20/gen_data/binary/16_col15.bitmap\n",
      "Writing binary file : general/classic_r1000000_c20/gen_data/binary/16_col15.bitmap\n",
      "[haoyu.debug.writeBinary] v.size 1000000 sizeof(T) 1 length=1000000\n",
      "[haoyu.debug.Parser] writing binary filegeneral/classic_r1000000_c20/gen_data/binary/17_col16.bitmap\n",
      "Writing binary file : general/classic_r1000000_c20/gen_data/binary/17_col16.bitmap\n",
      "[haoyu.debug.writeBinary] v.size 1000000 sizeof(T) 1 length=1000000\n",
      "[haoyu.debug.Parser] writing binary filegeneral/classic_r1000000_c20/gen_data/binary/18_col17.bitmap\n",
      "Writing binary file : general/classic_r1000000_c20/gen_data/binary/18_col17.bitmap\n",
      "[haoyu.debug.writeBinary] v.size 1000000 sizeof(T) 1 length=1000000\n",
      "[haoyu.debug.Parser] writing binary filegeneral/classic_r1000000_c20/gen_data/binary/19_col18.bitmap\n",
      "Writing binary file : general/classic_r1000000_c20/gen_data/binary/19_col18.bitmap\n",
      "[haoyu.debug.writeBinary] v.size 1000000 sizeof(T) 1 length=1000000\n",
      "[haoyu.debug.Parser] writing binary filegeneral/classic_r1000000_c20/gen_data/binary/20_col19.bitmap\n",
      "Writing binary file : general/classic_r1000000_c20/gen_data/binary/20_col19.bitmap\n",
      "[haoyu.debug.writeBinary] v.size 1000000 sizeof(T) 1 length=1000000\n",
      "[2024-03-06 03:44:33.727] [info] Creating btr files in general/classic_r1000000_c20/gen_data/btr/\n"
     ]
    },
    {
     "name": "stderr",
     "output_type": "stream",
     "text": [
      "mkdir: cannot create directory ‘general/log_r1000000_c20/gen_data/binary’: File exists\n",
      "mkdir: cannot create directory ‘general/log_r1000000_c20/gen_data/btr’: File exists\n"
     ]
    },
    {
     "name": "stdout",
     "output_type": "stream",
     "text": [
      "[2024-03-06 03:44:44.910] [info] Creating binary files in general/log_r1000000_c20/gen_data/binary/\n",
      "column name = col0 , type = integer\n",
      "column name = col1 , type = integer\n",
      "column name = col2 , type = integer\n",
      "column name = col3 , type = integer\n",
      "column name = col4 , type = integer\n",
      "column name = col5 , type = double\n",
      "column name = col6 , type = double\n",
      "column name = col7 , type = double\n",
      "column name = col8 , type = double\n",
      "column name = col9 , type = double\n",
      "column name = col10 , type = double\n",
      "column name = col11 , type = double\n",
      "column name = col12 , type = double\n",
      "column name = col13 , type = string\n",
      "column name = col14 , type = string\n",
      "column name = col15 , type = string\n",
      "column name = col16 , type = string\n",
      "column name = col17 , type = string\n",
      "column name = col18 , type = string\n",
      "column name = col19 , type = string\n",
      "[haoyu.debug.Parser] writing binary filegeneral/log_r1000000_c20/gen_data/binary/1_col0.bitmap\n",
      "Writing binary file : general/log_r1000000_c20/gen_data/binary/1_col0.bitmap\n",
      "[haoyu.debug.writeBinary] v.size 1000000 sizeof(T) 1 length=1000000\n",
      "Writing binary file : general/log_r1000000_c20/gen_data/binary/1_col0.integer\n",
      "[haoyu.debug.writeBinary] v.size 1000000 sizeof(T) 4 length=4000000\n",
      "[haoyu.debug.Parser] writing binary filegeneral/log_r1000000_c20/gen_data/binary/2_col1.bitmap\n",
      "Writing binary file : general/log_r1000000_c20/gen_data/binary/2_col1.bitmap\n",
      "[haoyu.debug.writeBinary] v.size 1000000 sizeof(T) 1 length=1000000\n",
      "Writing binary file : general/log_r1000000_c20/gen_data/binary/2_col1.integer\n",
      "[haoyu.debug.writeBinary] v.size 1000000 sizeof(T) 4 length=4000000\n",
      "[haoyu.debug.Parser] writing binary filegeneral/log_r1000000_c20/gen_data/binary/3_col2.bitmap\n",
      "Writing binary file : general/log_r1000000_c20/gen_data/binary/3_col2.bitmap\n",
      "[haoyu.debug.writeBinary] v.size 1000000 sizeof(T) 1 length=1000000\n",
      "Writing binary file : general/log_r1000000_c20/gen_data/binary/3_col2.integer\n",
      "[haoyu.debug.writeBinary] v.size 1000000 sizeof(T) 4 length=4000000\n",
      "[haoyu.debug.Parser] writing binary filegeneral/log_r1000000_c20/gen_data/binary/4_col3.bitmap\n",
      "Writing binary file : general/log_r1000000_c20/gen_data/binary/4_col3.bitmap\n",
      "[haoyu.debug.writeBinary] v.size 1000000 sizeof(T) 1 length=1000000\n",
      "Writing binary file : general/log_r1000000_c20/gen_data/binary/4_col3.integer\n",
      "[haoyu.debug.writeBinary] v.size 1000000 sizeof(T) 4 length=4000000\n",
      "[haoyu.debug.Parser] writing binary filegeneral/log_r1000000_c20/gen_data/binary/5_col4.bitmap\n",
      "Writing binary file : general/log_r1000000_c20/gen_data/binary/5_col4.bitmap\n",
      "[haoyu.debug.writeBinary] v.size 1000000 sizeof(T) 1 length=1000000\n",
      "Writing binary file : general/log_r1000000_c20/gen_data/binary/5_col4.integer\n",
      "[haoyu.debug.writeBinary] v.size 1000000 sizeof(T) 4 length=4000000\n",
      "[haoyu.debug.Parser] writing binary filegeneral/log_r1000000_c20/gen_data/binary/6_col5.bitmap\n",
      "Writing binary file : general/log_r1000000_c20/gen_data/binary/6_col5.bitmap\n",
      "[haoyu.debug.writeBinary] v.size 1000000 sizeof(T) 1 length=1000000\n",
      "Writing binary file : general/log_r1000000_c20/gen_data/binary/6_col5.double\n",
      "[haoyu.debug.writeBinary] v.size 1000000 sizeof(T) 8 length=8000000\n",
      "[haoyu.debug.Parser] writing binary filegeneral/log_r1000000_c20/gen_data/binary/7_col6.bitmap\n",
      "Writing binary file : general/log_r1000000_c20/gen_data/binary/7_col6.bitmap\n",
      "[haoyu.debug.writeBinary] v.size 1000000 sizeof(T) 1 length=1000000\n",
      "Writing binary file : general/log_r1000000_c20/gen_data/binary/7_col6.double\n",
      "[haoyu.debug.writeBinary] v.size 1000000 sizeof(T) 8 length=8000000\n",
      "[haoyu.debug.Parser] writing binary filegeneral/log_r1000000_c20/gen_data/binary/8_col7.bitmap\n",
      "Writing binary file : general/log_r1000000_c20/gen_data/binary/8_col7.bitmap\n",
      "[haoyu.debug.writeBinary] v.size 1000000 sizeof(T) 1 length=1000000\n",
      "Writing binary file : general/log_r1000000_c20/gen_data/binary/8_col7.double\n",
      "[haoyu.debug.writeBinary] v.size 1000000 sizeof(T) 8 length=8000000\n",
      "[haoyu.debug.Parser] writing binary filegeneral/log_r1000000_c20/gen_data/binary/9_col8.bitmap\n",
      "Writing binary file : general/log_r1000000_c20/gen_data/binary/9_col8.bitmap\n",
      "[haoyu.debug.writeBinary] v.size 1000000 sizeof(T) 1 length=1000000\n",
      "Writing binary file : general/log_r1000000_c20/gen_data/binary/9_col8.double\n",
      "[haoyu.debug.writeBinary] v.size 1000000 sizeof(T) 8 length=8000000\n",
      "[haoyu.debug.Parser] writing binary filegeneral/log_r1000000_c20/gen_data/binary/10_col9.bitmap\n",
      "Writing binary file : general/log_r1000000_c20/gen_data/binary/10_col9.bitmap\n",
      "[haoyu.debug.writeBinary] v.size 1000000 sizeof(T) 1 length=1000000\n",
      "Writing binary file : general/log_r1000000_c20/gen_data/binary/10_col9.double\n",
      "[haoyu.debug.writeBinary] v.size 1000000 sizeof(T) 8 length=8000000\n",
      "[haoyu.debug.Parser] writing binary filegeneral/log_r1000000_c20/gen_data/binary/11_col10.bitmap\n",
      "Writing binary file : general/log_r1000000_c20/gen_data/binary/11_col10.bitmap\n",
      "[haoyu.debug.writeBinary] v.size 1000000 sizeof(T) 1 length=1000000\n",
      "Writing binary file : general/log_r1000000_c20/gen_data/binary/11_col10.double\n",
      "[haoyu.debug.writeBinary] v.size 1000000 sizeof(T) 8 length=8000000\n",
      "[haoyu.debug.Parser] writing binary filegeneral/log_r1000000_c20/gen_data/binary/12_col11.bitmap\n",
      "Writing binary file : general/log_r1000000_c20/gen_data/binary/12_col11.bitmap\n",
      "[haoyu.debug.writeBinary] v.size 1000000 sizeof(T) 1 length=1000000\n",
      "Writing binary file : general/log_r1000000_c20/gen_data/binary/12_col11.double\n",
      "[haoyu.debug.writeBinary] v.size 1000000 sizeof(T) 8 length=8000000\n",
      "[haoyu.debug.Parser] writing binary filegeneral/log_r1000000_c20/gen_data/binary/13_col12.bitmap\n",
      "Writing binary file : general/log_r1000000_c20/gen_data/binary/13_col12.bitmap\n",
      "[haoyu.debug.writeBinary] v.size 1000000 sizeof(T) 1 length=1000000\n",
      "Writing binary file : general/log_r1000000_c20/gen_data/binary/13_col12.double\n",
      "[haoyu.debug.writeBinary] v.size 1000000 sizeof(T) 8 length=8000000\n",
      "[haoyu.debug.Parser] writing binary filegeneral/log_r1000000_c20/gen_data/binary/14_col13.bitmap\n",
      "Writing binary file : general/log_r1000000_c20/gen_data/binary/14_col13.bitmap\n",
      "[haoyu.debug.writeBinary] v.size 1000000 sizeof(T) 1 length=1000000\n",
      "[haoyu.debug.Parser] writing binary filegeneral/log_r1000000_c20/gen_data/binary/15_col14.bitmap\n",
      "Writing binary file : general/log_r1000000_c20/gen_data/binary/15_col14.bitmap\n",
      "[haoyu.debug.writeBinary] v.size 1000000 sizeof(T) 1 length=1000000\n",
      "[haoyu.debug.Parser] writing binary filegeneral/log_r1000000_c20/gen_data/binary/16_col15.bitmap\n",
      "Writing binary file : general/log_r1000000_c20/gen_data/binary/16_col15.bitmap\n",
      "[haoyu.debug.writeBinary] v.size 1000000 sizeof(T) 1 length=1000000\n",
      "[haoyu.debug.Parser] writing binary filegeneral/log_r1000000_c20/gen_data/binary/17_col16.bitmap\n",
      "Writing binary file : general/log_r1000000_c20/gen_data/binary/17_col16.bitmap\n",
      "[haoyu.debug.writeBinary] v.size 1000000 sizeof(T) 1 length=1000000\n",
      "[haoyu.debug.Parser] writing binary filegeneral/log_r1000000_c20/gen_data/binary/18_col17.bitmap\n",
      "Writing binary file : general/log_r1000000_c20/gen_data/binary/18_col17.bitmap\n",
      "[haoyu.debug.writeBinary] v.size 1000000 sizeof(T) 1 length=1000000\n",
      "[haoyu.debug.Parser] writing binary filegeneral/log_r1000000_c20/gen_data/binary/19_col18.bitmap\n",
      "Writing binary file : general/log_r1000000_c20/gen_data/binary/19_col18.bitmap\n",
      "[haoyu.debug.writeBinary] v.size 1000000 sizeof(T) 1 length=1000000\n",
      "[haoyu.debug.Parser] writing binary filegeneral/log_r1000000_c20/gen_data/binary/20_col19.bitmap\n",
      "Writing binary file : general/log_r1000000_c20/gen_data/binary/20_col19.bitmap\n",
      "[haoyu.debug.writeBinary] v.size 1000000 sizeof(T) 1 length=1000000\n",
      "[2024-03-06 03:44:58.542] [info] Creating btr files in general/log_r1000000_c20/gen_data/btr/\n"
     ]
    },
    {
     "name": "stderr",
     "output_type": "stream",
     "text": [
      "mkdir: cannot create directory ‘general/ml_r1000000_c20/gen_data/binary’: File exists\n",
      "mkdir: cannot create directory ‘general/ml_r1000000_c20/gen_data/btr’: File exists\n"
     ]
    },
    {
     "name": "stdout",
     "output_type": "stream",
     "text": [
      "[2024-03-06 03:45:04.536] [info] Creating binary files in general/ml_r1000000_c20/gen_data/binary/\n",
      "column name = col0 , type = integer\n",
      "column name = col1 , type = integer\n",
      "column name = col2 , type = integer\n",
      "column name = col3 , type = integer\n",
      "column name = col4 , type = integer\n",
      "column name = col5 , type = double\n",
      "column name = col6 , type = double\n",
      "column name = col7 , type = double\n",
      "column name = col8 , type = double\n",
      "column name = col9 , type = double\n",
      "column name = col10 , type = double\n",
      "column name = col11 , type = double\n",
      "column name = col12 , type = double\n",
      "column name = col13 , type = double\n",
      "column name = col14 , type = string\n",
      "column name = col15 , type = string\n",
      "column name = col16 , type = string\n",
      "column name = col17 , type = string\n",
      "column name = col18 , type = string\n",
      "column name = col19 , type = string\n",
      "[haoyu.debug.Parser] writing binary filegeneral/ml_r1000000_c20/gen_data/binary/1_col0.bitmap\n",
      "Writing binary file : general/ml_r1000000_c20/gen_data/binary/1_col0.bitmap\n",
      "[haoyu.debug.writeBinary] v.size 1000000 sizeof(T) 1 length=1000000\n",
      "Writing binary file : general/ml_r1000000_c20/gen_data/binary/1_col0.integer\n",
      "[haoyu.debug.writeBinary] v.size 1000000 sizeof(T) 4 length=4000000\n",
      "[haoyu.debug.Parser] writing binary filegeneral/ml_r1000000_c20/gen_data/binary/2_col1.bitmap\n",
      "Writing binary file : general/ml_r1000000_c20/gen_data/binary/2_col1.bitmap\n",
      "[haoyu.debug.writeBinary] v.size 1000000 sizeof(T) 1 length=1000000\n",
      "Writing binary file : general/ml_r1000000_c20/gen_data/binary/2_col1.integer\n",
      "[haoyu.debug.writeBinary] v.size 1000000 sizeof(T) 4 length=4000000\n",
      "[haoyu.debug.Parser] writing binary filegeneral/ml_r1000000_c20/gen_data/binary/3_col2.bitmap\n",
      "Writing binary file : general/ml_r1000000_c20/gen_data/binary/3_col2.bitmap\n",
      "[haoyu.debug.writeBinary] v.size 1000000 sizeof(T) 1 length=1000000\n",
      "Writing binary file : general/ml_r1000000_c20/gen_data/binary/3_col2.integer\n",
      "[haoyu.debug.writeBinary] v.size 1000000 sizeof(T) 4 length=4000000\n",
      "[haoyu.debug.Parser] writing binary filegeneral/ml_r1000000_c20/gen_data/binary/4_col3.bitmap\n",
      "Writing binary file : general/ml_r1000000_c20/gen_data/binary/4_col3.bitmap\n",
      "[haoyu.debug.writeBinary] v.size 1000000 sizeof(T) 1 length=1000000\n",
      "Writing binary file : general/ml_r1000000_c20/gen_data/binary/4_col3.integer\n",
      "[haoyu.debug.writeBinary] v.size 1000000 sizeof(T) 4 length=4000000\n",
      "[haoyu.debug.Parser] writing binary filegeneral/ml_r1000000_c20/gen_data/binary/5_col4.bitmap\n",
      "Writing binary file : general/ml_r1000000_c20/gen_data/binary/5_col4.bitmap\n",
      "[haoyu.debug.writeBinary] v.size 1000000 sizeof(T) 1 length=1000000\n",
      "Writing binary file : general/ml_r1000000_c20/gen_data/binary/5_col4.integer\n",
      "[haoyu.debug.writeBinary] v.size 1000000 sizeof(T) 4 length=4000000\n",
      "[haoyu.debug.Parser] writing binary filegeneral/ml_r1000000_c20/gen_data/binary/6_col5.bitmap\n",
      "Writing binary file : general/ml_r1000000_c20/gen_data/binary/6_col5.bitmap\n",
      "[haoyu.debug.writeBinary] v.size 1000000 sizeof(T) 1 length=1000000\n",
      "Writing binary file : general/ml_r1000000_c20/gen_data/binary/6_col5.double\n",
      "[haoyu.debug.writeBinary] v.size 1000000 sizeof(T) 8 length=8000000\n",
      "[haoyu.debug.Parser] writing binary filegeneral/ml_r1000000_c20/gen_data/binary/7_col6.bitmap\n",
      "Writing binary file : general/ml_r1000000_c20/gen_data/binary/7_col6.bitmap\n",
      "[haoyu.debug.writeBinary] v.size 1000000 sizeof(T) 1 length=1000000\n",
      "Writing binary file : general/ml_r1000000_c20/gen_data/binary/7_col6.double\n",
      "[haoyu.debug.writeBinary] v.size 1000000 sizeof(T) 8 length=8000000\n",
      "[haoyu.debug.Parser] writing binary filegeneral/ml_r1000000_c20/gen_data/binary/8_col7.bitmap\n",
      "Writing binary file : general/ml_r1000000_c20/gen_data/binary/8_col7.bitmap\n",
      "[haoyu.debug.writeBinary] v.size 1000000 sizeof(T) 1 length=1000000\n",
      "Writing binary file : general/ml_r1000000_c20/gen_data/binary/8_col7.double\n",
      "[haoyu.debug.writeBinary] v.size 1000000 sizeof(T) 8 length=8000000\n",
      "[haoyu.debug.Parser] writing binary filegeneral/ml_r1000000_c20/gen_data/binary/9_col8.bitmap\n",
      "Writing binary file : general/ml_r1000000_c20/gen_data/binary/9_col8.bitmap\n",
      "[haoyu.debug.writeBinary] v.size 1000000 sizeof(T) 1 length=1000000\n",
      "Writing binary file : general/ml_r1000000_c20/gen_data/binary/9_col8.double\n",
      "[haoyu.debug.writeBinary] v.size 1000000 sizeof(T) 8 length=8000000\n",
      "[haoyu.debug.Parser] writing binary filegeneral/ml_r1000000_c20/gen_data/binary/10_col9.bitmap\n",
      "Writing binary file : general/ml_r1000000_c20/gen_data/binary/10_col9.bitmap\n",
      "[haoyu.debug.writeBinary] v.size 1000000 sizeof(T) 1 length=1000000\n",
      "Writing binary file : general/ml_r1000000_c20/gen_data/binary/10_col9.double\n",
      "[haoyu.debug.writeBinary] v.size 1000000 sizeof(T) 8 length=8000000\n",
      "[haoyu.debug.Parser] writing binary filegeneral/ml_r1000000_c20/gen_data/binary/11_col10.bitmap\n",
      "Writing binary file : general/ml_r1000000_c20/gen_data/binary/11_col10.bitmap\n",
      "[haoyu.debug.writeBinary] v.size 1000000 sizeof(T) 1 length=1000000\n",
      "Writing binary file : general/ml_r1000000_c20/gen_data/binary/11_col10.double\n",
      "[haoyu.debug.writeBinary] v.size 1000000 sizeof(T) 8 length=8000000\n",
      "[haoyu.debug.Parser] writing binary filegeneral/ml_r1000000_c20/gen_data/binary/12_col11.bitmap\n",
      "Writing binary file : general/ml_r1000000_c20/gen_data/binary/12_col11.bitmap\n",
      "[haoyu.debug.writeBinary] v.size 1000000 sizeof(T) 1 length=1000000\n",
      "Writing binary file : general/ml_r1000000_c20/gen_data/binary/12_col11.double\n",
      "[haoyu.debug.writeBinary] v.size 1000000 sizeof(T) 8 length=8000000\n",
      "[haoyu.debug.Parser] writing binary filegeneral/ml_r1000000_c20/gen_data/binary/13_col12.bitmap\n",
      "Writing binary file : general/ml_r1000000_c20/gen_data/binary/13_col12.bitmap\n",
      "[haoyu.debug.writeBinary] v.size 1000000 sizeof(T) 1 length=1000000\n",
      "Writing binary file : general/ml_r1000000_c20/gen_data/binary/13_col12.double\n",
      "[haoyu.debug.writeBinary] v.size 1000000 sizeof(T) 8 length=8000000\n",
      "[haoyu.debug.Parser] writing binary filegeneral/ml_r1000000_c20/gen_data/binary/14_col13.bitmap\n",
      "Writing binary file : general/ml_r1000000_c20/gen_data/binary/14_col13.bitmap\n",
      "[haoyu.debug.writeBinary] v.size 1000000 sizeof(T) 1 length=1000000\n",
      "Writing binary file : general/ml_r1000000_c20/gen_data/binary/14_col13.double\n",
      "[haoyu.debug.writeBinary] v.size 1000000 sizeof(T) 8 length=8000000\n",
      "[haoyu.debug.Parser] writing binary filegeneral/ml_r1000000_c20/gen_data/binary/15_col14.bitmap\n",
      "Writing binary file : general/ml_r1000000_c20/gen_data/binary/15_col14.bitmap\n",
      "[haoyu.debug.writeBinary] v.size 1000000 sizeof(T) 1 length=1000000\n",
      "[haoyu.debug.Parser] writing binary filegeneral/ml_r1000000_c20/gen_data/binary/16_col15.bitmap\n",
      "Writing binary file : general/ml_r1000000_c20/gen_data/binary/16_col15.bitmap\n",
      "[haoyu.debug.writeBinary] v.size 1000000 sizeof(T) 1 length=1000000\n",
      "[haoyu.debug.Parser] writing binary filegeneral/ml_r1000000_c20/gen_data/binary/17_col16.bitmap\n",
      "Writing binary file : general/ml_r1000000_c20/gen_data/binary/17_col16.bitmap\n",
      "[haoyu.debug.writeBinary] v.size 1000000 sizeof(T) 1 length=1000000\n",
      "[haoyu.debug.Parser] writing binary filegeneral/ml_r1000000_c20/gen_data/binary/18_col17.bitmap\n",
      "Writing binary file : general/ml_r1000000_c20/gen_data/binary/18_col17.bitmap\n",
      "[haoyu.debug.writeBinary] v.size 1000000 sizeof(T) 1 length=1000000\n",
      "[haoyu.debug.Parser] writing binary filegeneral/ml_r1000000_c20/gen_data/binary/19_col18.bitmap\n",
      "Writing binary file : general/ml_r1000000_c20/gen_data/binary/19_col18.bitmap\n",
      "[haoyu.debug.writeBinary] v.size 1000000 sizeof(T) 1 length=1000000\n",
      "[haoyu.debug.Parser] writing binary filegeneral/ml_r1000000_c20/gen_data/binary/20_col19.bitmap\n",
      "Writing binary file : general/ml_r1000000_c20/gen_data/binary/20_col19.bitmap\n",
      "[haoyu.debug.writeBinary] v.size 1000000 sizeof(T) 1 length=1000000\n",
      "[2024-03-06 03:45:17.683] [info] Creating btr files in general/ml_r1000000_c20/gen_data/btr/\n"
     ]
    },
    {
     "name": "stderr",
     "output_type": "stream",
     "text": [
      "mkdir: cannot create directory ‘general/bi_r1000000_c20/gen_data/binary’: File exists\n",
      "mkdir: cannot create directory ‘general/bi_r1000000_c20/gen_data/btr’: File exists\n"
     ]
    },
    {
     "name": "stdout",
     "output_type": "stream",
     "text": [
      "[2024-03-06 03:45:25.777] [info] Creating binary files in general/bi_r1000000_c20/gen_data/binary/\n",
      "column name = col0 , type = integer\n",
      "column name = col1 , type = integer\n",
      "column name = col2 , type = integer\n",
      "column name = col3 , type = integer\n",
      "column name = col4 , type = integer\n",
      "column name = col5 , type = integer\n",
      "column name = col6 , type = integer\n",
      "column name = col7 , type = integer\n",
      "column name = col8 , type = integer\n",
      "column name = col9 , type = integer\n",
      "column name = col10 , type = double\n",
      "column name = col11 , type = double\n",
      "column name = col12 , type = double\n",
      "column name = col13 , type = double\n",
      "column name = col14 , type = string\n",
      "column name = col15 , type = string\n",
      "column name = col16 , type = string\n",
      "column name = col17 , type = string\n",
      "column name = col18 , type = string\n",
      "column name = col19 , type = string\n",
      "[haoyu.debug.Parser] writing binary filegeneral/bi_r1000000_c20/gen_data/binary/1_col0.bitmap\n",
      "Writing binary file : general/bi_r1000000_c20/gen_data/binary/1_col0.bitmap\n",
      "[haoyu.debug.writeBinary] v.size 1000000 sizeof(T) 1 length=1000000\n",
      "Writing binary file : general/bi_r1000000_c20/gen_data/binary/1_col0.integer\n",
      "[haoyu.debug.writeBinary] v.size 1000000 sizeof(T) 4 length=4000000\n",
      "[haoyu.debug.Parser] writing binary filegeneral/bi_r1000000_c20/gen_data/binary/2_col1.bitmap\n",
      "Writing binary file : general/bi_r1000000_c20/gen_data/binary/2_col1.bitmap\n",
      "[haoyu.debug.writeBinary] v.size 1000000 sizeof(T) 1 length=1000000\n",
      "Writing binary file : general/bi_r1000000_c20/gen_data/binary/2_col1.integer\n",
      "[haoyu.debug.writeBinary] v.size 1000000 sizeof(T) 4 length=4000000\n",
      "[haoyu.debug.Parser] writing binary filegeneral/bi_r1000000_c20/gen_data/binary/3_col2.bitmap\n",
      "Writing binary file : general/bi_r1000000_c20/gen_data/binary/3_col2.bitmap\n",
      "[haoyu.debug.writeBinary] v.size 1000000 sizeof(T) 1 length=1000000\n",
      "Writing binary file : general/bi_r1000000_c20/gen_data/binary/3_col2.integer\n",
      "[haoyu.debug.writeBinary] v.size 1000000 sizeof(T) 4 length=4000000\n",
      "[haoyu.debug.Parser] writing binary filegeneral/bi_r1000000_c20/gen_data/binary/4_col3.bitmap\n",
      "Writing binary file : general/bi_r1000000_c20/gen_data/binary/4_col3.bitmap\n",
      "[haoyu.debug.writeBinary] v.size 1000000 sizeof(T) 1 length=1000000\n",
      "Writing binary file : general/bi_r1000000_c20/gen_data/binary/4_col3.integer\n",
      "[haoyu.debug.writeBinary] v.size 1000000 sizeof(T) 4 length=4000000\n",
      "[haoyu.debug.Parser] writing binary filegeneral/bi_r1000000_c20/gen_data/binary/5_col4.bitmap\n",
      "Writing binary file : general/bi_r1000000_c20/gen_data/binary/5_col4.bitmap\n",
      "[haoyu.debug.writeBinary] v.size 1000000 sizeof(T) 1 length=1000000\n",
      "Writing binary file : general/bi_r1000000_c20/gen_data/binary/5_col4.integer\n",
      "[haoyu.debug.writeBinary] v.size 1000000 sizeof(T) 4 length=4000000\n",
      "[haoyu.debug.Parser] writing binary filegeneral/bi_r1000000_c20/gen_data/binary/6_col5.bitmap\n",
      "Writing binary file : general/bi_r1000000_c20/gen_data/binary/6_col5.bitmap\n",
      "[haoyu.debug.writeBinary] v.size 1000000 sizeof(T) 1 length=1000000\n",
      "Writing binary file : general/bi_r1000000_c20/gen_data/binary/6_col5.integer\n",
      "[haoyu.debug.writeBinary] v.size 1000000 sizeof(T) 4 length=4000000\n",
      "[haoyu.debug.Parser] writing binary filegeneral/bi_r1000000_c20/gen_data/binary/7_col6.bitmap\n",
      "Writing binary file : general/bi_r1000000_c20/gen_data/binary/7_col6.bitmap\n",
      "[haoyu.debug.writeBinary] v.size 1000000 sizeof(T) 1 length=1000000\n",
      "Writing binary file : general/bi_r1000000_c20/gen_data/binary/7_col6.integer\n",
      "[haoyu.debug.writeBinary] v.size 1000000 sizeof(T) 4 length=4000000\n",
      "[haoyu.debug.Parser] writing binary filegeneral/bi_r1000000_c20/gen_data/binary/8_col7.bitmap\n",
      "Writing binary file : general/bi_r1000000_c20/gen_data/binary/8_col7.bitmap\n",
      "[haoyu.debug.writeBinary] v.size 1000000 sizeof(T) 1 length=1000000\n",
      "Writing binary file : general/bi_r1000000_c20/gen_data/binary/8_col7.integer\n",
      "[haoyu.debug.writeBinary] v.size 1000000 sizeof(T) 4 length=4000000\n",
      "[haoyu.debug.Parser] writing binary filegeneral/bi_r1000000_c20/gen_data/binary/9_col8.bitmap\n",
      "Writing binary file : general/bi_r1000000_c20/gen_data/binary/9_col8.bitmap\n",
      "[haoyu.debug.writeBinary] v.size 1000000 sizeof(T) 1 length=1000000\n",
      "Writing binary file : general/bi_r1000000_c20/gen_data/binary/9_col8.integer\n",
      "[haoyu.debug.writeBinary] v.size 1000000 sizeof(T) 4 length=4000000\n",
      "[haoyu.debug.Parser] writing binary filegeneral/bi_r1000000_c20/gen_data/binary/10_col9.bitmap\n",
      "Writing binary file : general/bi_r1000000_c20/gen_data/binary/10_col9.bitmap\n",
      "[haoyu.debug.writeBinary] v.size 1000000 sizeof(T) 1 length=1000000\n",
      "Writing binary file : general/bi_r1000000_c20/gen_data/binary/10_col9.integer\n",
      "[haoyu.debug.writeBinary] v.size 1000000 sizeof(T) 4 length=4000000\n",
      "[haoyu.debug.Parser] writing binary filegeneral/bi_r1000000_c20/gen_data/binary/11_col10.bitmap\n",
      "Writing binary file : general/bi_r1000000_c20/gen_data/binary/11_col10.bitmap\n",
      "[haoyu.debug.writeBinary] v.size 1000000 sizeof(T) 1 length=1000000\n",
      "Writing binary file : general/bi_r1000000_c20/gen_data/binary/11_col10.double\n",
      "[haoyu.debug.writeBinary] v.size 1000000 sizeof(T) 8 length=8000000\n",
      "[haoyu.debug.Parser] writing binary filegeneral/bi_r1000000_c20/gen_data/binary/12_col11.bitmap\n",
      "Writing binary file : general/bi_r1000000_c20/gen_data/binary/12_col11.bitmap\n",
      "[haoyu.debug.writeBinary] v.size 1000000 sizeof(T) 1 length=1000000\n",
      "Writing binary file : general/bi_r1000000_c20/gen_data/binary/12_col11.double\n",
      "[haoyu.debug.writeBinary] v.size 1000000 sizeof(T) 8 length=8000000\n",
      "[haoyu.debug.Parser] writing binary filegeneral/bi_r1000000_c20/gen_data/binary/13_col12.bitmap\n",
      "Writing binary file : general/bi_r1000000_c20/gen_data/binary/13_col12.bitmap\n",
      "[haoyu.debug.writeBinary] v.size 1000000 sizeof(T) 1 length=1000000\n",
      "Writing binary file : general/bi_r1000000_c20/gen_data/binary/13_col12.double\n",
      "[haoyu.debug.writeBinary] v.size 1000000 sizeof(T) 8 length=8000000\n",
      "[haoyu.debug.Parser] writing binary filegeneral/bi_r1000000_c20/gen_data/binary/14_col13.bitmap\n",
      "Writing binary file : general/bi_r1000000_c20/gen_data/binary/14_col13.bitmap\n",
      "[haoyu.debug.writeBinary] v.size 1000000 sizeof(T) 1 length=1000000\n",
      "Writing binary file : general/bi_r1000000_c20/gen_data/binary/14_col13.double\n",
      "[haoyu.debug.writeBinary] v.size 1000000 sizeof(T) 8 length=8000000\n",
      "[haoyu.debug.Parser] writing binary filegeneral/bi_r1000000_c20/gen_data/binary/15_col14.bitmap\n",
      "Writing binary file : general/bi_r1000000_c20/gen_data/binary/15_col14.bitmap\n",
      "[haoyu.debug.writeBinary] v.size 1000000 sizeof(T) 1 length=1000000\n",
      "[haoyu.debug.Parser] writing binary filegeneral/bi_r1000000_c20/gen_data/binary/16_col15.bitmap\n",
      "Writing binary file : general/bi_r1000000_c20/gen_data/binary/16_col15.bitmap\n",
      "[haoyu.debug.writeBinary] v.size 1000000 sizeof(T) 1 length=1000000\n",
      "[haoyu.debug.Parser] writing binary filegeneral/bi_r1000000_c20/gen_data/binary/17_col16.bitmap\n",
      "Writing binary file : general/bi_r1000000_c20/gen_data/binary/17_col16.bitmap\n",
      "[haoyu.debug.writeBinary] v.size 1000000 sizeof(T) 1 length=1000000\n",
      "[haoyu.debug.Parser] writing binary filegeneral/bi_r1000000_c20/gen_data/binary/18_col17.bitmap\n",
      "Writing binary file : general/bi_r1000000_c20/gen_data/binary/18_col17.bitmap\n",
      "[haoyu.debug.writeBinary] v.size 1000000 sizeof(T) 1 length=1000000\n",
      "[haoyu.debug.Parser] writing binary filegeneral/bi_r1000000_c20/gen_data/binary/19_col18.bitmap\n",
      "Writing binary file : general/bi_r1000000_c20/gen_data/binary/19_col18.bitmap\n",
      "[haoyu.debug.writeBinary] v.size 1000000 sizeof(T) 1 length=1000000\n",
      "[haoyu.debug.Parser] writing binary filegeneral/bi_r1000000_c20/gen_data/binary/20_col19.bitmap\n",
      "Writing binary file : general/bi_r1000000_c20/gen_data/binary/20_col19.bitmap\n",
      "[haoyu.debug.writeBinary] v.size 1000000 sizeof(T) 1 length=1000000\n",
      "[2024-03-06 03:45:36.271] [info] Creating btr files in general/bi_r1000000_c20/gen_data/btr/\n"
     ]
    },
    {
     "name": "stderr",
     "output_type": "stream",
     "text": [
      "!!! compressed is larger than raw: \n",
      "for : values - scheme = DICT difference = 13. Falling back to uncompressed.\n",
      "!!! compressed is larger than raw: \n",
      "for : ? - scheme = PSEUDODECIMAL difference = 1000. Falling back to uncompressed.\n",
      "!!! compressed is larger than raw: \n",
      "for : ? - scheme = PSEUDODECIMAL difference = 1000. Falling back to uncompressed.\n",
      "!!! compressed is larger than raw: \n",
      "for : ? - scheme = PSEUDODECIMAL difference = 1000. Falling back to uncompressed.\n"
     ]
    }
   ],
   "source": [
    "# generating files for btrblocks\n",
    "os.chdir(f'{PROJ_SRC_DIR}/python')\n",
    "for wl in workload_list:\n",
    "    base_name = f'{wl}_r{num_rows}_c{num_cols}'\n",
    "    os.system(f'mkdir general/{base_name}/gen_data/binary')\n",
    "    os.system(f'mkdir general/{base_name}/gen_data/btr')\n",
    "    \n",
    "    os.system(f'~/btrblocks/build/csvtobtr -create_binary -binary general/{base_name}/gen_data/binary/ -csv general/{base_name}/gen_data/{base_name}.csv -yaml general/{base_name}/gen_data/{base_name}_btrblocks_schema.yaml')\n",
    "    os.system(f'~/btrblocks/build/csvtobtr -create_btr -btr general/{base_name}/gen_data/btr/ -binary general/{base_name}/gen_data/binary/ -csv general/{base_name}/gen_data/{base_name}.csv -yaml general/{base_name}/gen_data/{base_name}_btrblocks_schema.yaml')\n",
    "os.chdir(f'{PROJ_SRC_DIR}/python/general')"
   ]
  },
  {
   "cell_type": "code",
   "execution_count": 4,
   "metadata": {},
   "outputs": [],
   "source": [
    "# read_metadata\n",
    "os.chdir(f'{PROJ_SRC_DIR}/python')\n",
    "name = 'btrmetas_chunk_threshold_16MB'\n",
    "os.system(f'mkdir general/{name}')\n",
    "for wl in workload_list:\n",
    "    base_name = f'{wl}_r{num_rows}_c{num_cols}'\n",
    "    os.system(f'~/btrblocks/build/btrmeta -btr general/{base_name}/gen_data/btr/ >> general/{name}/{base_name}_trace.txt')    "
   ]
  },
  {
   "cell_type": "code",
   "execution_count": 47,
   "metadata": {},
   "outputs": [
    {
     "name": "stderr",
     "output_type": "stream",
     "text": [
      "[sudo] password for haoyuq: [sudo] password for haoyuq: [sudo] password for haoyuq: Decompressing columns: 0 1 2 3 4 5 6 7 8 9 10 11 12 13 14 15 16 17 18 19 \n"
     ]
    },
    {
     "name": "stdout",
     "output_type": "stream",
     "text": [
      "Total: 34427799 Bytes 92571455 Bytes 50889 us 1734.82 MB/s\n",
      "34427799.0\n"
     ]
    },
    {
     "name": "stderr",
     "output_type": "stream",
     "text": [
      "[sudo] password for haoyuq: [sudo] password for haoyuq: [sudo] password for haoyuq: Decompressing columns: 0 1 2 3 4 5 6 7 8 9 10 11 12 13 14 15 16 17 18 19 \n"
     ]
    },
    {
     "name": "stdout",
     "output_type": "stream",
     "text": [
      "Total: 117554095 Bytes 169395006 Bytes 290881 us 555.374 MB/s\n",
      "117554095.0\n"
     ]
    },
    {
     "name": "stderr",
     "output_type": "stream",
     "text": [
      "[sudo] password for haoyuq: [sudo] password for haoyuq: [sudo] password for haoyuq: Decompressing columns: 0 1 2 3 4 5 6 7 8 9 10 11 12 13 14 15 16 17 18 19 \n"
     ]
    },
    {
     "name": "stdout",
     "output_type": "stream",
     "text": [
      "Total: 195169406 Bytes 246108359 Bytes 506034 us 463.817 MB/s\n",
      "195169406.0\n"
     ]
    },
    {
     "name": "stderr",
     "output_type": "stream",
     "text": [
      "[sudo] password for haoyuq: [sudo] password for haoyuq: [sudo] password for haoyuq: Decompressing columns: 0 1 2 3 4 5 6 7 8 9 10 11 12 13 14 15 16 17 18 19 \n",
      "[sudo] password for haoyuq: "
     ]
    },
    {
     "name": "stdout",
     "output_type": "stream",
     "text": [
      "Total: 26774157 Bytes 164382967 Bytes 50563 us 3100.45 MB/s\n",
      "26774157.0\n"
     ]
    },
    {
     "name": "stderr",
     "output_type": "stream",
     "text": [
      "[sudo] password for haoyuq: [sudo] password for haoyuq: Decompressing columns: 0 1 2 3 4 5 6 7 8 9 10 11 12 13 14 15 16 17 18 19 \n"
     ]
    },
    {
     "name": "stdout",
     "output_type": "stream",
     "text": [
      "Total: 80388811 Bytes 140062884 Bytes 162731 us 820.829 MB/s\n",
      "80388811.0\n"
     ]
    },
    {
     "name": "stderr",
     "output_type": "stream",
     "text": [
      "[sudo] password for haoyuq: [sudo] password for haoyuq: [sudo] password for haoyuq: Decompressing columns: 0 1 2 3 4 5 6 7 8 9 10 11 12 13 14 15 16 17 18 19 \n",
      "[sudo] password for haoyuq: "
     ]
    },
    {
     "name": "stdout",
     "output_type": "stream",
     "text": [
      "Total: 26421427 Bytes 111240710 Bytes 34140 us 3107.42 MB/s\n",
      "26421427.0\n"
     ]
    },
    {
     "name": "stderr",
     "output_type": "stream",
     "text": [
      "[sudo] password for haoyuq: [sudo] password for haoyuq: Decompressing columns: 0 1 2 3 4 5 6 7 8 9 10 11 12 13 14 15 16 17 18 19 \n"
     ]
    },
    {
     "name": "stdout",
     "output_type": "stream",
     "text": [
      "Total: 34427799 Bytes 92571455 Bytes 50936 us 1733.21 MB/s\n",
      "34427799.0\n"
     ]
    },
    {
     "name": "stderr",
     "output_type": "stream",
     "text": [
      "[sudo] password for haoyuq: [sudo] password for haoyuq: [sudo] password for haoyuq: Decompressing columns: 0 1 2 3 4 5 6 7 8 9 10 11 12 13 14 15 16 17 18 19 \n"
     ]
    },
    {
     "name": "stdout",
     "output_type": "stream",
     "text": [
      "Total: 117554095 Bytes 169395006 Bytes 290559 us 555.989 MB/s\n",
      "117554095.0\n"
     ]
    },
    {
     "name": "stderr",
     "output_type": "stream",
     "text": [
      "[sudo] password for haoyuq: [sudo] password for haoyuq: [sudo] password for haoyuq: Decompressing columns: 0 1 2 3 4 5 6 7 8 9 10 11 12 13 14 15 16 17 18 19 \n"
     ]
    },
    {
     "name": "stdout",
     "output_type": "stream",
     "text": [
      "Total: 195169406 Bytes 246108359 Bytes 506798 us 463.118 MB/s\n",
      "195169406.0\n"
     ]
    },
    {
     "name": "stderr",
     "output_type": "stream",
     "text": [
      "[sudo] password for haoyuq: [sudo] password for haoyuq: [sudo] password for haoyuq: Decompressing columns: 0 1 2 3 4 5 6 7 8 9 10 11 12 13 14 15 16 17 18 19 \n",
      "[sudo] password for haoyuq: "
     ]
    },
    {
     "name": "stdout",
     "output_type": "stream",
     "text": [
      "Total: 26774157 Bytes 164382967 Bytes 51056 us 3070.51 MB/s\n",
      "26774157.0\n"
     ]
    },
    {
     "name": "stderr",
     "output_type": "stream",
     "text": [
      "[sudo] password for haoyuq: [sudo] password for haoyuq: Decompressing columns: 0 1 2 3 4 5 6 7 8 9 10 11 12 13 14 15 16 17 18 19 \n"
     ]
    },
    {
     "name": "stdout",
     "output_type": "stream",
     "text": [
      "Total: 80388811 Bytes 140062884 Bytes 155464 us 859.198 MB/s\n",
      "80388811.0\n"
     ]
    },
    {
     "name": "stderr",
     "output_type": "stream",
     "text": [
      "[sudo] password for haoyuq: [sudo] password for haoyuq: [sudo] password for haoyuq: Decompressing columns: 0 1 2 3 4 5 6 7 8 9 10 11 12 13 14 15 16 17 18 19 \n",
      "[sudo] password for haoyuq: "
     ]
    },
    {
     "name": "stdout",
     "output_type": "stream",
     "text": [
      "Total: 26421427 Bytes 111240710 Bytes 33249 us 3190.69 MB/s\n",
      "26421427.0\n"
     ]
    },
    {
     "name": "stderr",
     "output_type": "stream",
     "text": [
      "[sudo] password for haoyuq: [sudo] password for haoyuq: Decompressing columns: 0 1 2 3 4 5 6 7 8 9 10 11 12 13 14 15 16 17 18 19 \n"
     ]
    },
    {
     "name": "stdout",
     "output_type": "stream",
     "text": [
      "Total: 34427799 Bytes 92571455 Bytes 55375 us 1594.28 MB/s\n",
      "34427799.0\n"
     ]
    },
    {
     "name": "stderr",
     "output_type": "stream",
     "text": [
      "[sudo] password for haoyuq: [sudo] password for haoyuq: [sudo] password for haoyuq: Decompressing columns: 0 1 2 3 4 5 6 7 8 9 10 11 12 13 14 15 16 17 18 19 \n"
     ]
    },
    {
     "name": "stdout",
     "output_type": "stream",
     "text": [
      "Total: 117554095 Bytes 169395006 Bytes 290818 us 555.494 MB/s\n",
      "117554095.0\n"
     ]
    },
    {
     "name": "stderr",
     "output_type": "stream",
     "text": [
      "[sudo] password for haoyuq: [sudo] password for haoyuq: [sudo] password for haoyuq: Decompressing columns: 0 1 2 3 4 5 6 7 8 9 10 11 12 13 14 15 16 17 18 19 \n"
     ]
    },
    {
     "name": "stdout",
     "output_type": "stream",
     "text": [
      "Total: 195169406 Bytes 246108359 Bytes 506057 us 463.796 MB/s\n",
      "195169406.0\n"
     ]
    },
    {
     "name": "stderr",
     "output_type": "stream",
     "text": [
      "[sudo] password for haoyuq: [sudo] password for haoyuq: [sudo] password for haoyuq: Decompressing columns: 0 1 2 3 4 5 6 7 8 9 10 11 12 13 14 15 16 17 18 19 \n",
      "[sudo] password for haoyuq: "
     ]
    },
    {
     "name": "stdout",
     "output_type": "stream",
     "text": [
      "Total: 26774157 Bytes 164382967 Bytes 56100 us 2794.44 MB/s\n",
      "26774157.0\n"
     ]
    },
    {
     "name": "stderr",
     "output_type": "stream",
     "text": [
      "[sudo] password for haoyuq: [sudo] password for haoyuq: Decompressing columns: 0 1 2 3 4 5 6 7 8 9 10 11 12 13 14 15 16 17 18 19 \n"
     ]
    },
    {
     "name": "stdout",
     "output_type": "stream",
     "text": [
      "Total: 80388811 Bytes 140062884 Bytes 155594 us 858.48 MB/s\n",
      "80388811.0\n"
     ]
    },
    {
     "name": "stderr",
     "output_type": "stream",
     "text": [
      "[sudo] password for haoyuq: [sudo] password for haoyuq: [sudo] password for haoyuq: Decompressing columns: 0 1 2 3 4 5 6 7 8 9 10 11 12 13 14 15 16 17 18 19 \n",
      "[sudo] password for haoyuq: "
     ]
    },
    {
     "name": "stdout",
     "output_type": "stream",
     "text": [
      "Total: 26421427 Bytes 111240710 Bytes 32874 us 3227.09 MB/s\n",
      "26421427.0\n"
     ]
    },
    {
     "name": "stderr",
     "output_type": "stream",
     "text": [
      "[sudo] password for haoyuq: [sudo] password for haoyuq: Decompressing columns: 0 1 2 3 4 5 6 7 8 9 10 11 12 13 14 15 16 17 18 19 \n",
      "[sudo] password for haoyuq: "
     ]
    },
    {
     "name": "stdout",
     "output_type": "stream",
     "text": [
      "Total: 34427799 Bytes 92571455 Bytes 50564 us 1745.97 MB/s\n",
      "34427799.0\n"
     ]
    },
    {
     "name": "stderr",
     "output_type": "stream",
     "text": [
      "[sudo] password for haoyuq: [sudo] password for haoyuq: Decompressing columns: 0 1 2 3 4 5 6 7 8 9 10 11 12 13 14 15 16 17 18 19 \n"
     ]
    },
    {
     "name": "stdout",
     "output_type": "stream",
     "text": [
      "Total: 117554095 Bytes 169395006 Bytes 290874 us 555.387 MB/s\n",
      "117554095.0\n"
     ]
    },
    {
     "name": "stderr",
     "output_type": "stream",
     "text": [
      "[sudo] password for haoyuq: [sudo] password for haoyuq: [sudo] password for haoyuq: Decompressing columns: 0 1 2 3 4 5 6 7 8 9 10 11 12 13 14 15 16 17 18 19 \n"
     ]
    },
    {
     "name": "stdout",
     "output_type": "stream",
     "text": [
      "Total: 195169406 Bytes 246108359 Bytes 506301 us 463.573 MB/s\n",
      "195169406.0\n"
     ]
    },
    {
     "name": "stderr",
     "output_type": "stream",
     "text": [
      "[sudo] password for haoyuq: [sudo] password for haoyuq: [sudo] password for haoyuq: Decompressing columns: 0 1 2 3 4 5 6 7 8 9 10 11 12 13 14 15 16 17 18 19 \n",
      "[sudo] password for haoyuq: "
     ]
    },
    {
     "name": "stdout",
     "output_type": "stream",
     "text": [
      "Total: 26774157 Bytes 164382967 Bytes 50791 us 3086.53 MB/s\n",
      "26774157.0\n"
     ]
    },
    {
     "name": "stderr",
     "output_type": "stream",
     "text": [
      "[sudo] password for haoyuq: [sudo] password for haoyuq: Decompressing columns: 0 1 2 3 4 5 6 7 8 9 10 11 12 13 14 15 16 17 18 19 \n"
     ]
    },
    {
     "name": "stdout",
     "output_type": "stream",
     "text": [
      "Total: 80388811 Bytes 140062884 Bytes 155432 us 859.375 MB/s\n",
      "80388811.0\n"
     ]
    },
    {
     "name": "stderr",
     "output_type": "stream",
     "text": [
      "[sudo] password for haoyuq: [sudo] password for haoyuq: [sudo] password for haoyuq: Decompressing columns: 0 1 2 3 4 5 6 7 8 9 10 11 12 13 14 15 16 17 18 19 \n",
      "[sudo] password for haoyuq: "
     ]
    },
    {
     "name": "stdout",
     "output_type": "stream",
     "text": [
      "Total: 26421427 Bytes 111240710 Bytes 36883 us 2876.32 MB/s\n",
      "26421427.0\n"
     ]
    },
    {
     "name": "stderr",
     "output_type": "stream",
     "text": [
      "[sudo] password for haoyuq: [sudo] password for haoyuq: Decompressing columns: 0 1 2 3 4 5 6 7 8 9 10 11 12 13 14 15 16 17 18 19 \n"
     ]
    },
    {
     "name": "stdout",
     "output_type": "stream",
     "text": [
      "Total: 34427799 Bytes 92571455 Bytes 50513 us 1747.73 MB/s\n",
      "34427799.0\n"
     ]
    },
    {
     "name": "stderr",
     "output_type": "stream",
     "text": [
      "[sudo] password for haoyuq: [sudo] password for haoyuq: [sudo] password for haoyuq: Decompressing columns: 0 1 2 3 4 5 6 7 8 9 10 11 12 13 14 15 16 17 18 19 \n"
     ]
    },
    {
     "name": "stdout",
     "output_type": "stream",
     "text": [
      "Total: 117554095 Bytes 169395006 Bytes 292673 us 551.973 MB/s\n",
      "117554095.0\n"
     ]
    },
    {
     "name": "stderr",
     "output_type": "stream",
     "text": [
      "[sudo] password for haoyuq: [sudo] password for haoyuq: [sudo] password for haoyuq: Decompressing columns: 0 1 2 3 4 5 6 7 8 9 10 11 12 13 14 15 16 17 18 19 \n"
     ]
    },
    {
     "name": "stdout",
     "output_type": "stream",
     "text": [
      "Total: 195169406 Bytes 246108359 Bytes 506366 us 463.513 MB/s\n",
      "195169406.0\n"
     ]
    },
    {
     "name": "stderr",
     "output_type": "stream",
     "text": [
      "[sudo] password for haoyuq: [sudo] password for haoyuq: [sudo] password for haoyuq: Decompressing columns: 0 1 2 3 4 5 6 7 8 9 10 11 12 13 14 15 16 17 18 19 \n"
     ]
    },
    {
     "name": "stdout",
     "output_type": "stream",
     "text": [
      "Total: 26774157 Bytes 164382967 Bytes 55681 us 2815.46 MB/s\n",
      "26774157.0\n"
     ]
    },
    {
     "name": "stderr",
     "output_type": "stream",
     "text": [
      "[sudo] password for haoyuq: [sudo] password for haoyuq: [sudo] password for haoyuq: Decompressing columns: 0 1 2 3 4 5 6 7 8 9 10 11 12 13 14 15 16 17 18 19 \n"
     ]
    },
    {
     "name": "stdout",
     "output_type": "stream",
     "text": [
      "Total: 80388811 Bytes 140062884 Bytes 155544 us 858.756 MB/s\n",
      "80388811.0\n"
     ]
    },
    {
     "name": "stderr",
     "output_type": "stream",
     "text": [
      "[sudo] password for haoyuq: [sudo] password for haoyuq: [sudo] password for haoyuq: Decompressing columns: 0 1 2 3 4 5 6 7 8 9 10 11 12 13 14 15 16 17 18 19 \n",
      "[sudo] password for haoyuq: "
     ]
    },
    {
     "name": "stdout",
     "output_type": "stream",
     "text": [
      "Total: 26421427 Bytes 111240710 Bytes 33374 us 3178.74 MB/s\n",
      "26421427.0\n"
     ]
    },
    {
     "name": "stderr",
     "output_type": "stream",
     "text": [
      "[sudo] password for haoyuq: [sudo] password for haoyuq: Decompressing columns: 0 1 2 3 4 5 6 7 8 9 10 11 12 13 14 15 16 17 18 19 \n"
     ]
    },
    {
     "name": "stdout",
     "output_type": "stream",
     "text": [
      "Total: 34427799 Bytes 92571455 Bytes 53617 us 1646.55 MB/s\n",
      "34427799.0\n"
     ]
    },
    {
     "name": "stderr",
     "output_type": "stream",
     "text": [
      "[sudo] password for haoyuq: [sudo] password for haoyuq: [sudo] password for haoyuq: Decompressing columns: 0 1 2 3 4 5 6 7 8 9 10 11 12 13 14 15 16 17 18 19 \n"
     ]
    },
    {
     "name": "stdout",
     "output_type": "stream",
     "text": [
      "Total: 117554095 Bytes 169395006 Bytes 297592 us 542.849 MB/s\n",
      "117554095.0\n"
     ]
    },
    {
     "name": "stderr",
     "output_type": "stream",
     "text": [
      "[sudo] password for haoyuq: [sudo] password for haoyuq: [sudo] password for haoyuq: Decompressing columns: 0 1 2 3 4 5 6 7 8 9 10 11 12 13 14 15 16 17 18 19 \n"
     ]
    },
    {
     "name": "stdout",
     "output_type": "stream",
     "text": [
      "Total: 195169406 Bytes 246108359 Bytes 508302 us 461.748 MB/s\n",
      "195169406.0\n"
     ]
    },
    {
     "name": "stderr",
     "output_type": "stream",
     "text": [
      "[sudo] password for haoyuq: [sudo] password for haoyuq: [sudo] password for haoyuq: Decompressing columns: 0 1 2 3 4 5 6 7 8 9 10 11 12 13 14 15 16 17 18 19 \n",
      "[sudo] password for haoyuq: "
     ]
    },
    {
     "name": "stdout",
     "output_type": "stream",
     "text": [
      "Total: 26774157 Bytes 164382967 Bytes 56007 us 2799.08 MB/s\n",
      "26774157.0\n"
     ]
    },
    {
     "name": "stderr",
     "output_type": "stream",
     "text": [
      "[sudo] password for haoyuq: [sudo] password for haoyuq: Decompressing columns: 0 1 2 3 4 5 6 7 8 9 10 11 12 13 14 15 16 17 18 19 \n"
     ]
    },
    {
     "name": "stdout",
     "output_type": "stream",
     "text": [
      "Total: 80388811 Bytes 140062884 Bytes 155458 us 859.231 MB/s\n",
      "80388811.0\n"
     ]
    },
    {
     "name": "stderr",
     "output_type": "stream",
     "text": [
      "[sudo] password for haoyuq: [sudo] password for haoyuq: [sudo] password for haoyuq: Decompressing columns: 0 1 2 3 4 5 6 7 8 9 10 11 12 13 14 15 16 17 18 19 \n",
      "[sudo] password for haoyuq: "
     ]
    },
    {
     "name": "stdout",
     "output_type": "stream",
     "text": [
      "Total: 26421427 Bytes 111240710 Bytes 32566 us 3257.61 MB/s\n",
      "26421427.0\n"
     ]
    },
    {
     "name": "stderr",
     "output_type": "stream",
     "text": [
      "[sudo] password for haoyuq: [sudo] password for haoyuq: Decompressing columns: 0 1 2 3 4 5 6 7 8 9 10 11 12 13 14 15 16 17 18 19 \n"
     ]
    },
    {
     "name": "stdout",
     "output_type": "stream",
     "text": [
      "Total: 34427799 Bytes 92571455 Bytes 50520 us 1747.49 MB/s\n",
      "34427799.0\n"
     ]
    },
    {
     "name": "stderr",
     "output_type": "stream",
     "text": [
      "[sudo] password for haoyuq: [sudo] password for haoyuq: [sudo] password for haoyuq: Decompressing columns: 0 1 2 3 4 5 6 7 8 9 10 11 12 13 14 15 16 17 18 19 \n"
     ]
    },
    {
     "name": "stdout",
     "output_type": "stream",
     "text": [
      "Total: 117554095 Bytes 169395006 Bytes 290691 us 555.737 MB/s\n",
      "117554095.0\n"
     ]
    },
    {
     "name": "stderr",
     "output_type": "stream",
     "text": [
      "[sudo] password for haoyuq: [sudo] password for haoyuq: [sudo] password for haoyuq: Decompressing columns: 0 1 2 3 4 5 6 7 8 9 10 11 12 13 14 15 16 17 18 19 \n"
     ]
    },
    {
     "name": "stdout",
     "output_type": "stream",
     "text": [
      "Total: 195169406 Bytes 246108359 Bytes 506407 us 463.475 MB/s\n",
      "195169406.0\n"
     ]
    },
    {
     "name": "stderr",
     "output_type": "stream",
     "text": [
      "[sudo] password for haoyuq: [sudo] password for haoyuq: [sudo] password for haoyuq: Decompressing columns: 0 1 2 3 4 5 6 7 8 9 10 11 12 13 14 15 16 17 18 19 \n"
     ]
    },
    {
     "name": "stdout",
     "output_type": "stream",
     "text": [
      "Total: 26774157 Bytes 164382967 Bytes 55765 us 2811.22 MB/s\n",
      "26774157.0\n"
     ]
    },
    {
     "name": "stderr",
     "output_type": "stream",
     "text": [
      "[sudo] password for haoyuq: [sudo] password for haoyuq: [sudo] password for haoyuq: Decompressing columns: 0 1 2 3 4 5 6 7 8 9 10 11 12 13 14 15 16 17 18 19 \n"
     ]
    },
    {
     "name": "stdout",
     "output_type": "stream",
     "text": [
      "Total: 80388811 Bytes 140062884 Bytes 155522 us 858.878 MB/s\n",
      "80388811.0\n"
     ]
    },
    {
     "name": "stderr",
     "output_type": "stream",
     "text": [
      "[sudo] password for haoyuq: [sudo] password for haoyuq: [sudo] password for haoyuq: Decompressing columns: 0 1 2 3 4 5 6 7 8 9 10 11 12 13 14 15 16 17 18 19 \n",
      "[sudo] password for haoyuq: "
     ]
    },
    {
     "name": "stdout",
     "output_type": "stream",
     "text": [
      "Total: 26421427 Bytes 111240710 Bytes 33142 us 3201 MB/s\n",
      "26421427.0\n"
     ]
    },
    {
     "name": "stderr",
     "output_type": "stream",
     "text": [
      "[sudo] password for haoyuq: [sudo] password for haoyuq: Decompressing columns: 0 1 2 3 4 5 6 7 8 9 10 11 12 13 14 15 16 17 18 19 \n"
     ]
    },
    {
     "name": "stdout",
     "output_type": "stream",
     "text": [
      "Total: 34427799 Bytes 92571455 Bytes 54336 us 1624.76 MB/s\n",
      "34427799.0\n"
     ]
    },
    {
     "name": "stderr",
     "output_type": "stream",
     "text": [
      "[sudo] password for haoyuq: [sudo] password for haoyuq: [sudo] password for haoyuq: Decompressing columns: 0 1 2 3 4 5 6 7 8 9 10 11 12 13 14 15 16 17 18 19 \n"
     ]
    },
    {
     "name": "stdout",
     "output_type": "stream",
     "text": [
      "Total: 117554095 Bytes 169395006 Bytes 291165 us 554.832 MB/s\n",
      "117554095.0\n"
     ]
    },
    {
     "name": "stderr",
     "output_type": "stream",
     "text": [
      "[sudo] password for haoyuq: [sudo] password for haoyuq: [sudo] password for haoyuq: Decompressing columns: 0 1 2 3 4 5 6 7 8 9 10 11 12 13 14 15 16 17 18 19 \n"
     ]
    },
    {
     "name": "stdout",
     "output_type": "stream",
     "text": [
      "Total: 195169406 Bytes 246108359 Bytes 506368 us 463.511 MB/s\n",
      "195169406.0\n"
     ]
    },
    {
     "name": "stderr",
     "output_type": "stream",
     "text": [
      "[sudo] password for haoyuq: [sudo] password for haoyuq: [sudo] password for haoyuq: Decompressing columns: 0 1 2 3 4 5 6 7 8 9 10 11 12 13 14 15 16 17 18 19 \n"
     ]
    },
    {
     "name": "stdout",
     "output_type": "stream",
     "text": [
      "Total: 26774157 Bytes 164382967 Bytes 56245 us 2787.23 MB/s\n",
      "26774157.0\n"
     ]
    },
    {
     "name": "stderr",
     "output_type": "stream",
     "text": [
      "[sudo] password for haoyuq: [sudo] password for haoyuq: [sudo] password for haoyuq: Decompressing columns: 0 1 2 3 4 5 6 7 8 9 10 11 12 13 14 15 16 17 18 19 \n"
     ]
    },
    {
     "name": "stdout",
     "output_type": "stream",
     "text": [
      "Total: 80388811 Bytes 140062884 Bytes 155495 us 859.027 MB/s\n",
      "80388811.0\n"
     ]
    },
    {
     "name": "stderr",
     "output_type": "stream",
     "text": [
      "[sudo] password for haoyuq: [sudo] password for haoyuq: [sudo] password for haoyuq: Decompressing columns: 0 1 2 3 4 5 6 7 8 9 10 11 12 13 14 15 16 17 18 19 \n",
      "[sudo] password for haoyuq: "
     ]
    },
    {
     "name": "stdout",
     "output_type": "stream",
     "text": [
      "Total: 26421427 Bytes 111240710 Bytes 32327 us 3281.7 MB/s\n",
      "26421427.0\n"
     ]
    },
    {
     "name": "stderr",
     "output_type": "stream",
     "text": [
      "[sudo] password for haoyuq: [sudo] password for haoyuq: Decompressing columns: 0 1 2 3 4 5 6 7 8 9 10 11 12 13 14 15 16 17 18 19 \n"
     ]
    },
    {
     "name": "stdout",
     "output_type": "stream",
     "text": [
      "Total: 34427799 Bytes 92571455 Bytes 50459 us 1749.6 MB/s\n",
      "34427799.0\n"
     ]
    },
    {
     "name": "stderr",
     "output_type": "stream",
     "text": [
      "[sudo] password for haoyuq: [sudo] password for haoyuq: [sudo] password for haoyuq: Decompressing columns: 0 1 2 3 4 5 6 7 8 9 10 11 12 13 14 15 16 17 18 19 \n"
     ]
    },
    {
     "name": "stdout",
     "output_type": "stream",
     "text": [
      "Total: 117554095 Bytes 169395006 Bytes 290578 us 555.953 MB/s\n",
      "117554095.0\n"
     ]
    },
    {
     "name": "stderr",
     "output_type": "stream",
     "text": [
      "[sudo] password for haoyuq: [sudo] password for haoyuq: [sudo] password for haoyuq: Decompressing columns: 0 1 2 3 4 5 6 7 8 9 10 11 12 13 14 15 16 17 18 19 \n"
     ]
    },
    {
     "name": "stdout",
     "output_type": "stream",
     "text": [
      "Total: 195169406 Bytes 246108359 Bytes 506025 us 463.825 MB/s\n",
      "195169406.0\n"
     ]
    },
    {
     "name": "stderr",
     "output_type": "stream",
     "text": [
      "[sudo] password for haoyuq: [sudo] password for haoyuq: [sudo] password for haoyuq: Decompressing columns: 0 1 2 3 4 5 6 7 8 9 10 11 12 13 14 15 16 17 18 19 \n",
      "[sudo] password for haoyuq: "
     ]
    },
    {
     "name": "stdout",
     "output_type": "stream",
     "text": [
      "Total: 26774157 Bytes 164382967 Bytes 51143 us 3065.28 MB/s\n",
      "26774157.0\n"
     ]
    },
    {
     "name": "stderr",
     "output_type": "stream",
     "text": [
      "[sudo] password for haoyuq: [sudo] password for haoyuq: Decompressing columns: 0 1 2 3 4 5 6 7 8 9 10 11 12 13 14 15 16 17 18 19 \n"
     ]
    },
    {
     "name": "stdout",
     "output_type": "stream",
     "text": [
      "Total: 80388811 Bytes 140062884 Bytes 162807 us 820.446 MB/s\n",
      "80388811.0\n"
     ]
    },
    {
     "name": "stderr",
     "output_type": "stream",
     "text": [
      "[sudo] password for haoyuq: [sudo] password for haoyuq: [sudo] password for haoyuq: Decompressing columns: 0 1 2 3 4 5 6 7 8 9 10 11 12 13 14 15 16 17 18 19 \n",
      "[sudo] password for haoyuq: "
     ]
    },
    {
     "name": "stdout",
     "output_type": "stream",
     "text": [
      "Total: 26421427 Bytes 111240710 Bytes 32277 us 3286.78 MB/s\n",
      "26421427.0\n"
     ]
    },
    {
     "name": "stderr",
     "output_type": "stream",
     "text": [
      "[sudo] password for haoyuq: [sudo] password for haoyuq: Decompressing columns: 0 1 2 3 4 5 6 7 8 9 10 11 12 13 14 15 16 17 18 19 \n"
     ]
    },
    {
     "name": "stdout",
     "output_type": "stream",
     "text": [
      "Total: 34427799 Bytes 92571455 Bytes 50282 us 1755.76 MB/s\n",
      "34427799.0\n"
     ]
    },
    {
     "name": "stderr",
     "output_type": "stream",
     "text": [
      "[sudo] password for haoyuq: [sudo] password for haoyuq: [sudo] password for haoyuq: Decompressing columns: 0 1 2 3 4 5 6 7 8 9 10 11 12 13 14 15 16 17 18 19 \n"
     ]
    },
    {
     "name": "stdout",
     "output_type": "stream",
     "text": [
      "Total: 117554095 Bytes 169395006 Bytes 290772 us 555.582 MB/s\n",
      "117554095.0\n"
     ]
    },
    {
     "name": "stderr",
     "output_type": "stream",
     "text": [
      "[sudo] password for haoyuq: [sudo] password for haoyuq: [sudo] password for haoyuq: Decompressing columns: 0 1 2 3 4 5 6 7 8 9 10 11 12 13 14 15 16 17 18 19 \n"
     ]
    },
    {
     "name": "stdout",
     "output_type": "stream",
     "text": [
      "Total: 195169406 Bytes 246108359 Bytes 506512 us 463.379 MB/s\n",
      "195169406.0\n"
     ]
    },
    {
     "name": "stderr",
     "output_type": "stream",
     "text": [
      "[sudo] password for haoyuq: [sudo] password for haoyuq: [sudo] password for haoyuq: Decompressing columns: 0 1 2 3 4 5 6 7 8 9 10 11 12 13 14 15 16 17 18 19 \n",
      "[sudo] password for haoyuq: "
     ]
    },
    {
     "name": "stdout",
     "output_type": "stream",
     "text": [
      "Total: 26774157 Bytes 164382967 Bytes 51094 us 3068.22 MB/s\n",
      "26774157.0\n"
     ]
    },
    {
     "name": "stderr",
     "output_type": "stream",
     "text": [
      "[sudo] password for haoyuq: [sudo] password for haoyuq: Decompressing columns: 0 1 2 3 4 5 6 7 8 9 10 11 12 13 14 15 16 17 18 19 \n"
     ]
    },
    {
     "name": "stdout",
     "output_type": "stream",
     "text": [
      "Total: 80388811 Bytes 140062884 Bytes 155485 us 859.082 MB/s\n",
      "80388811.0\n"
     ]
    },
    {
     "name": "stderr",
     "output_type": "stream",
     "text": [
      "[sudo] password for haoyuq: [sudo] password for haoyuq: [sudo] password for haoyuq: "
     ]
    },
    {
     "name": "stdout",
     "output_type": "stream",
     "text": [
      "Total: 26421427 Bytes 111240710 Bytes 32849 us 3229.55 MB/s\n",
      "26421427.0\n"
     ]
    },
    {
     "name": "stderr",
     "output_type": "stream",
     "text": [
      "Decompressing columns: 0 1 2 3 4 5 6 7 8 9 10 11 12 13 14 15 16 17 18 19 \n"
     ]
    },
    {
     "data": {
      "text/plain": [
       "0"
      ]
     },
     "execution_count": 47,
     "metadata": {},
     "output_type": "execute_result"
    }
   ],
   "source": [
    "# running experiments\n",
    "os.chdir(f'{PROJ_SRC_DIR}/python/general')\n",
    "os.system('rm outputs/stats.json')\n",
    "my_password = \"\"\n",
    "for i in range(10):\n",
    "    for wl in workload_list:\n",
    "        base_name = f'{wl}_r{num_rows}_c{num_cols}'\n",
    "        os.system(f'echo {my_password} | sudo -S sync; echo {my_password} | sudo sh -c \"/usr/bin/echo 3 > /proc/sys/vm/drop_caches\"')\n",
    "        time.sleep(1)\n",
    "        pq_read = float(os.popen(f'''{scan_exec_pq} \\\n",
    "                --batch_size=1024 ./{base_name}{pq_name_suffix}.parquet''').read().split('\\n')[0].split(' ')[-2])\n",
    "        os.system(f'echo {my_password} | sudo -S sync; echo {my_password} | sudo sh -c \"/usr/bin/echo 3 > /proc/sys/vm/drop_caches\"')\n",
    "        time.sleep(1)\n",
    "        orc_read = float(os.popen(f'''{HOME_DIR}/orc/orc/build/tools/src/orc-scan \\\n",
    "                -b 1024 ./{base_name}{orc_name_suffix}.orc''').read().split('\\n')[0].split(' ')[-1])\n",
    "        os.system(f'echo {my_password} | sudo -S sync; echo {my_password} | sudo sh -c \"/usr/bin/echo 3 > /proc/sys/vm/drop_caches\"')\n",
    "        time.sleep(1)\n",
    "        # btrblocks_out = os.popen(f'''~/btrblocks/build/decompression-speed -output_summary \\\n",
    "        #             -btr ./{base_name}/gen_data/btr/ -threads 1''').read().split('\\n')[-2],\n",
    "        btrblocks_out = os.popen(f'''~/btrblocks/build/decompression-speed -output_summary \\\n",
    "                    -btr ./{base_name}/gen_data/btr/ -threads 1''').read()\n",
    "        # with open(f'{name}/{base_name}_res.txt', 'w') as f:\n",
    "        #     f.write(btrblocks_out)\n",
    "        btrblocks_out = btrblocks_out.split('\\n')[-2]\n",
    "        print(btrblocks_out)\n",
    "        btrblocks_read = float(btrblocks_out.split(' ')[-4])\n",
    "        btrblocks_size = float(btrblocks_out.split(' ')[1])\n",
    "        print(btrblocks_size)\n",
    "        btrblocks_size_with_metadata = btrblocks_size + os.path.getsize(f'./{base_name}/gen_data/btr/metadata')\n",
    "        orc_size = os.path.getsize(f'{base_name}{orc_name_suffix}.orc')\n",
    "        pq_size = os.path.getsize(f'{base_name}{pq_name_suffix}.parquet')\n",
    "        output_stats = {}\n",
    "        output_stats['workload'] = wl\n",
    "        output_stats['i'] = i\n",
    "        output_stats['file'] = 'parquet'\n",
    "        output_stats['size'] = pq_size\n",
    "        output_stats['read_time'] = pq_read\n",
    "        parse_output(output_stats)\n",
    "        output_stats['file'] = 'orc'\n",
    "        output_stats['size'] = orc_size\n",
    "        output_stats['read_time'] = orc_read\n",
    "        parse_output(output_stats)\n",
    "        output_stats['file'] = 'btrblocks'\n",
    "        output_stats['size'] = btrblocks_size\n",
    "        output_stats['read_time'] = btrblocks_read\n",
    "        output_stats['size_with_metadata'] = btrblocks_size_with_metadata\n",
    "        parse_output(output_stats)\n",
    "collect_results()\n",
    "os.system('mv outputs/stats.csv ../outputs/{}_{}.csv'.format('general_exp_uncompressed', timestamp))"
   ]
  },
  {
   "cell_type": "code",
   "execution_count": 48,
   "metadata": {},
   "outputs": [],
   "source": [
    "import pandas as pd\n",
    "import seaborn as sns\n",
    "\n",
    "data = pd.read_csv('../outputs/general_exp_uncompressed_20240413_200328.csv')"
   ]
  },
  {
   "cell_type": "code",
   "execution_count": 58,
   "metadata": {},
   "outputs": [],
   "source": [
    "data = pd.read_csv('../outputs/general_exp_20240413_200328.csv')"
   ]
  },
  {
   "cell_type": "code",
   "execution_count": 59,
   "metadata": {},
   "outputs": [],
   "source": [
    "data_avg = data.groupby(['workload','file']).mean()"
   ]
  },
  {
   "cell_type": "code",
   "execution_count": 60,
   "metadata": {},
   "outputs": [],
   "source": [
    "data_avg.reset_index(inplace=True)"
   ]
  },
  {
   "cell_type": "code",
   "execution_count": 61,
   "metadata": {},
   "outputs": [],
   "source": [
    "data_avg.loc[data_avg['file']=='btrblocks', 'read_time']/=1000*1000"
   ]
  },
  {
   "cell_type": "code",
   "execution_count": 57,
   "metadata": {},
   "outputs": [],
   "source": [
    "import copy\n",
    "data_avg2 = copy.deepcopy(data_avg)"
   ]
  },
  {
   "cell_type": "code",
   "execution_count": 62,
   "metadata": {},
   "outputs": [],
   "source": [
    "data_avg['file'] = data_avg['file'].apply(lambda x: x+'_uncompressed')"
   ]
  },
  {
   "cell_type": "code",
   "execution_count": 63,
   "metadata": {},
   "outputs": [],
   "source": [
    "data = pd.concat([data_avg, data_avg2])"
   ]
  },
  {
   "cell_type": "code",
   "execution_count": 67,
   "metadata": {},
   "outputs": [],
   "source": [
    "data = data[data[\"file\"] != \"btrblocks_uncompressed\"]"
   ]
  },
  {
   "cell_type": "code",
   "execution_count": 71,
   "metadata": {},
   "outputs": [
    {
     "data": {
      "text/html": [
       "<div>\n",
       "<style scoped>\n",
       "    .dataframe tbody tr th:only-of-type {\n",
       "        vertical-align: middle;\n",
       "    }\n",
       "\n",
       "    .dataframe tbody tr th {\n",
       "        vertical-align: top;\n",
       "    }\n",
       "\n",
       "    .dataframe thead th {\n",
       "        text-align: right;\n",
       "    }\n",
       "</style>\n",
       "<table border=\"1\" class=\"dataframe\">\n",
       "  <thead>\n",
       "    <tr style=\"text-align: right;\">\n",
       "      <th></th>\n",
       "      <th>workload</th>\n",
       "      <th>file</th>\n",
       "      <th>i</th>\n",
       "      <th>size</th>\n",
       "      <th>read_time</th>\n",
       "      <th>size_with_metadata</th>\n",
       "    </tr>\n",
       "  </thead>\n",
       "  <tbody>\n",
       "    <tr>\n",
       "      <th>1</th>\n",
       "      <td>bi</td>\n",
       "      <td>orc</td>\n",
       "      <td>4.5</td>\n",
       "      <td>28144655.0</td>\n",
       "      <td>0.345579</td>\n",
       "      <td>NaN</td>\n",
       "    </tr>\n",
       "    <tr>\n",
       "      <th>2</th>\n",
       "      <td>bi</td>\n",
       "      <td>parquet</td>\n",
       "      <td>4.5</td>\n",
       "      <td>31206759.0</td>\n",
       "      <td>0.194650</td>\n",
       "      <td>NaN</td>\n",
       "    </tr>\n",
       "    <tr>\n",
       "      <th>4</th>\n",
       "      <td>classic</td>\n",
       "      <td>orc</td>\n",
       "      <td>4.5</td>\n",
       "      <td>183467312.0</td>\n",
       "      <td>0.417565</td>\n",
       "      <td>NaN</td>\n",
       "    </tr>\n",
       "    <tr>\n",
       "      <th>5</th>\n",
       "      <td>classic</td>\n",
       "      <td>parquet</td>\n",
       "      <td>4.5</td>\n",
       "      <td>198249209.0</td>\n",
       "      <td>0.377968</td>\n",
       "      <td>NaN</td>\n",
       "    </tr>\n",
       "    <tr>\n",
       "      <th>7</th>\n",
       "      <td>core</td>\n",
       "      <td>orc</td>\n",
       "      <td>4.5</td>\n",
       "      <td>38468540.0</td>\n",
       "      <td>0.368254</td>\n",
       "      <td>NaN</td>\n",
       "    </tr>\n",
       "    <tr>\n",
       "      <th>8</th>\n",
       "      <td>core</td>\n",
       "      <td>parquet</td>\n",
       "      <td>4.5</td>\n",
       "      <td>37413239.0</td>\n",
       "      <td>0.194494</td>\n",
       "      <td>NaN</td>\n",
       "    </tr>\n",
       "    <tr>\n",
       "      <th>10</th>\n",
       "      <td>geo</td>\n",
       "      <td>orc</td>\n",
       "      <td>4.5</td>\n",
       "      <td>108626537.0</td>\n",
       "      <td>0.373362</td>\n",
       "      <td>NaN</td>\n",
       "    </tr>\n",
       "    <tr>\n",
       "      <th>11</th>\n",
       "      <td>geo</td>\n",
       "      <td>parquet</td>\n",
       "      <td>4.5</td>\n",
       "      <td>116094986.0</td>\n",
       "      <td>0.281581</td>\n",
       "      <td>NaN</td>\n",
       "    </tr>\n",
       "    <tr>\n",
       "      <th>13</th>\n",
       "      <td>log</td>\n",
       "      <td>orc</td>\n",
       "      <td>4.5</td>\n",
       "      <td>17129111.0</td>\n",
       "      <td>0.250353</td>\n",
       "      <td>NaN</td>\n",
       "    </tr>\n",
       "    <tr>\n",
       "      <th>14</th>\n",
       "      <td>log</td>\n",
       "      <td>parquet</td>\n",
       "      <td>4.5</td>\n",
       "      <td>23909928.0</td>\n",
       "      <td>0.170915</td>\n",
       "      <td>NaN</td>\n",
       "    </tr>\n",
       "    <tr>\n",
       "      <th>16</th>\n",
       "      <td>ml</td>\n",
       "      <td>orc</td>\n",
       "      <td>4.5</td>\n",
       "      <td>83054749.0</td>\n",
       "      <td>0.372471</td>\n",
       "      <td>NaN</td>\n",
       "    </tr>\n",
       "    <tr>\n",
       "      <th>17</th>\n",
       "      <td>ml</td>\n",
       "      <td>parquet</td>\n",
       "      <td>4.5</td>\n",
       "      <td>85059568.0</td>\n",
       "      <td>0.250682</td>\n",
       "      <td>NaN</td>\n",
       "    </tr>\n",
       "    <tr>\n",
       "      <th>0</th>\n",
       "      <td>bi</td>\n",
       "      <td>btrblocks_uncompressed</td>\n",
       "      <td>4.5</td>\n",
       "      <td>26421427.0</td>\n",
       "      <td>0.033368</td>\n",
       "      <td>26421595.0</td>\n",
       "    </tr>\n",
       "    <tr>\n",
       "      <th>1</th>\n",
       "      <td>bi</td>\n",
       "      <td>orc_uncompressed</td>\n",
       "      <td>4.5</td>\n",
       "      <td>102459149.0</td>\n",
       "      <td>0.227832</td>\n",
       "      <td>NaN</td>\n",
       "    </tr>\n",
       "    <tr>\n",
       "      <th>2</th>\n",
       "      <td>bi</td>\n",
       "      <td>parquet_uncompressed</td>\n",
       "      <td>4.5</td>\n",
       "      <td>167166863.0</td>\n",
       "      <td>0.236616</td>\n",
       "      <td>NaN</td>\n",
       "    </tr>\n",
       "    <tr>\n",
       "      <th>3</th>\n",
       "      <td>classic</td>\n",
       "      <td>btrblocks_uncompressed</td>\n",
       "      <td>4.5</td>\n",
       "      <td>195169406.0</td>\n",
       "      <td>0.506517</td>\n",
       "      <td>195169574.0</td>\n",
       "    </tr>\n",
       "    <tr>\n",
       "      <th>4</th>\n",
       "      <td>classic</td>\n",
       "      <td>orc_uncompressed</td>\n",
       "      <td>4.5</td>\n",
       "      <td>248836780.0</td>\n",
       "      <td>0.406269</td>\n",
       "      <td>NaN</td>\n",
       "    </tr>\n",
       "    <tr>\n",
       "      <th>5</th>\n",
       "      <td>classic</td>\n",
       "      <td>parquet_uncompressed</td>\n",
       "      <td>4.5</td>\n",
       "      <td>312040815.0</td>\n",
       "      <td>0.355448</td>\n",
       "      <td>NaN</td>\n",
       "    </tr>\n",
       "    <tr>\n",
       "      <th>6</th>\n",
       "      <td>core</td>\n",
       "      <td>btrblocks_uncompressed</td>\n",
       "      <td>4.5</td>\n",
       "      <td>34427799.0</td>\n",
       "      <td>0.051749</td>\n",
       "      <td>34427967.0</td>\n",
       "    </tr>\n",
       "    <tr>\n",
       "      <th>7</th>\n",
       "      <td>core</td>\n",
       "      <td>orc_uncompressed</td>\n",
       "      <td>4.5</td>\n",
       "      <td>97872877.0</td>\n",
       "      <td>0.244897</td>\n",
       "      <td>NaN</td>\n",
       "    </tr>\n",
       "    <tr>\n",
       "      <th>8</th>\n",
       "      <td>core</td>\n",
       "      <td>parquet_uncompressed</td>\n",
       "      <td>4.5</td>\n",
       "      <td>165622590.0</td>\n",
       "      <td>0.237197</td>\n",
       "      <td>NaN</td>\n",
       "    </tr>\n",
       "    <tr>\n",
       "      <th>9</th>\n",
       "      <td>geo</td>\n",
       "      <td>btrblocks_uncompressed</td>\n",
       "      <td>4.5</td>\n",
       "      <td>117554095.0</td>\n",
       "      <td>0.291660</td>\n",
       "      <td>117554263.0</td>\n",
       "    </tr>\n",
       "    <tr>\n",
       "      <th>10</th>\n",
       "      <td>geo</td>\n",
       "      <td>orc_uncompressed</td>\n",
       "      <td>4.5</td>\n",
       "      <td>181559166.0</td>\n",
       "      <td>0.314207</td>\n",
       "      <td>NaN</td>\n",
       "    </tr>\n",
       "    <tr>\n",
       "      <th>11</th>\n",
       "      <td>geo</td>\n",
       "      <td>parquet_uncompressed</td>\n",
       "      <td>4.5</td>\n",
       "      <td>245655559.0</td>\n",
       "      <td>0.305687</td>\n",
       "      <td>NaN</td>\n",
       "    </tr>\n",
       "    <tr>\n",
       "      <th>12</th>\n",
       "      <td>log</td>\n",
       "      <td>btrblocks_uncompressed</td>\n",
       "      <td>4.5</td>\n",
       "      <td>26774157.0</td>\n",
       "      <td>0.053444</td>\n",
       "      <td>26774325.0</td>\n",
       "    </tr>\n",
       "    <tr>\n",
       "      <th>13</th>\n",
       "      <td>log</td>\n",
       "      <td>orc_uncompressed</td>\n",
       "      <td>4.5</td>\n",
       "      <td>186004786.0</td>\n",
       "      <td>0.294890</td>\n",
       "      <td>NaN</td>\n",
       "    </tr>\n",
       "    <tr>\n",
       "      <th>14</th>\n",
       "      <td>log</td>\n",
       "      <td>parquet_uncompressed</td>\n",
       "      <td>4.5</td>\n",
       "      <td>261985085.0</td>\n",
       "      <td>0.313037</td>\n",
       "      <td>NaN</td>\n",
       "    </tr>\n",
       "    <tr>\n",
       "      <th>15</th>\n",
       "      <td>ml</td>\n",
       "      <td>btrblocks_uncompressed</td>\n",
       "      <td>4.5</td>\n",
       "      <td>80388811.0</td>\n",
       "      <td>0.156953</td>\n",
       "      <td>80388979.0</td>\n",
       "    </tr>\n",
       "    <tr>\n",
       "      <th>16</th>\n",
       "      <td>ml</td>\n",
       "      <td>orc_uncompressed</td>\n",
       "      <td>4.5</td>\n",
       "      <td>175786470.0</td>\n",
       "      <td>0.339882</td>\n",
       "      <td>NaN</td>\n",
       "    </tr>\n",
       "    <tr>\n",
       "      <th>17</th>\n",
       "      <td>ml</td>\n",
       "      <td>parquet_uncompressed</td>\n",
       "      <td>4.5</td>\n",
       "      <td>245793299.0</td>\n",
       "      <td>0.315679</td>\n",
       "      <td>NaN</td>\n",
       "    </tr>\n",
       "  </tbody>\n",
       "</table>\n",
       "</div>"
      ],
      "text/plain": [
       "   workload                    file    i         size  read_time  \\\n",
       "1        bi                     orc  4.5   28144655.0   0.345579   \n",
       "2        bi                 parquet  4.5   31206759.0   0.194650   \n",
       "4   classic                     orc  4.5  183467312.0   0.417565   \n",
       "5   classic                 parquet  4.5  198249209.0   0.377968   \n",
       "7      core                     orc  4.5   38468540.0   0.368254   \n",
       "8      core                 parquet  4.5   37413239.0   0.194494   \n",
       "10      geo                     orc  4.5  108626537.0   0.373362   \n",
       "11      geo                 parquet  4.5  116094986.0   0.281581   \n",
       "13      log                     orc  4.5   17129111.0   0.250353   \n",
       "14      log                 parquet  4.5   23909928.0   0.170915   \n",
       "16       ml                     orc  4.5   83054749.0   0.372471   \n",
       "17       ml                 parquet  4.5   85059568.0   0.250682   \n",
       "0        bi  btrblocks_uncompressed  4.5   26421427.0   0.033368   \n",
       "1        bi        orc_uncompressed  4.5  102459149.0   0.227832   \n",
       "2        bi    parquet_uncompressed  4.5  167166863.0   0.236616   \n",
       "3   classic  btrblocks_uncompressed  4.5  195169406.0   0.506517   \n",
       "4   classic        orc_uncompressed  4.5  248836780.0   0.406269   \n",
       "5   classic    parquet_uncompressed  4.5  312040815.0   0.355448   \n",
       "6      core  btrblocks_uncompressed  4.5   34427799.0   0.051749   \n",
       "7      core        orc_uncompressed  4.5   97872877.0   0.244897   \n",
       "8      core    parquet_uncompressed  4.5  165622590.0   0.237197   \n",
       "9       geo  btrblocks_uncompressed  4.5  117554095.0   0.291660   \n",
       "10      geo        orc_uncompressed  4.5  181559166.0   0.314207   \n",
       "11      geo    parquet_uncompressed  4.5  245655559.0   0.305687   \n",
       "12      log  btrblocks_uncompressed  4.5   26774157.0   0.053444   \n",
       "13      log        orc_uncompressed  4.5  186004786.0   0.294890   \n",
       "14      log    parquet_uncompressed  4.5  261985085.0   0.313037   \n",
       "15       ml  btrblocks_uncompressed  4.5   80388811.0   0.156953   \n",
       "16       ml        orc_uncompressed  4.5  175786470.0   0.339882   \n",
       "17       ml    parquet_uncompressed  4.5  245793299.0   0.315679   \n",
       "\n",
       "    size_with_metadata  \n",
       "1                  NaN  \n",
       "2                  NaN  \n",
       "4                  NaN  \n",
       "5                  NaN  \n",
       "7                  NaN  \n",
       "8                  NaN  \n",
       "10                 NaN  \n",
       "11                 NaN  \n",
       "13                 NaN  \n",
       "14                 NaN  \n",
       "16                 NaN  \n",
       "17                 NaN  \n",
       "0           26421595.0  \n",
       "1                  NaN  \n",
       "2                  NaN  \n",
       "3          195169574.0  \n",
       "4                  NaN  \n",
       "5                  NaN  \n",
       "6           34427967.0  \n",
       "7                  NaN  \n",
       "8                  NaN  \n",
       "9          117554263.0  \n",
       "10                 NaN  \n",
       "11                 NaN  \n",
       "12          26774325.0  \n",
       "13                 NaN  \n",
       "14                 NaN  \n",
       "15          80388979.0  \n",
       "16                 NaN  \n",
       "17                 NaN  "
      ]
     },
     "execution_count": 71,
     "metadata": {},
     "output_type": "execute_result"
    }
   ],
   "source": [
    "data"
   ]
  },
  {
   "cell_type": "code",
   "execution_count": 81,
   "metadata": {},
   "outputs": [],
   "source": [
    "def switch(x):\n",
    "    if \"_uncompressed\" in x[\"file\"]:\n",
    "        x[\"file\"] = x[\"file\"].split('_uncompressed')[0]\n",
    "        return x\n",
    "    x[\"file\"] = x[\"file\"]+\"_uncompressed\"\n",
    "    return x\n",
    "data = data.apply(switch, axis=1)"
   ]
  },
  {
   "cell_type": "code",
   "execution_count": 83,
   "metadata": {},
   "outputs": [],
   "source": [
    "def clean(x):\n",
    "    if x==\"btrblocks_uncompressed\":\n",
    "        return \"btrblocks\"\n",
    "    return x\n",
    "data[\"file\"] = data[\"file\"].apply(clean)"
   ]
  },
  {
   "cell_type": "code",
   "execution_count": 84,
   "metadata": {},
   "outputs": [
    {
     "data": {
      "text/plain": [
       "<Axes: xlabel='workload', ylabel='size'>"
      ]
     },
     "execution_count": 84,
     "metadata": {},
     "output_type": "execute_result"
    },
    {
     "data": {
      "image/png": "[encoded data removed]",
      "text/plain": [
       "<Figure size 640x480 with 1 Axes>"
      ]
     },
     "metadata": {},
     "output_type": "display_data"
    }
   ],
   "source": [
    "sns.barplot(data = data, x='workload', y='size', hue='file')"
   ]
  },
  {
   "cell_type": "code",
   "execution_count": 86,
   "metadata": {},
   "outputs": [
    {
     "data": {
      "text/plain": [
       "<Axes: xlabel='workload', ylabel='read_time'>"
      ]
     },
     "execution_count": 86,
     "metadata": {},
     "output_type": "execute_result"
    },
    {
     "data": {
      "image/png": "[encoded data removed]",
      "text/plain": [
       "<Figure size 640x480 with 1 Axes>"
      ]
     },
     "metadata": {},
     "output_type": "display_data"
    }
   ],
   "source": [
    "sns.barplot(data = data, x='workload', y='read_time', hue='file')"
   ]
  },
  {
   "attachments": {},
   "cell_type": "markdown",
   "metadata": {},
   "source": [
    "# Predefined workloads, filter (select)"
   ]
  },
  {
   "cell_type": "code",
   "execution_count": null,
   "metadata": {},
   "outputs": [],
   "source": [
    "# generate filters and store in dir\n",
    "os.chdir(dir_path)\n",
    "for wl in workload_list:\n",
    "    base_name = f'{wl}_r{num_rows}_c{num_cols}'\n",
    "    filter_dir = f'{wl}_filters'\n",
    "    os.makedirs(filter_dir, exist_ok=True)\n",
    "    os.chdir(filter_dir)\n",
    "    os.system(f'rm -rf point*.csv range*.csv')\n",
    "    config_name = f'{PROJ_SRC_DIR}/benchmark/generator_v2/filter_config/{wl}_filter.yaml'\n",
    "    os.system(f'''python3 {PROJ_SRC_DIR}/benchmark/generator_v2/filter_generator.py \\\n",
    "    ../{base_name}/gen_data/{base_name}.csv ../{base_name}/configs/table_config.json \\\n",
    "        {config_name}''')\n",
    "    os.chdir(dir_path)"
   ]
  },
  {
   "cell_type": "code",
   "execution_count": null,
   "metadata": {},
   "outputs": [],
   "source": [
    "# running experiments\n",
    "import yaml\n",
    "import itertools\n",
    "os.system('rm outputs/stats.json')\n",
    "output_stats = {}\n",
    "for wl in workload_list:\n",
    "    print(f'begin wl: {wl}')\n",
    "    output_stats['wl'] = wl\n",
    "    base_name = f'{wl}_r{num_rows}_c{num_cols}'\n",
    "    filter_dir = f'{wl}_filters'\n",
    "    config_name = f'{PROJ_SRC_DIR}/benchmark/generator_v2/filter_config/{wl}_filter.yaml'\n",
    "    config = yaml.safe_load(open(config_name))\n",
    "    config_list = config['filter_config']\n",
    "    proj_type = 'one'\n",
    "    for (i, fmt, config) in itertools.product(range(5), ['parquet', 'orc'], config_list):\n",
    "        output_stats['format'] = fmt\n",
    "        output_stats['i'] = i\n",
    "        output_stats['proj_type'] = proj_type\n",
    "        expectation = config.get('selectivity_expectation')\n",
    "        output_stats['selectivity'] = expectation\n",
    "        range_exist = True\n",
    "        point_exist = True\n",
    "        try:\n",
    "            range_filters = pd.read_csv(f'{filter_dir}/range_{expectation}.csv')\n",
    "        except:\n",
    "            range_exist = False\n",
    "        try:\n",
    "            point_filters = pd.read_csv(f'{filter_dir}/point_{expectation}.csv')\n",
    "        except:\n",
    "            point_exist = False\n",
    "        if range_exist:\n",
    "            output_stats['filter_type'] = 'range'\n",
    "            for index, row in range_filters.iterrows():\n",
    "                val1 = np.int64(float(row['val1'])) if row['dtype'] == 'int' else row['val1']\n",
    "                val2 = np.int64(float(row['val2'])) if row['dtype'] == 'int' else row['val2']\n",
    "                os.system('sync; echo 3 > /proc/sys/vm/drop_caches')\n",
    "                if fmt == 'parquet':\n",
    "                    cmd = f\"parquet-filterscan-noeval -f \\\n",
    "                        {base_name}.parquet -i {row['col_idx']} -l {val1} -r \\\n",
    "                            {val2} -e true\"\n",
    "                    output_stats['time'] = os.popen(cmd).read().split('\\n')[0].split(' ')[-2]\n",
    "                    output_stats['time_preload'] = os.popen(cmd).read().split('\\n')[0].split(' ')[-2]\n",
    "                else:\n",
    "                    cmd = f\"{HOME_DIR}/orc/build/c++/test/FilterExp \\\n",
    "                    {base_name}.orc f{row['col_idx']} {row['dtype']} range \\\n",
    "                        {val1} {val2} {proj_type} e\"\n",
    "                    output_stats['time'] = float(os.popen(cmd).read().split('\\n')[0].split(' ')[-1])*1000\n",
    "                    output_stats['time_preload'] = float(os.popen(cmd).read().split('\\n')[0].split(' ')[-1])*1000\n",
    "                parse_output(output_stats)\n",
    "        if point_exist:\n",
    "            output_stats['filter_type'] = 'point'\n",
    "            for index, row in point_filters.iterrows():\n",
    "                val1 = np.int64(float(row['value'])) if row['dtype'] == 'int' else row['value']\n",
    "                val2 = np.int64(float(row['value'])) if row['dtype'] == 'int' else row['value']\n",
    "                os.system('sync; echo 3 > /proc/sys/vm/drop_caches')\n",
    "                if fmt == 'parquet':\n",
    "                    cmd = f\"parquet-filterscan-noeval -f \\\n",
    "                        {base_name}.parquet -i {row['col_idx']} -l {val1} -r \\\n",
    "                            {val2} -e true\"\n",
    "                    output_stats['time'] = os.popen(cmd).read().split('\\n')[0].split(' ')[-2]\n",
    "                    output_stats['time_preload'] = os.popen(cmd).read().split('\\n')[0].split(' ')[-2]\n",
    "                else:\n",
    "                    cmd = f\"{HOME_DIR}/orc/build/c++/test/FilterExp \\\n",
    "                    {base_name}.orc f{row['col_idx']} {row['dtype']} range \\\n",
    "                        {val1} {val2} {proj_type} e\"\n",
    "                    output_stats['time'] = float(os.popen(cmd).read().split('\\n')[0].split(' ')[-1])*1000\n",
    "                    output_stats['time_preload'] = float(os.popen(cmd).read().split('\\n')[0].split(' ')[-1])*1000\n",
    "                parse_output(output_stats)\n",
    "collect_results()\n",
    "os.system('mv outputs/stats.csv ../outputs/{}_{}.csv'.format(f'general_filter', timestamp))"
   ]
  },
  {
   "cell_type": "code",
   "execution_count": null,
   "metadata": {},
   "outputs": [],
   "source": []
  }
 ],
 "metadata": {
  "kernelspec": {
   "display_name": "Python 3 (ipykernel)",
   "language": "python",
   "name": "python3"
  },
  "language_info": {
   "codemirror_mode": {
    "name": "ipython",
    "version": 3
   },
   "file_extension": ".py",
   "mimetype": "text/x-python",
   "name": "python",
   "nbconvert_exporter": "python",
   "pygments_lexer": "ipython3",
   "version": "3.10.13"
  },
  "vscode": {
   "interpreter": {
    "hash": "31f2aee4e71d21fbe5cf8b01ff0e069b9275f58929596ceb00d14d90e3e16cd6"
   }
  }
 },
 "nbformat": 4,
 "nbformat_minor": 4
}
