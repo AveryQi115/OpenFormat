{
    "cells": [
        {
            "cell_type": "code",
            "execution_count": 1,
            "metadata": {},
            "outputs": [],
            "source": [
                "# parquet-fromcsv -s core_r10m_c20_schema.txt -i core_r10m_c20.csv -o core_r10m_c20.parquet\n",
                "# /mnt/arrow-rs/target/release/examples/filterscan core_r10m_c20.parquet 4 int point 511 0\n",
                "# python3 ../../benchmark/generator_v2/filter_generator.py core_r10m_c20.csv core_r10m_c20_config.json ../../benchmark/generator_v2/filter_config/core_filter.yaml\n",
                "# cargo build --package parquet --example filterscan --features=\"arrow async\" --release \n",
                "\n",
                "## parquet cpp\n",
                "# /mnt/arrow-private/cpp/out/build/openformat-release/release/filter_scan core_r10m_c20.parquet --batch-size=1024 --columns=18 --filter_idx=18 --filter_type=1 --type=2 --v1=0000rg67SI8 --v2=5e7WzM1Ny9LMiGrx4rZBPVDih0\n",
                "# import duckdb\n",
                "# con = duckdb.connect(database=':memory:')\n",
                "# con.execute('''select count(*) from 'lineitem_1M_shipdate_bf.parquet' \n",
                "# where l_orderkey=22142214''').fetchall()\n",
                "# con.execute('''select count(*) from 'lineitem_1M_shipdate_bf.parquet' \n",
                "# group by l_orderkey''').fetchall()"
            ]
        },
        {
            "cell_type": "code",
            "execution_count": 19,
            "metadata": {},
            "outputs": [],
            "source": [
                "import os\n",
                "import sys\n",
                "import datetime\n",
                "import pathlib\n",
                "import pandas as pd\n",
                "import pyarrow.orc as po\n",
                "dir_path = pathlib.Path(os.path.abspath('')).parent.resolve()\n",
                "HOME_DIR = str(dir_path).split('/OpenFormat')[0]\n",
                "\n",
                "timestamp = datetime.datetime.now().strftime(\"%Y%m%d_%H%M%S\")\n",
                "\n",
                "PROJ_SRC_DIR = f'{HOME_DIR}/OpenFormat'\n",
                "sys.path.insert(1, f'{PROJ_SRC_DIR}')\n",
                "from python.scripts.utils import *"
            ]
        },
        {
            "cell_type": "code",
            "execution_count": 22,
            "metadata": {},
            "outputs": [
                {
                    "name": "stdout",
                    "output_type": "stream",
                    "text": [
                        "CPU times: user 5 µs, sys: 1 µs, total: 6 µs\n",
                        "Wall time: 12.4 µs\n"
                    ]
                }
            ],
            "source": [
                "%time\n",
                "# generate csv\n",
                "# file_base = 'lineitem_1M_shipdate'\n",
                "file_base = 'lineitem_1M'\n",
                "import pyarrow.parquet as pq\n",
                "parquet_file = pq.ParquetFile(f'{file_base}.parquet')\n",
                "table = parquet_file.read()\n",
                "from pyarrow import csv\n",
                "# csv.write_csv(table, f'{file_base}.csv')"
            ]
        },
        {
            "cell_type": "code",
            "execution_count": 4,
            "metadata": {},
            "outputs": [],
            "source": [
                "# generate parquet and orc\n",
                "# os.chdir(f'{PROJ_SRC_DIR}/python')\n",
                "# os.system(f'python3 scripts/orc_exp.py {file_base} orc_default')\n",
                "orc_config = {'compression':'SNAPPY', 'compression_strategy':'speed', \n",
                "              'dictionary_key_size_threshold': 0.8}\n",
                "os.chdir(f'{PROJ_SRC_DIR}/python/index')\n",
                "os.system(f'parquet-fromcsv -s {file_base}_arrow_schema.txt -i \\\n",
                "    {file_base}.csv -o {file_base}.parquet --has-header')\n",
                "po.write_table(\n",
                "        table, f'{file_base}.orc', **orc_config)\n",
                "# orc_config = enumerate_config(f'{PROJ_SRC_DIR}/python/experiments/orc_default.json')\n",
                "# orc_name_suffix = '_' + \"_\".join([str(i) for i in list(orc_config[0].values())]) + '.orc'\n",
                "# os.system(f'mv ../{file_base}{orc_name_suffix} ./{file_base}.orc')"
            ]
        },
        {
            "cell_type": "code",
            "execution_count": 23,
            "metadata": {},
            "outputs": [
                {
                    "name": "stdout",
                    "output_type": "stream",
                    "text": [
                        "CPU times: user 11min 8s, sys: 11.7 s, total: 11min 20s\n",
                        "Wall time: 22min 5s\n"
                    ]
                }
            ],
            "source": [
                "%%time\n",
                "# generate parquet and orc files for diff fpp\n",
                "fpp_list = [0.0001, 0.001, 0.01, 0.05, 0.1, 0.2]\n",
                "col_name = 'l_partkey'\n",
                "col_idx = 1\n",
                "proj_type = 'one'\n",
                "orc_config['bloom_filter_columns'] = [col_idx+1]\n",
                "for fpp in fpp_list:\n",
                "    os.system(f'parquet-fromcsv -s {file_base}_arrow_schema.txt -i \\\n",
                "        {file_base}.csv -o {file_base}_fpp{fpp}.parquet --has-header \\\n",
                "        --fpp {fpp} --bf-col {col_name}')\n",
                "    orc_config['bloom_filter_fpp'] = fpp\n",
                "    po.write_table(\n",
                "        table, f'{file_base}_fpp{fpp}.orc', **orc_config)"
            ]
        },
        {
            "cell_type": "code",
            "execution_count": 21,
            "metadata": {},
            "outputs": [
                {
                    "data": {
                        "text/plain": [
                            "0"
                        ]
                    },
                    "execution_count": 21,
                    "metadata": {},
                    "output_type": "execute_result"
                }
            ],
            "source": [
                "os.system('rm outputs/stats.json')\n",
                "output_stats = {}\n",
                "proj_type = 'one'\n",
                "target_key = 1284483\n",
                "for i in range(3):\n",
                "    for fmt in ['parquet', 'orc']:\n",
                "        for fpp in fpp_list:\n",
                "            os.system('sync; echo 3 > /proc/sys/vm/drop_caches')\n",
                "            if fmt == 'parquet':\n",
                "                cmd = f\"parquet-bf -f {file_base}_fpp{fpp}.parquet \\\n",
                "                    -i {col_idx} -l {target_key} -r {target_key}\"\n",
                "                output_stats['time'] = os.popen(cmd).read().split('\\n')[0].split(' ')[-2]\n",
                "                output_stats['time_preload'] = os.popen(cmd).read().split('\\n')[0].split(' ')[-2]\n",
                "            else:\n",
                "                cmd = f\"{HOME_DIR}/orc/build/c++/test/FilterExp \\\n",
                "                    {file_base}_fpp{fpp}.orc {col_name} int point \\\n",
                "                    {target_key} {target_key} {proj_type}\"\n",
                "                output_stats['time'] = float(os.popen(cmd).read().split('\\n')[0].split(' ')[-1])*1000\n",
                "                output_stats['time_preload'] = float(os.popen(cmd).read().split('\\n')[0].split(' ')[-1])*1000\n",
                "            output_stats['format'] = fmt\n",
                "            output_stats['i'] = i\n",
                "            output_stats['fpp'] = fpp\n",
                "            output_stats['extra_size'] = os.path.getsize(f'{file_base}_fpp{fpp}.{fmt}') - \\\n",
                "                os.path.getsize(f'{file_base}.{fmt}')\n",
                "            parse_output(output_stats)\n",
                "collect_results()\n",
                "os.system('mv outputs/stats.csv ../outputs/{}_{}.csv'.format('bf_', timestamp))"
            ]
        }
    ],
    "metadata": {
        "kernelspec": {
            "display_name": "Python 3",
            "language": "python",
            "name": "python3"
        },
        "language_info": {
            "codemirror_mode": {
                "name": "ipython",
                "version": 3
            },
            "file_extension": ".py",
            "mimetype": "text/x-python",
            "name": "python",
            "nbconvert_exporter": "python",
            "pygments_lexer": "ipython3",
            "version": "3.8.10"
        },
        "orig_nbformat": 4,
        "vscode": {
            "interpreter": {
                "hash": "31f2aee4e71d21fbe5cf8b01ff0e069b9275f58929596ceb00d14d90e3e16cd6"
            }
        }
    },
    "nbformat": 4,
    "nbformat_minor": 2
}
