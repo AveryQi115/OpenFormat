{
    "cells": [
        {
            "cell_type": "code",
            "execution_count": 27,
            "metadata": {},
            "outputs": [],
            "source": [
                "# parquet-fromcsv -s core_r10m_c20_schema.txt -i core_r10m_c20.csv -o core_r10m_c20.parquet\n",
                "# /mnt/arrow-rs/target/release/examples/filterscan core_r10m_c20.parquet 4 int point 511 0\n",
                "# python3 ../../benchmark/generator_v2/filter_generator.py core_r10m_c20.csv core_r10m_c20_config.json ../../benchmark/generator_v2/filter_config/core_filter.yaml\n",
                "# cargo build --package parquet --example filterscan --features=\"arrow async\" --release \n",
                "\n",
                "## parquet cpp\n",
                "# /mnt/arrow-private/cpp/out/build/openformat-release/release/filter_scan core_r10m_c20.parquet --batch-size=1024 --columns=18 --filter_idx=18 --filter_type=1 --type=2 --v1=0000rg67SI8 --v2=5e7WzM1Ny9LMiGrx4rZBPVDih0"
            ]
        },
        {
            "cell_type": "code",
            "execution_count": 1,
            "metadata": {},
            "outputs": [],
            "source": [
                "import os\n",
                "import sys\n",
                "import datetime\n",
                "import pathlib\n",
                "import pandas as pd\n",
                "dir_path = pathlib.Path(os.path.abspath('')).parent.resolve()\n",
                "HOME_DIR = str(dir_path).split('/OpenFormat')[0]\n",
                "\n",
                "timestamp = datetime.datetime.now().strftime(\"%Y%m%d_%H%M%S\")\n",
                "\n",
                "PROJ_SRC_DIR = f'{HOME_DIR}/OpenFormat'\n",
                "sys.path.insert(1, f'{PROJ_SRC_DIR}')\n",
                "from python.scripts.utils import *"
            ]
        },
        {
            "cell_type": "code",
            "execution_count": 6,
            "metadata": {},
            "outputs": [
                {
                    "name": "stdout",
                    "output_type": "stream",
                    "text": [
                        "CPU times: user 3 µs, sys: 0 ns, total: 3 µs\n",
                        "Wall time: 7.15 µs\n",
                        "🤔 INFO: too many collisions in int_unique_list, 6366348 values just use (max_value + 1)!\n",
                        "🤔 INFO: too many collisions in int_unique_list, 546319 values just use (max_value + 1)!\n",
                        "🤔 INFO: too many collisions in int_unique_list, 73427 values just use (max_value + 1)!\n",
                        "🤔 INFO: too many collisions in int_unique_list, 6312 values just use (max_value + 1)!\n",
                        "🤔 INFO: too many collisions in int_unique_list, 7536 values just use (max_value + 1)!\n",
                        "🤔 INFO: too many collisions in int_unique_list, 830938 values just use (max_value + 1)!\n",
                        "🤔 INFO: too many collisions in string_unique_list, generating time:156.1197190284729!\n",
                        "Finish core dataset! 🎉🎉🎉🎉🎉🎉\n",
                        "Generating Done!!\n"
                    ]
                },
                {
                    "data": {
                        "text/plain": [
                            "0"
                        ]
                    },
                    "execution_count": 6,
                    "metadata": {},
                    "output_type": "execute_result"
                }
            ],
            "source": [
                "%time\n",
                "# generate csv\n",
                "file_base = 'core_r10m_c20_new'\n",
                "os.chdir(f'{PROJ_SRC_DIR}/benchmark/generator_v2')\n",
                "os.system(f'python3 gen_workloads.py core 10000000 20 {file_base}')\n",
                "os.system(f'cp -r core_r10m_c20_new {PROJ_SRC_DIR}/python/index')\n",
                "os.system(f'cp {file_base}/gen_data/{file_base}.csv {PROJ_SRC_DIR}/python/data_gen')"
            ]
        },
        {
            "cell_type": "code",
            "execution_count": 7,
            "metadata": {},
            "outputs": [
                {
                    "name": "stdout",
                    "output_type": "stream",
                    "text": [
                        "loading config from ./experiments/orc_default.json ...\n",
                        "----Running experiment:----\n",
                        "SNAPPY_speed_0.8\n",
                        "write orc time (s): 37.18224501609802\n",
                        "loading config from /mnt/OpenFormat/python/experiments/orc_default.json ...\n"
                    ]
                },
                {
                    "data": {
                        "text/plain": [
                            "0"
                        ]
                    },
                    "execution_count": 7,
                    "metadata": {},
                    "output_type": "execute_result"
                }
            ],
            "source": [
                "# generate parquet and orc\n",
                "# parquet-fromcsv -s core_r10m_c20_schema.txt -i core_r10m_c20.csv -o core_r10m_c20.parquet -f tsv\n",
                "# df = pd.read_csv('core_r10m_c20.csv', header=None, sep='\\t')\n",
                "# df.to_csv('core_r10m_c20.csv', index=False, header=False)\n",
                "os.chdir(f'{PROJ_SRC_DIR}/python')\n",
                "os.system(f'python3 scripts/orc_exp.py {file_base} orc_default')\n",
                "os.chdir(f'{PROJ_SRC_DIR}/python/index')\n",
                "os.system(f'parquet-fromcsv -s {file_base}/gen_data/{file_base}_arrow_schema.txt -i \\\n",
                "    {file_base}/gen_data/{file_base}.csv -o {file_base}.parquet')\n",
                "orc_config = enumerate_config(f'{PROJ_SRC_DIR}/python/experiments/orc_default.json')\n",
                "orc_name_suffix = '_' + \"_\".join([str(i) for i in list(orc_config[0].values())]) + '.orc'\n",
                "os.system(f'mv ../{file_base}{orc_name_suffix} ./{file_base}.orc')"
            ]
        },
        {
            "cell_type": "code",
            "execution_count": 8,
            "metadata": {},
            "outputs": [
                {
                    "name": "stdout",
                    "output_type": "stream",
                    "text": [
                        "No satisfied pointer filters\n",
                        "No satisfied pointer filters\n",
                        "No satisfied pointer filters\n",
                        "No satisfied pointer filters\n",
                        "No satisfied pointer filters\n",
                        "No satisfied pointer filters\n",
                        "No satisfied pointer filters\n",
                        "No satisfied pointer filters\n",
                        "CPU times: user 5.05 ms, sys: 6.31 ms, total: 11.4 ms\n",
                        "Wall time: 38.4 s\n"
                    ]
                },
                {
                    "name": "stderr",
                    "output_type": "stream",
                    "text": [
                        "cp: cannot stat 'point*.csv': No such file or directory\n"
                    ]
                },
                {
                    "data": {
                        "text/plain": [
                            "0"
                        ]
                    },
                    "execution_count": 8,
                    "metadata": {},
                    "output_type": "execute_result"
                }
            ],
            "source": [
                "%%time\n",
                "# generate filters\n",
                "# config_name = '../../benchmark/generator_v2/filter_config/core_filter.yaml'\n",
                "# config_name = 'filter_config_sort_point.yaml'\n",
                "config_name = 'filter_config_sort_range.yaml'\n",
                "# a parameter than force the generator to stick to one column\n",
                "# we chose col 9 and 11 to test zone map\n",
                "designated_idx = 9\n",
                "# designated_idx =11 \n",
                "# designated_idx = ''\n",
                "os.system(f'rm -rf point*.csv range*.csv')\n",
                "os.system(f'''python3 ../../benchmark/generator_v2/filter_generator.py \\\n",
                "    core_r10m_c20.csv core_r10m_c20_config.json {config_name} {designated_idx}''')\n",
                "config_name_prefix = config_name.split('.')[0]\n",
                "os.makedirs(f\"{config_name_prefix}_{designated_idx}\", exist_ok=True)\n",
                "os.system(f'rm -rf {config_name_prefix}_{designated_idx}/*')\n",
                "os.system(f\"cp point*.csv {config_name_prefix}_{designated_idx}\")\n",
                "os.system(f\"cp range*.csv {config_name_prefix}_{designated_idx}\")"
            ]
        },
        {
            "cell_type": "code",
            "execution_count": 4,
            "metadata": {},
            "outputs": [
                {
                    "name": "stderr",
                    "output_type": "stream",
                    "text": [
                        "   Compiling parquet v31.0.0 (/mnt/arrow-rs/parquet)\n",
                        "warning: unused import: `arrow::util::pretty::print_batches`\n",
                        "  --> parquet/./examples/filterscan.rs:18:5\n",
                        "   |\n",
                        "18 | use arrow::util::pretty::print_batches;\n",
                        "   |     ^^^^^^^^^^^^^^^^^^^^^^^^^^^^^^^^^^\n",
                        "   |\n",
                        "   = note: `#[warn(unused_imports)]` on by default\n",
                        "\n",
                        "warning: unused import: `std::process::Command`\n",
                        "  --> parquet/./examples/filterscan.rs:27:5\n",
                        "   |\n",
                        "27 | use std::process::Command;\n",
                        "   |     ^^^^^^^^^^^^^^^^^^^^^\n",
                        "\n"
                    ]
                },
                {
                    "name": "stdout",
                    "output_type": "stream",
                    "text": [
                        "[  8%] Built target zlib_ep\n",
                        "[ 25%] Built target protobuf_ep\n",
                        "[ 30%] Built target lz4_ep\n",
                        "[ 44%] Built target snappy_ep\n",
                        "[ 45%] Built target zstd_ep\n",
                        "[ 54%] Built target googletest_ep\n",
                        "[ 98%] Built target orc\n",
                        "[100%] Built target FilterExp\n"
                    ]
                },
                {
                    "name": "stderr",
                    "output_type": "stream",
                    "text": [
                        "warning: `parquet` (example \"filterscan\") generated 2 warnings\n",
                        "    Finished release [optimized] target(s) in 33.92s\n"
                    ]
                }
            ],
            "source": [
                "# compile binaries\n",
                "# parquet\n",
                "os.chdir(f'{HOME_DIR}/arrow-rs')\n",
                "os.system('cargo build --package parquet --example filterscan --features=\"arrow async\" --release')\n",
                "pq_exec = f'{HOME_DIR}/arrow-rs/target/release/examples/filterscan'\n",
                "os.system('cargo install --path parquet --features=cli')\n",
                "# orc\n",
                "os.chdir(f'{HOME_DIR}/orc')\n",
                "os.system('/usr/bin/cmake --build /mnt/orc/build --config Release --target FilterExp -j 10 --')\n",
                "orc_exec = f'{HOME_DIR}/orc/build/c++/test/FilterExp'\n",
                "os.chdir(f'{HOME_DIR}/OpenFormat/python/index')"
            ]
        },
        {
            "cell_type": "code",
            "execution_count": 3,
            "metadata": {},
            "outputs": [
                {
                    "name": "stdout",
                    "output_type": "stream",
                    "text": [
                        "CPU times: user 1.39 s, sys: 3.93 s, total: 5.31 s\n",
                        "Wall time: 37min 26s\n"
                    ]
                },
                {
                    "data": {
                        "text/plain": [
                            "0"
                        ]
                    },
                    "execution_count": 3,
                    "metadata": {},
                    "output_type": "execute_result"
                }
            ],
            "source": [
                "%%time\n",
                "# run point exps, deprecated\n",
                "import yaml\n",
                "import numpy as np\n",
                "config = yaml.safe_load(open(config_name))\n",
                "config_list = config['filter_config']\n",
                "\n",
                "os.system('rm outputs/stats.json')\n",
                "output_stats = {}\n",
                "for i in range(3):\n",
                "    for fmt in ['parquet', 'orc']:\n",
                "        for config in config_list:\n",
                "            expectation = config.get('selectivity_expectation')\n",
                "            point_filters = pd.read_csv(f'point_{expectation}.csv')\n",
                "            for proj_type in ['all', 'one']:\n",
                "                for index, row in point_filters.iterrows():\n",
                "                    val = np.int64(row['value']) if row['dtype'] == 'int' else row['value']\n",
                "                    os.system('sync; echo 3 > /proc/sys/vm/drop_caches')\n",
                "                    if fmt == 'parquet':\n",
                "                        output_stats['time'] = os.popen(f\"{HOME_DIR}/arrow-rs/target/release/examples/filterscan \\\n",
                "                            core_r10m_c20.parquet {row['col_idx']} {row['dtype']} point \\\n",
                "                                {val} 0 {proj_type}\").read().split('\\n')[0].split(' ')[-2]\n",
                "                        output_stats['time_preload'] = os.popen(f\"{HOME_DIR}/arrow-rs/target/release/examples/filterscan \\\n",
                "                            core_r10m_c20.parquet {row['col_idx']} {row['dtype']} point \\\n",
                "                                {val} 0 {proj_type}\").read().split('\\n')[0].split(' ')[-2]\n",
                "                    else:\n",
                "                        output_stats['time'] = float(os.popen(f\"{HOME_DIR}/orc/build/c++/test/FilterExp \\\n",
                "                        core_r10m_c20.orc f{row['col_idx']} {row['dtype']} point \\\n",
                "                            {val} 0 {proj_type}\").read().split('\\n')[0].split(' ')[-1])*1000\n",
                "                        output_stats['time_preload'] = float(os.popen(f\"{HOME_DIR}/orc/build/c++/test/FilterExp \\\n",
                "                            core_r10m_c20.orc f{row['col_idx']} {row['dtype']} point \\\n",
                "                                {val} 0 {proj_type}\").read().split('\\n')[0].split(' ')[-1])*1000\n",
                "                    output_stats['format'] = fmt\n",
                "                    output_stats['i'] = i\n",
                "                    output_stats['proj_type'] = proj_type\n",
                "                    output_stats['selectivity'] = expectation\n",
                "                    parse_output(output_stats)\n",
                "collect_results()\n",
                "os.system('mv outputs/stats.csv ../outputs/{}_{}.csv'.format('filter_exp', timestamp))"
            ]
        },
        {
            "cell_type": "code",
            "execution_count": 11,
            "metadata": {},
            "outputs": [
                {
                    "name": "stdout",
                    "output_type": "stream",
                    "text": [
                        "CPU times: user 1.64 s, sys: 5.48 s, total: 7.12 s\n",
                        "Wall time: 48min 57s\n"
                    ]
                },
                {
                    "data": {
                        "text/plain": [
                            "0"
                        ]
                    },
                    "execution_count": 11,
                    "metadata": {},
                    "output_type": "execute_result"
                }
            ],
            "source": [
                "%%time\n",
                "# run range exps, deprecated\n",
                "import yaml\n",
                "import numpy as np\n",
                "config = yaml.safe_load(open(config_name))\n",
                "config_list = config['filter_config']\n",
                "\n",
                "os.system('rm outputs/stats.json')\n",
                "output_stats = {}\n",
                "for i in range(3):\n",
                "    for fmt in ['parquet', 'orc']:\n",
                "        for config in config_list:\n",
                "            expectation = config.get('selectivity_expectation')\n",
                "            range_filters = pd.read_csv(f'range_{expectation}.csv')\n",
                "            for proj_type in ['all', 'one']:\n",
                "                for index, row in range_filters.iterrows():\n",
                "                    val1 = np.int64(row['val1']) if row['dtype'] == 'int' else row['val1']\n",
                "                    val2 = np.int64(row['val2']) if row['dtype'] == 'int' else row['val2']\n",
                "                    os.system('sync; echo 3 > /proc/sys/vm/drop_caches')\n",
                "                    if fmt == 'parquet':\n",
                "                        output_stats['time'] = os.popen(f\"{HOME_DIR}/arrow-rs/target/release/examples/filterscan \\\n",
                "                            core_r10m_c20.parquet {row['col_idx']} {row['dtype']} range \\\n",
                "                                {val1} {val2} {proj_type}\").read().split('\\n')[0].split(' ')[-2]\n",
                "                        output_stats['time_preload'] = os.popen(f\"{HOME_DIR}/arrow-rs/target/release/examples/filterscan \\\n",
                "                            core_r10m_c20.parquet {row['col_idx']} {row['dtype']} range \\\n",
                "                                {val1} {val2} {proj_type}\").read().split('\\n')[0].split(' ')[-2]\n",
                "                    else:\n",
                "                        output_stats['time'] = float(os.popen(f\"{HOME_DIR}/orc/build/c++/test/FilterExp \\\n",
                "                        core_r10m_c20.orc f{row['col_idx']} {row['dtype']} range \\\n",
                "                            {val1} {val2} {proj_type}\").read().split('\\n')[0].split(' ')[-1])*1000\n",
                "                        output_stats['time_preload'] = float(os.popen(f\"{HOME_DIR}/orc/build/c++/test/FilterExp \\\n",
                "                            core_r10m_c20.orc f{row['col_idx']} {row['dtype']} range \\\n",
                "                                {val1} {val2} {proj_type}\").read().split('\\n')[0].split(' ')[-1])*1000\n",
                "                    output_stats['format'] = fmt\n",
                "                    output_stats['i'] = i\n",
                "                    output_stats['proj_type'] = proj_type\n",
                "                    output_stats['selectivity'] = expectation\n",
                "                    parse_output(output_stats)\n",
                "collect_results()\n",
                "os.system('mv outputs/stats.csv ../outputs/{}_{}.csv'.format('filter_range_sort', timestamp))"
            ]
        },
        {
            "cell_type": "code",
            "execution_count": 9,
            "metadata": {},
            "outputs": [
                {
                    "name": "stdout",
                    "output_type": "stream",
                    "text": [
                        "CPU times: user 1.07 s, sys: 3.79 s, total: 4.85 s\n",
                        "Wall time: 3min 13s\n"
                    ]
                },
                {
                    "data": {
                        "text/plain": [
                            "0"
                        ]
                    },
                    "execution_count": 9,
                    "metadata": {},
                    "output_type": "execute_result"
                }
            ],
            "source": [
                "%%time\n",
                "# select\n",
                "import yaml\n",
                "import numpy as np\n",
                "config = yaml.safe_load(open(config_name))\n",
                "config_list = config['filter_config']\n",
                "\n",
                "os.system('rm outputs/stats.json')\n",
                "output_stats = {}\n",
                "for i in range(3):\n",
                "    for fmt in ['parquet', 'orc']:\n",
                "        for config in config_list:\n",
                "            expectation = config.get('selectivity_expectation')\n",
                "            try:\n",
                "                range_filters = pd.read_csv(f'range_{expectation}.csv')\n",
                "            except:\n",
                "                continue\n",
                "            for proj_type in ['one']:\n",
                "                for index, row in range_filters.iterrows():\n",
                "                    val1 = np.int64(row['val1']) if row['dtype'] == 'int' else row['val1']\n",
                "                    val2 = np.int64(row['val2']) if row['dtype'] == 'int' else row['val2']\n",
                "                    os.system('sync; echo 3 > /proc/sys/vm/drop_caches')\n",
                "                    if fmt == 'parquet':\n",
                "                        cmd = f\"parquet-filterscan-noeval -f \\\n",
                "                            core_r10m_c20.parquet -i {row['col_idx']} -l {val1} -r \\\n",
                "                                {val2}\"\n",
                "                        output_stats['time'] = os.popen(cmd).read().split('\\n')[0].split(' ')[-2]\n",
                "                        output_stats['time_preload'] = os.popen(cmd).read().split('\\n')[0].split(' ')[-2]\n",
                "                    else:\n",
                "                        cmd = f\"{HOME_DIR}/orc/build/c++/test/FilterExp \\\n",
                "                        core_r10m_c20.orc f{row['col_idx']} {row['dtype']} range \\\n",
                "                            {val1} {val2} {proj_type}\"\n",
                "                        output_stats['time'] = float(os.popen(cmd).read().split('\\n')[0].split(' ')[-1])*1000\n",
                "                        output_stats['time_preload'] = float(os.popen(cmd).read().split('\\n')[0].split(' ')[-1])*1000\n",
                "                    output_stats['format'] = fmt\n",
                "                    output_stats['i'] = i\n",
                "                    output_stats['proj_type'] = proj_type\n",
                "                    output_stats['selectivity'] = expectation\n",
                "                    parse_output(output_stats)\n",
                "collect_results()\n",
                "os.system('mv outputs/stats.csv ../outputs/{}_{}.csv'.format(f'filter_range_col{designated_idx}_eval', timestamp))"
            ]
        },
        {
            "cell_type": "code",
            "execution_count": 20,
            "metadata": {},
            "outputs": [
                {
                    "name": "stdout",
                    "output_type": "stream",
                    "text": [
                        "CPU times: user 43.5 ms, sys: 26.3 ms, total: 69.8 ms\n",
                        "Wall time: 35.9 s\n"
                    ]
                },
                {
                    "data": {
                        "text/plain": [
                            "0"
                        ]
                    },
                    "execution_count": 20,
                    "metadata": {},
                    "output_type": "execute_result"
                }
            ],
            "source": [
                "%%time\n",
                "# run range exps, parquet select scan e2e\n",
                "import yaml\n",
                "import numpy as np\n",
                "config = yaml.safe_load(open(config_name))\n",
                "config_list = config['filter_config']\n",
                "\n",
                "os.system('rm outputs/stats.json')\n",
                "output_stats = {}\n",
                "for i in range(3):\n",
                "    output_stats['i'] = i\n",
                "    for fmt in ['parquet']:\n",
                "        output_stats['format'] = fmt\n",
                "        for config in config_list:\n",
                "            expectation = config.get('selectivity_expectation')\n",
                "            try:\n",
                "                range_filters = pd.read_csv(f'range_{expectation}.csv')\n",
                "            except:\n",
                "                continue\n",
                "            for proj_type in ['all']:\n",
                "                output_stats['proj_type'] = proj_type\n",
                "            # val1 = 5.797\n",
                "            # val2 = 34300092.4141\n",
                "            for index, row in range_filters.iterrows():\n",
                "                val1 = np.int64(row['val1']) if row['dtype'] == 'int' else row['val1']\n",
                "                val2 = np.int64(row['val2']) if row['dtype'] == 'int' else row['val2']\n",
                "                os.system('sync; echo 3 > /proc/sys/vm/drop_caches')\n",
                "                output_stats['time'] = os.popen(f\"{HOME_DIR}/arrow-rs/target/release/examples/filterscan \\\n",
                "                                    core_r10m_c20.parquet 11 float range \\\n",
                "                                        {val1} {val2} all\").read().split('\\n')[0].split(' ')[-2]\n",
                "                output_stats['time_preload'] = os.popen(f\"{HOME_DIR}/arrow-rs/target/release/examples/filterscan \\\n",
                "                    core_r10m_c20.parquet 11 float range \\\n",
                "                                        {val1} {val2} all\").read().split('\\n')[0].split(' ')[-2]\n",
                "                output_stats['selectivity'] = expectation\n",
                "                parse_output(output_stats)\n",
                "collect_results()\n",
                "os.system('mv outputs/stats.csv ../outputs/{}_{}.csv'.format('filter_range_pq_e2e', timestamp))"
            ]
        }
    ],
    "metadata": {
        "kernelspec": {
            "display_name": "Python 3",
            "language": "python",
            "name": "python3"
        },
        "language_info": {
            "codemirror_mode": {
                "name": "ipython",
                "version": 3
            },
            "file_extension": ".py",
            "mimetype": "text/x-python",
            "name": "python",
            "nbconvert_exporter": "python",
            "pygments_lexer": "ipython3",
            "version": "3.8.10"
        },
        "orig_nbformat": 4,
        "vscode": {
            "interpreter": {
                "hash": "31f2aee4e71d21fbe5cf8b01ff0e069b9275f58929596ceb00d14d90e3e16cd6"
            }
        }
    },
    "nbformat": 4,
    "nbformat_minor": 2
}
