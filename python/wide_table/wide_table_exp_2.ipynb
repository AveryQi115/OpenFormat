{
 "cells": [
  {
   "cell_type": "code",
   "execution_count": 1,
   "metadata": {},
   "outputs": [
    {
     "name": "stdout",
     "output_type": "stream",
     "text": [
      "/mnt/OpenFormat/python/wide_table\n"
     ]
    }
   ],
   "source": [
    "import os\n",
    "import sys\n",
    "import datetime\n",
    "import pathlib\n",
    "import pandas as pd\n",
    "dir_path = pathlib.Path(os.path.abspath('')).resolve()\n",
    "HOME_DIR = str(dir_path).split('/OpenFormat')[0]\n",
    "\n",
    "timestamp = datetime.datetime.now().strftime(\"%Y%m%d_%H%M%S\")\n",
    "\n",
    "PROJ_SRC_DIR = f'{HOME_DIR}/OpenFormat'\n",
    "sys.path.insert(1, f'{PROJ_SRC_DIR}')\n",
    "from python.scripts.utils import *\n",
    "print(dir_path)"
   ]
  },
  {
   "cell_type": "code",
   "execution_count": 3,
   "metadata": {},
   "outputs": [],
   "source": [
    "num_rows_list = [100000] # 100000\n",
    "num_cols_list = [10,50, 100, 150, 200, 400, 600, 800, 1000]"
   ]
  },
  {
   "cell_type": "code",
   "execution_count": 3,
   "metadata": {},
   "outputs": [
    {
     "name": "stdout",
     "output_type": "stream",
     "text": [
      "CPU times: user 2.04 ms, sys: 591 µs, total: 2.63 ms\n",
      "Wall time: 22.3 ms\n"
     ]
    }
   ],
   "source": [
    "%%time\n",
    "# generate csv files\n",
    "for c in num_cols_list:\n",
    "    os.system(f'python3 gen_table.py {c}&')"
   ]
  },
  {
   "cell_type": "code",
   "execution_count": 4,
   "metadata": {},
   "outputs": [
    {
     "name": "stdout",
     "output_type": "stream",
     "text": [
      "loading config from /mnt/OpenFormat/python/experiments/pq_default.json ...\n",
      "loading config from /mnt/OpenFormat/python/experiments/orc_default.json ...\n",
      "begin num_cols: 10\n",
      "loading config from ./experiments/pq_default.json ...\n",
      "----Running experiment: 1 out of 1----\n",
      "SNAPPY_True_1048576_1048576_2.6_2.0\n",
      "write parquet time (s): 0.4850349426269531\n",
      "loading config from ./experiments/orc_default.json ...\n",
      "----Running experiment:----\n",
      "SNAPPY_speed_0.8\n",
      "write orc time (s): 1.5773646831512451\n",
      "begin num_cols: 50\n",
      "loading config from ./experiments/pq_default.json ...\n",
      "----Running experiment: 1 out of 1----\n",
      "SNAPPY_True_1048576_1048576_2.6_2.0\n",
      "write parquet time (s): 2.3670949935913086\n",
      "loading config from ./experiments/orc_default.json ...\n",
      "----Running experiment:----\n",
      "SNAPPY_speed_0.8\n",
      "write orc time (s): 7.900534629821777\n",
      "begin num_cols: 100\n",
      "loading config from ./experiments/pq_default.json ...\n",
      "----Running experiment: 1 out of 1----\n",
      "SNAPPY_True_1048576_1048576_2.6_2.0\n",
      "write parquet time (s): 4.705190896987915\n",
      "loading config from ./experiments/orc_default.json ...\n",
      "----Running experiment:----\n",
      "SNAPPY_speed_0.8\n",
      "write orc time (s): 14.676825046539307\n",
      "begin num_cols: 150\n",
      "loading config from ./experiments/pq_default.json ...\n",
      "----Running experiment: 1 out of 1----\n",
      "SNAPPY_True_1048576_1048576_2.6_2.0\n",
      "write parquet time (s): 7.444526672363281\n",
      "loading config from ./experiments/orc_default.json ...\n",
      "----Running experiment:----\n",
      "SNAPPY_speed_0.8\n",
      "write orc time (s): 22.37038779258728\n",
      "begin num_cols: 200\n",
      "loading config from ./experiments/pq_default.json ...\n",
      "----Running experiment: 1 out of 1----\n",
      "SNAPPY_True_1048576_1048576_2.6_2.0\n",
      "write parquet time (s): 10.273601055145264\n",
      "loading config from ./experiments/orc_default.json ...\n",
      "----Running experiment:----\n",
      "SNAPPY_speed_0.8\n",
      "write orc time (s): 29.52446699142456\n",
      "begin num_cols: 400\n",
      "loading config from ./experiments/pq_default.json ...\n",
      "----Running experiment: 1 out of 1----\n",
      "SNAPPY_True_1048576_1048576_2.6_2.0\n",
      "write parquet time (s): 24.66644597053528\n",
      "loading config from ./experiments/orc_default.json ...\n",
      "----Running experiment:----\n",
      "SNAPPY_speed_0.8\n",
      "write orc time (s): 60.23095774650574\n",
      "begin num_cols: 600\n",
      "loading config from ./experiments/pq_default.json ...\n",
      "----Running experiment: 1 out of 1----\n",
      "SNAPPY_True_1048576_1048576_2.6_2.0\n",
      "write parquet time (s): 43.00078797340393\n",
      "loading config from ./experiments/orc_default.json ...\n",
      "----Running experiment:----\n",
      "SNAPPY_speed_0.8\n",
      "write orc time (s): 92.83694696426392\n",
      "begin num_cols: 800\n",
      "loading config from ./experiments/pq_default.json ...\n",
      "----Running experiment: 1 out of 1----\n",
      "SNAPPY_True_1048576_1048576_2.6_2.0\n",
      "write parquet time (s): 66.4372444152832\n",
      "loading config from ./experiments/orc_default.json ...\n",
      "----Running experiment:----\n",
      "SNAPPY_speed_0.8\n",
      "write orc time (s): 125.44200229644775\n",
      "begin num_cols: 1000\n",
      "loading config from ./experiments/pq_default.json ...\n",
      "----Running experiment: 1 out of 1----\n",
      "SNAPPY_True_1048576_1048576_2.6_2.0\n",
      "write parquet time (s): 92.98585319519043\n",
      "loading config from ./experiments/orc_default.json ...\n",
      "----Running experiment:----\n",
      "SNAPPY_speed_0.8\n",
      "write orc time (s): 158.61485958099365\n"
     ]
    }
   ],
   "source": [
    "# generate parquet and orc files \n",
    "pq_config = enumerate_config(f'{PROJ_SRC_DIR}/python/experiments/pq_default.json')\n",
    "orc_config = enumerate_config(f'{PROJ_SRC_DIR}/python/experiments/orc_default.json')\n",
    "pq_name_suffix = '_' + \"_\".join([str(i) for i in list(pq_config[0].values())]) + '.parquet'\n",
    "orc_name_suffix = '_' + \"_\".join([str(i) for i in list(orc_config[0].values())]) + '.orc'\n",
    "for num_rows in num_rows_list:\n",
    "    for num_cols in num_cols_list:\n",
    "        print(f'begin num_cols: {num_cols}')\n",
    "        base_name = f'idx_run2_max9_c{num_cols}'\n",
    "        os.system(f'cp {base_name}.csv {PROJ_SRC_DIR}/python/data_gen/')\n",
    "        \n",
    "        os.chdir(f'{PROJ_SRC_DIR}/python')\n",
    "        os.system(f'python3 scripts/parquet_exp.py {base_name} pq_default -r=false -o=false')\n",
    "        os.system(f'python3 scripts/orc_exp.py {base_name} orc_default')\n",
    "        os.chdir(f'{dir_path}')\n",
    "        os.system(f'mv ../{base_name}{orc_name_suffix} ./{base_name}.orc')\n",
    "        os.system(f'mv ../{base_name}{pq_name_suffix} ./{base_name}.parquet')"
   ]
  },
  {
   "cell_type": "code",
   "execution_count": 4,
   "metadata": {},
   "outputs": [
    {
     "name": "stdout",
     "output_type": "stream",
     "text": [
      "/mnt/OpenFormat/python/wide_table\n"
     ]
    }
   ],
   "source": [
    "# get avg time for decoding first 3 col independently\n",
    "!pwd\n",
    "os.system('rm -f outputs/stats.json')\n",
    "output_stats = {}\n",
    "for i in range(5):\n",
    "    for fmt in ['parquet', 'orc']:\n",
    "        for num_rows in num_rows_list:\n",
    "            for num_cols in num_cols_list:\n",
    "                base_name = f'idx_run2_max9_c{num_cols}'\n",
    "                for col_idx in range(3):\n",
    "                    dtype = 'string'\n",
    "                    os.system('sync; echo 3 > /proc/sys/vm/drop_caches')\n",
    "                    if fmt == 'parquet':\n",
    "                        output_stats['time'] = os.popen(f\"parquet-test-single-col \\\n",
    "                            -f {base_name}.parquet -i {col_idx}\").read().split('\\n')[0].split(' ')[-2]\n",
    "                        output_stats['time_preload'] = os.popen(f\"parquet-test-single-col \\\n",
    "                            -f {base_name}.parquet -i {col_idx}\").read().split('\\n')[0].split(' ')[-2]\n",
    "                    else:\n",
    "                        output_stats['time'] = float(os.popen(f\"{HOME_DIR}/orc/build/c++/test/FilterExp \\\n",
    "                        {base_name}.orc f{col_idx} {dtype} none \\\n",
    "                            0 0 one\").read().split('\\n')[0].split(' ')[-1])*1000\n",
    "                        output_stats['time_preload'] = float(os.popen(f\"{HOME_DIR}/orc/build/c++/test/FilterExp \\\n",
    "                        {base_name}.orc f{col_idx} {dtype} none \\\n",
    "                            0 0 one\").read().split('\\n')[0].split(' ')[-1])*1000\n",
    "                    output_stats['format'] = fmt\n",
    "                    output_stats['i'] = i\n",
    "                    output_stats['col_idx'] = col_idx\n",
    "                    output_stats['num_cols'] = num_cols\n",
    "                    output_stats['num_rows'] = num_rows\n",
    "                    parse_output(output_stats)\n",
    "collect_results()\n"
   ]
  },
  {
   "cell_type": "code",
   "execution_count": 5,
   "metadata": {},
   "outputs": [
    {
     "data": {
      "text/plain": [
       "0"
      ]
     },
     "execution_count": 5,
     "metadata": {},
     "output_type": "execute_result"
    }
   ],
   "source": [
    "os.system('mv outputs/stats.csv ../outputs/{}_{}.csv'.format('projection_exp_v2', timestamp))"
   ]
  },
  {
   "cell_type": "code",
   "execution_count": null,
   "metadata": {},
   "outputs": [],
   "source": []
  },
  {
   "cell_type": "code",
   "execution_count": null,
   "metadata": {},
   "outputs": [],
   "source": []
  }
 ],
 "metadata": {
  "kernelspec": {
   "display_name": "Python 3",
   "language": "python",
   "name": "python3"
  },
  "language_info": {
   "codemirror_mode": {
    "name": "ipython",
    "version": 3
   },
   "file_extension": ".py",
   "mimetype": "text/x-python",
   "name": "python",
   "nbconvert_exporter": "python",
   "pygments_lexer": "ipython3",
   "version": "3.8.10"
  },
  "orig_nbformat": 4,
  "vscode": {
   "interpreter": {
    "hash": "31f2aee4e71d21fbe5cf8b01ff0e069b9275f58929596ceb00d14d90e3e16cd6"
   }
  }
 },
 "nbformat": 4,
 "nbformat_minor": 2
}
